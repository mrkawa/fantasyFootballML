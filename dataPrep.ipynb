{
 "cells": [
  {
   "cell_type": "code",
   "execution_count": 1,
   "metadata": {},
   "outputs": [],
   "source": [
    "import pandas as pd\n",
    "import numpy as np\n",
    "import matplotlib.pyplot as plt\n",
    "import os, sys\n",
    "from datetime import date\n",
    "from sklearn.model_selection import train_test_split\n",
    "\n",
    "pd.set_option(\"display.max_rows\", 100, \"display.max_columns\", 100)\n",
    "pd.set_option('display.max_colwidth', None)\n",
    "pd.set_option('display.float_format', lambda x: '%.3f' % x)\n",
    "\n",
    "def p(s):\n",
    "    print(s)\n",
    "    \n",
    "pd.DataFrame.len = pd.Index.len = lambda x: print(len(x))"
   ]
  },
  {
   "cell_type": "code",
   "execution_count": 2,
   "metadata": {},
   "outputs": [
    {
     "name": "stderr",
     "output_type": "stream",
     "text": [
      "C:\\Users\\mrkawa\\Anaconda3\\lib\\site-packages\\IPython\\core\\interactiveshell.py:3063: DtypeWarning: Columns (11,12,13,14,15,16,23,24,62,63,79,80,81,93,94,95,100,101,102,132,133,134,135,136,137,138,139,144,145,150,157,158,164,165,166,167,184,204,205,206,207,219,249,250,251,255,257,260,261,262,263,306,310) have mixed types.Specify dtype option on import or set low_memory=False.\n",
      "  interactivity=interactivity, compiler=compiler, result=result)\n"
     ]
    }
   ],
   "source": [
    "# Read raw data - from local file if available, else from internet and write to local file\n",
    "if os.path.exists('data/data.csv.gz'):\n",
    "    dfFull = pd.read_csv('data/data.csv.gz', compression='gzip',index_col=0)\n",
    "elif os.path.exists('../data/data.csv.gz'):\n",
    "    dfFull = pd.read_csv('../data/data.csv.gz', compression='gzip',index_col=0)\n",
    "else:\n",
    "    YEARS = np.arange(1999,date.today().year)\n",
    "    dfFull = pd.DataFrame()\n",
    "    for i in YEARS:\n",
    "        sys.stdout.write(f'{i} \\r'); sys.stdout.flush()\n",
    "        iData = pd.read_csv('https://github.com/guga31bb/nflfastR-data/blob/master/data/' \\\n",
    "                             'play_by_play_' + str(i) + '.csv.gz?raw=True',\n",
    "                             compression='gzip', low_memory=False)\n",
    "        dfFull = dfFull.append(iData, sort=True)\n",
    "\n",
    "    dfFull.reset_index(drop=True, inplace=True)\n",
    "    dfFull.to_csv('../data/data.csv.gz', compression='gzip')"
   ]
  },
  {
   "cell_type": "markdown",
   "metadata": {},
   "source": [
    "# Flex"
   ]
  },
  {
   "cell_type": "code",
   "execution_count": 50,
   "metadata": {},
   "outputs": [],
   "source": [
    "# Lookup table with all features of the raw data\n",
    "featureInfo = pd.read_csv('features.csv').iloc[:,0:4]\n",
    "# print(featureInfo[featureInfo.Use==1])\n",
    "\n",
    "idCols = featureInfo[(featureInfo.Use==1) & (featureInfo.Type == 'ID')].Field.tolist() + ['receiver_player_name']\n",
    "valCols = featureInfo[(featureInfo.Use==1) & (featureInfo.Type != 'ID')].Field.tolist() + ['season', 'game_id'] \n",
    "notUsed = [col for col in dfFull.columns if col not in idCols + valCols]\n",
    "df = dfFull[['season'] + [x for x in featureInfo[(featureInfo.Use==1)].Field] + ['receiver_player_name','rusher_player_name','passer_player_name']]\n",
    "                                                                                 \n",
    "def lookup(s):\n",
    "    return featureInfo[featureInfo.Field.str.contains(s)]"
   ]
  },
  {
   "cell_type": "code",
   "execution_count": 51,
   "metadata": {},
   "outputs": [],
   "source": [
    "# Filter to relevant plays\n",
    "df = df.dropna(subset=['receiver_player_name','rusher_player_name'], how='all')#[df.season>=2011]\n",
    "\n",
    "df['player_name'] = df.receiver_player_name.fillna(df.rusher_player_name)\n",
    "df['rec_yards'] = df.pass_attempt * df.yards_gained\n",
    "df['rush_yards'] = df.rush_attempt * df.yards_gained"
   ]
  },
  {
   "cell_type": "markdown",
   "metadata": {},
   "source": [
    "## Season total stats"
   ]
  },
  {
   "cell_type": "code",
   "execution_count": 5,
   "metadata": {},
   "outputs": [
    {
     "data": {
      "text/plain": [
       "Index(['complete_pass', 'fumble', 'incomplete_pass', 'interception',\n",
       "       'no_huddle', 'pass_attempt', 'pass_touchdown', 'qb_dropback', 'qb_hit',\n",
       "       'rush_attempt', 'rush_touchdown', 'shotgun', 'tackled_for_loss',\n",
       "       'touchdown', 'air_yards', 'yards_after_catch', 'yards_gained',\n",
       "       'rec_yards', 'rush_yards'],\n",
       "      dtype='object')"
      ]
     },
     "execution_count": 5,
     "metadata": {},
     "output_type": "execute_result"
    }
   ],
   "source": [
    "# Sum all metrics per player per season\n",
    "seasonTotals = df.groupby(['season','player_name']).sum().drop(['play_id','qb_scramble','sack','safety'],axis=1)\n",
    "\n",
    "seasonTotals.columns\n",
    "# seasonTotals.describe().transpose()[['min','max','mean','std']] #df info"
   ]
  },
  {
   "cell_type": "code",
   "execution_count": 6,
   "metadata": {},
   "outputs": [],
   "source": [
    "# Calculate fantasy points\n",
    "if not 'fanPts' in seasonTotals.columns:\n",
    "    seasonTotals.insert(0,'fanPts',0)\n",
    "\n",
    "ppr = 0\n",
    "seasonTotals.fanPts = seasonTotals.yards_gained/10 + seasonTotals.touchdown*6 - 2*seasonTotals.fumble + seasonTotals.complete_pass*ppr"
   ]
  },
  {
   "cell_type": "code",
   "execution_count": 7,
   "metadata": {},
   "outputs": [],
   "source": [
    "# Append data from N previous seasons as new columns \n",
    "seasonHist = seasonTotals.copy()\n",
    "currentYear = 2019\n",
    "lookback = 3\n",
    "for i in range(1,lookback+1):\n",
    "    temp = seasonTotals.copy().reset_index()\n",
    "    temp = temp[temp.season.isin(range(1999,currentYear-i+1))]\n",
    "    temp['season'] = temp.season+i\n",
    "    seasonHist = seasonHist.join(temp.set_index(['season','player_name']),how='outer',rsuffix=f'-{i}')\n",
    "\n",
    "# Remove no longer active players\n",
    "# seasonHist = seasonHist.dropna(subset=['fanPts'])\n",
    "seasonHist.to_csv('seasonHist.csv')"
   ]
  },
  {
   "cell_type": "markdown",
   "metadata": {},
   "source": [
    "## Game average stats"
   ]
  },
  {
   "cell_type": "code",
   "execution_count": 8,
   "metadata": {},
   "outputs": [
    {
     "data": {
      "text/plain": [
       "Index(['complete_pass', 'fumble', 'incomplete_pass', 'interception',\n",
       "       'no_huddle', 'pass_attempt', 'pass_touchdown', 'qb_dropback', 'qb_hit',\n",
       "       'rush_attempt', 'rush_touchdown', 'shotgun', 'tackled_for_loss',\n",
       "       'touchdown', 'air_yards', 'yards_after_catch', 'yards_gained',\n",
       "       'rec_yards', 'rush_yards'],\n",
       "      dtype='object')"
      ]
     },
     "execution_count": 8,
     "metadata": {},
     "output_type": "execute_result"
    }
   ],
   "source": [
    "# Sum all metrics per player per season\n",
    "gameTotals = df.groupby(['season','player_name','game_id']).sum().drop(['play_id','qb_scramble','sack','safety'],axis=1)\n",
    "gameAvgs = gameTotals.groupby(['season','player_name']).mean()\n",
    "\n",
    "gameAvgs.columns\n",
    "# gameAvgs.describe().transpose()[['min','max','mean','std']] #df info\n",
    "# gameAvgs"
   ]
  },
  {
   "cell_type": "code",
   "execution_count": 9,
   "metadata": {},
   "outputs": [],
   "source": [
    "# Append data from N previous seasons as new columns \n",
    "gameAvgHist = gameAvgs.copy()\n",
    "currentYear = 2019\n",
    "lookback = 3\n",
    "for i in range(1,lookback+1):\n",
    "    temp = gameAvgs.copy().reset_index()\n",
    "    temp = temp[temp.season.isin(range(1999,currentYear-i+1))]\n",
    "    temp['season'] = temp.season+i\n",
    "    gameAvgHist = gameAvgHist.join(temp.set_index(['season','player_name']),how='outer',rsuffix=f'-{i}')\n",
    "\n",
    "gameAvgHist.to_csv('gameAvgHist.csv')"
   ]
  },
  {
   "cell_type": "code",
   "execution_count": 13,
   "metadata": {},
   "outputs": [],
   "source": [
    "# Join game avgs to season total df\n",
    "allStats = seasonHist.join(gameAvgHist, lsuffix='_seasonTotal', rsuffix='_avgPerGame')\n",
    "allStats.dropna(subset=['fanPts']).to_csv('allStats.csv')"
   ]
  }
 ],
 "metadata": {
  "kernelspec": {
   "display_name": "Python 3",
   "language": "python",
   "name": "python3"
  },
  "language_info": {
   "codemirror_mode": {
    "name": "ipython",
    "version": 3
   },
   "file_extension": ".py",
   "mimetype": "text/x-python",
   "name": "python",
   "nbconvert_exporter": "python",
   "pygments_lexer": "ipython3",
   "version": "3.7.6"
  }
 },
 "nbformat": 4,
 "nbformat_minor": 4
}
