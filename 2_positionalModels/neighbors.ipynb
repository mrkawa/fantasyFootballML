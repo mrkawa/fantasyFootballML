{
 "cells": [
  {
   "cell_type": "code",
   "execution_count": 1,
   "metadata": {},
   "outputs": [],
   "source": [
    "import pandas as pd\n",
    "import numpy as np\n",
    "import matplotlib.pyplot as plt\n",
    "import os, sys\n",
    "import math\n",
    "from datetime import date\n",
    "from sklearn import preprocessing\n",
    "from sklearn.model_selection import train_test_split\n",
    "from sklearn.model_selection import GridSearchCV\n",
    "from sklearn import neighbors\n",
    "from sklearn.metrics import mean_absolute_error, mean_squared_error, r2_score\n",
    "\n",
    "pd.set_option(\"display.max_rows\", 100, \"display.max_columns\", 100)\n",
    "# pd.set_option('display.max_colwidth', None)\n",
    "pd.set_option('display.float_format', lambda x: '%.3f' % x)\n",
    "\n",
    "def p(s):\n",
    "    print(s)\n",
    "    \n",
    "pd.DataFrame.len = pd.Index.len = lambda x: print(len(x))"
   ]
  },
  {
   "cell_type": "code",
   "execution_count": 2,
   "metadata": {},
   "outputs": [],
   "source": [
    "# Common function definitions\n",
    "def graphRes(act, pred):\n",
    "    ax = plt.gca()\n",
    "    for pos in positions:\n",
    "        ax.scatter(act[pos],pred[pos], label=f'{pos} ({r2_score(act[pos], pred[pos]).round(2)})')\n",
    "\n",
    "    handles, labels = ax.get_legend_handles_labels()\n",
    "    ax.legend(labels)\n",
    "    ax.plot(act['QB'],act['QB'],color='black') # y==x reference line\n",
    "    ax.set_xlabel('Actual')\n",
    "    ax.set_ylabel('Predicted')\n",
    "\n",
    "def printStats(y_dev, y_pred):\n",
    "    graphRes(y_dev, y_pred)\n",
    "\n",
    "    stats = pd.DataFrame(index = [positions], columns = ['MAE','RMSE','R^2'])\n",
    "    for pos in positions:\n",
    "        stats.loc[pos,'MAE'] = mean_absolute_error(y_dev[pos], y_pred[pos]).round(1)\n",
    "        stats.loc[pos,'RMSE'] = round(math.sqrt(mean_squared_error(y_dev[pos], y_pred[pos])),1)\n",
    "        stats.loc[pos,'R^2'] = r2_score(y_dev[pos], y_pred[pos]).round(2)\n",
    "    \n",
    "    display(stats)\n",
    "    \n",
    "def cvGrid(params):\n",
    "    names = ['param_' + x for x in list(params.keys())]\n",
    "    return pd.DataFrame(grid.cv_results_)[names+['mean_test_score','std_test_score','rank_test_score','mean_fit_time','mean_score_time','std_fit_time','std_score_time']].sort_values(names)\n"
   ]
  },
  {
   "cell_type": "code",
   "execution_count": 3,
   "metadata": {},
   "outputs": [
    {
     "ename": "NameError",
     "evalue": "name 'pos' is not defined",
     "output_type": "error",
     "traceback": [
      "\u001b[1;31m---------------------------------------------------------------------------\u001b[0m",
      "\u001b[1;31mNameError\u001b[0m                                 Traceback (most recent call last)",
      "\u001b[1;32m<ipython-input-3-f5c5c65fe160>\u001b[0m in \u001b[0;36m<module>\u001b[1;34m\u001b[0m\n\u001b[1;32m----> 1\u001b[1;33m \u001b[0mpd\u001b[0m\u001b[1;33m.\u001b[0m\u001b[0mread_csv\u001b[0m\u001b[1;33m(\u001b[0m\u001b[1;34mf'../{pos}.csv'\u001b[0m\u001b[1;33m)\u001b[0m\u001b[1;33m\u001b[0m\u001b[1;33m\u001b[0m\u001b[0m\n\u001b[0m",
      "\u001b[1;31mNameError\u001b[0m: name 'pos' is not defined"
     ]
    }
   ],
   "source": [
    "pd.read_csv(f'../{pos}.csv')"
   ]
  },
  {
   "cell_type": "code",
   "execution_count": null,
   "metadata": {},
   "outputs": [],
   "source": [
    "# Partition training, dev, and test data\n",
    "positions = ['QB','RB','WR','TE']\n",
    "X_train, X_dev, X_test = {}, {}, {}\n",
    "y_train, y_dev, y_test = {}, {}, {}\n",
    "data = {}\n",
    "for pos in positions:\n",
    "    Xy = pd.read_csv(f'../{pos}.csv').dropna(subset=['fanPts'])\n",
    "    data[pos] = Xy\n",
    "    X = Xy.loc[:,Xy.columns.str.contains('-\\d+') | Xy.columns.str.match('fanPts')] \\\n",
    "        .drop('fanPts',axis=1) \\\n",
    "        .fillna(0)\n",
    "    y = Xy.fanPts\n",
    "    \n",
    "    # Split\n",
    "    X_train_raw, X_test_raw, y_train_raw, y_test_raw = train_test_split(X, y, test_size=0.3, random_state=0)\n",
    "    X_dev_raw, X_test_raw, y_dev_raw, y_test_raw = train_test_split(X_test_raw, y_test_raw, test_size=0.5, random_state=0)\n",
    "    \n",
    "    # Scale X data\n",
    "    ss = preprocessing.StandardScaler()\n",
    "    X_train[pos] = pd.DataFrame(ss.fit_transform(X_train_raw), columns=X_train_raw.columns)\n",
    "    X_dev[pos] = pd.DataFrame(ss.fit_transform(X_dev_raw), columns=X_dev_raw.columns)\n",
    "    X_test[pos] = pd.DataFrame(ss.fit_transform(X_test_raw), columns=X_test_raw.columns)\n",
    "    \n",
    "    # Leave y data in original units\n",
    "    y_train[pos] = y_train_raw\n",
    "    y_dev[pos] = y_dev_raw\n",
    "    y_test[pos] = y_test_raw"
   ]
  },
  {
   "cell_type": "markdown",
   "metadata": {},
   "source": [
    "### K Neighbors Regression"
   ]
  },
  {
   "cell_type": "markdown",
   "metadata": {},
   "source": [
    "#### Base model"
   ]
  },
  {
   "cell_type": "code",
   "execution_count": null,
   "metadata": {
    "scrolled": false
   },
   "outputs": [],
   "source": [
    "y_pred = {}\n",
    "for pos in positions:\n",
    "    m = neighbors.KNeighborsRegressor()\n",
    "    m.fit(X_train[pos],y_train[pos])\n",
    "    y_pred[pos] = m.predict(X_dev[pos])\n",
    "    \n",
    "printStats(y_dev, y_pred)"
   ]
  },
  {
   "cell_type": "markdown",
   "metadata": {},
   "source": [
    "#### GridSearchCV"
   ]
  },
  {
   "cell_type": "code",
   "execution_count": null,
   "metadata": {
    "scrolled": false
   },
   "outputs": [],
   "source": [
    "y_pred = {}\n",
    "bestParams = {}\n",
    "for pos in positions:\n",
    "    params = {\n",
    "        'weights':['distance','uniform'],\n",
    "        'metric':['manhattan','euclidean'],\n",
    "        'n_neighbors':[x for x in range(1,101)],\n",
    "    }\n",
    "\n",
    "    grid = GridSearchCV(\n",
    "        neighbors.KNeighborsRegressor(),\n",
    "        params,\n",
    "        n_jobs = -1,\n",
    "        verbose = 7,\n",
    "        cv = 5\n",
    "    ).fit(X_train[pos],y_train[pos])\n",
    "\n",
    "    bestParams[pos] = grid.best_params_\n",
    "\n",
    "    m = neighbors.KNeighborsRegressor(**grid.best_params_)\n",
    "    m.fit(X_train[pos],y_train[pos])\n",
    "    y_pred[pos] = m.predict(X_dev[pos])\n",
    "\n",
    "    #cvGrid(params)\n",
    "    \n",
    "for pos in positions:\n",
    "    print(f'{pos}: {bestParams[pos]}')\n",
    "printStats(y_dev,y_pred)"
   ]
  }
 ],
 "metadata": {
  "kernelspec": {
   "display_name": "Python 3",
   "language": "python",
   "name": "python3"
  },
  "language_info": {
   "codemirror_mode": {
    "name": "ipython",
    "version": 3
   },
   "file_extension": ".py",
   "mimetype": "text/x-python",
   "name": "python",
   "nbconvert_exporter": "python",
   "pygments_lexer": "ipython3",
   "version": "3.7.6"
  }
 },
 "nbformat": 4,
 "nbformat_minor": 4
}
