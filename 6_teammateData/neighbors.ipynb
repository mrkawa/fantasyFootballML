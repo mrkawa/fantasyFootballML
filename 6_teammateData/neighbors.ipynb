{
 "cells": [
  {
   "cell_type": "code",
   "execution_count": 15,
   "metadata": {},
   "outputs": [],
   "source": [
    "import pandas as pd\n",
    "import numpy as np\n",
    "import matplotlib.pyplot as plt\n",
    "import os, sys\n",
    "import math\n",
    "from datetime import date\n",
    "from sklearn import preprocessing\n",
    "from sklearn.model_selection import train_test_split\n",
    "from sklearn.model_selection import GridSearchCV\n",
    "from sklearn import neighbors\n",
    "from sklearn.multioutput import MultiOutputRegressor\n",
    "from sklearn.metrics import mean_absolute_error, mean_squared_error, r2_score\n",
    "\n",
    "pd.set_option(\"display.max_rows\", 100, \"display.max_columns\", 100)\n",
    "# pd.set_option('display.max_colwidth', None)\n",
    "pd.set_option('display.float_format', lambda x: '%.3f' % x)\n",
    "\n",
    "def p(s):\n",
    "    print(s)\n",
    "    \n",
    "pd.DataFrame.len = pd.Index.len = lambda x: print(len(x))"
   ]
  },
  {
   "cell_type": "code",
   "execution_count": 16,
   "metadata": {},
   "outputs": [],
   "source": [
    "def graphRes(act, pred):\n",
    "    ax = plt.gca()\n",
    "    for pos in positions:\n",
    "        ax.scatter(act[pos],pred[pos], label=f'{pos} ({r2_score(act[pos], pred[pos]).round(2)})')\n",
    "\n",
    "    handles, labels = ax.get_legend_handles_labels()\n",
    "    ax.legend(labels)\n",
    "    ax.plot(act['QB'],act['QB'],color='black') # y==x reference line\n",
    "    ax.set_xlabel('Actual')\n",
    "    ax.set_ylabel('Predicted')\n",
    "\n",
    "def printStats(y_dev, y_pred):\n",
    "    # Adapt multioutput back to fan. pts.\n",
    "    act = {}\n",
    "    pred = {}\n",
    "    dfPred = {}\n",
    "    for pos in positions:\n",
    "        act[pos] = y_dev[pos].fanPts\n",
    "        dfPred[pos] = pd.DataFrame(y_pred[pos], columns = y_dev[pos].columns)\n",
    "        ppr = 0\n",
    "        if pos != 'QB':\n",
    "            pred[pos] = dfPred[pos].yards_gained_seasonTotal/10 \\\n",
    "                            + 6 * (dfPred[pos].pass_touchdown_seasonTotal + dfPred[pos].rush_touchdown_seasonTotal) \\\n",
    "                            - 2 * dfPred[pos].fumble_seasonTotal \\\n",
    "                            + ppr * dfPred[pos].complete_pass_seasonTotal\n",
    "        else:\n",
    "            pred[pos] = dfPred[pos].yards_gained_seasonTotal/25 \\\n",
    "                            + 4 * dfPred[pos].pass_touchdown_seasonTotal \\\n",
    "                            + 6 * dfPred[pos].rush_touchdown_seasonTotal \\\n",
    "                            - 2 * dfPred[pos].fumble_seasonTotal \\\n",
    "                            - 2 * dfPred[pos].interception_seasonTotal\n",
    "\n",
    "    graphRes(act, pred)\n",
    "\n",
    "    stats = pd.DataFrame(index = ['MAE','RMSE','R^2'], columns = [positions])\n",
    "    for pos in positions:\n",
    "        stats.loc['MAE',pos] = mean_absolute_error(act[pos], pred[pos]).round(1)\n",
    "        stats.loc['RMSE',pos] = round(math.sqrt(mean_squared_error(act[pos], pred[pos])),1)\n",
    "        stats.loc['R^2',pos] = r2_score(act[pos], pred[pos]).round(2)\n",
    "     \n",
    "    display(stats)\n",
    "    \n",
    "def cvGrid(params, resGrid):\n",
    "    names = ['param_' + x for x in list(params.keys())]\n",
    "    return pd.DataFrame(resGrid)[names+['mean_test_score','std_test_score','rank_test_score','mean_fit_time','mean_score_time','std_fit_time','std_score_time']].sort_values(names)\n"
   ]
  },
  {
   "cell_type": "code",
   "execution_count": 17,
   "metadata": {},
   "outputs": [],
   "source": [
    "# Partition training, dev, and test data\n",
    "positions = ['QB','RB','WR','TE']\n",
    "tgtCols = ['yards_gained_seasonTotal','complete_pass_seasonTotal', 'fumble_seasonTotal','rush_touchdown_seasonTotal','pass_touchdown_seasonTotal','interception_seasonTotal','fanPts']\n",
    "\n",
    "X_train, X_dev, X_test = {}, {}, {}\n",
    "y_train, y_dev, y_test = {}, {}, {}\n",
    "data = {}\n",
    "X = {}\n",
    "y = {}\n",
    "for pos in positions:\n",
    "    data[pos] = pd.read_csv(f'../expanded/{pos}.csv').dropna(subset=['fanPts'])\n",
    "        \n",
    "    # Split into features and targets\n",
    "    X[pos] = data[pos].loc[:,data[pos].columns.str.contains('-\\d+') | data[pos].columns.str.match('fanPts') | data[pos].columns.str.match('oppPtsAllowed')] \\\n",
    "        .drop('fanPts',axis=1) \\\n",
    "        .fillna(0)\n",
    "    y[pos] = data[pos].loc[:,[x for x in tgtCols if x in data[pos].columns]]\n",
    "    \n",
    "    # Downselect useful X features\n",
    "    featureInfo = pd.read_csv('../features.csv').iloc[:,0:-9]\n",
    "    featureInfo = featureInfo.loc[featureInfo['Use']==1,:]\n",
    "    featMap = {'QB':'Pass','RB':'Rush','WR':'Rec','TE':'Rec'}\n",
    "    cols = featureInfo[featureInfo[featMap[pos]] == 1].Field.tolist()\n",
    "    cols.extend(['fanPts_oppAllowTotal','QB','RB','WR','TE'])\n",
    "    X[pos] = X[pos].loc[:,[x for x in X[pos].columns if any([x.startswith(y) for y in cols]) and '-' in x]]\n",
    "    \n",
    "        \n",
    "    # Split train/dev/test\n",
    "    X_train_raw, X_test_raw, y_train_raw, y_test_raw = train_test_split(X[pos], y[pos], test_size=0.3, random_state=0)\n",
    "    X_dev_raw, X_test_raw, y_dev_raw, y_test_raw = train_test_split(X_test_raw, y_test_raw, test_size=0.5, random_state=0)\n",
    "    \n",
    "    # Scale X data\n",
    "    ss = preprocessing.StandardScaler()\n",
    "    X_train[pos] = pd.DataFrame(ss.fit_transform(X_train_raw), columns=X_train_raw.columns)\n",
    "    X_dev[pos] = pd.DataFrame(ss.fit_transform(X_dev_raw), columns=X_dev_raw.columns)\n",
    "    X_test[pos] = pd.DataFrame(ss.fit_transform(X_test_raw), columns=X_test_raw.columns)\n",
    "    \n",
    "    # Leave y data in original units\n",
    "    y_train[pos] = y_train_raw\n",
    "    y_dev[pos] = y_dev_raw\n",
    "    y_test[pos] = y_test_raw"
   ]
  },
  {
   "cell_type": "markdown",
   "metadata": {},
   "source": [
    "### K Neighbors Regression"
   ]
  },
  {
   "cell_type": "markdown",
   "metadata": {},
   "source": [
    "#### Base model"
   ]
  },
  {
   "cell_type": "code",
   "execution_count": 18,
   "metadata": {
    "scrolled": false
   },
   "outputs": [
    {
     "data": {
      "text/html": [
       "<div>\n",
       "<style scoped>\n",
       "    .dataframe tbody tr th:only-of-type {\n",
       "        vertical-align: middle;\n",
       "    }\n",
       "\n",
       "    .dataframe tbody tr th {\n",
       "        vertical-align: top;\n",
       "    }\n",
       "\n",
       "    .dataframe thead tr th {\n",
       "        text-align: left;\n",
       "    }\n",
       "</style>\n",
       "<table border=\"1\" class=\"dataframe\">\n",
       "  <thead>\n",
       "    <tr>\n",
       "      <th></th>\n",
       "      <th>QB</th>\n",
       "      <th>RB</th>\n",
       "      <th>WR</th>\n",
       "      <th>TE</th>\n",
       "    </tr>\n",
       "  </thead>\n",
       "  <tbody>\n",
       "    <tr>\n",
       "      <th>MAE</th>\n",
       "      <td>52.600</td>\n",
       "      <td>40.200</td>\n",
       "      <td>38.100</td>\n",
       "      <td>27.200</td>\n",
       "    </tr>\n",
       "    <tr>\n",
       "      <th>RMSE</th>\n",
       "      <td>72.700</td>\n",
       "      <td>63.700</td>\n",
       "      <td>54.300</td>\n",
       "      <td>33.700</td>\n",
       "    </tr>\n",
       "    <tr>\n",
       "      <th>R^2</th>\n",
       "      <td>0.480</td>\n",
       "      <td>0.230</td>\n",
       "      <td>0.320</td>\n",
       "      <td>0.200</td>\n",
       "    </tr>\n",
       "  </tbody>\n",
       "</table>\n",
       "</div>"
      ],
      "text/plain": [
       "         QB     RB     WR     TE\n",
       "MAE  52.600 40.200 38.100 27.200\n",
       "RMSE 72.700 63.700 54.300 33.700\n",
       "R^2   0.480  0.230  0.320  0.200"
      ]
     },
     "metadata": {},
     "output_type": "display_data"
    },
    {
     "data": {
      "image/png": "[encoded data removed]",
      "text/plain": [
       "<Figure size 432x288 with 1 Axes>"
      ]
     },
     "metadata": {
      "needs_background": "light"
     },
     "output_type": "display_data"
    }
   ],
   "source": [
    "y_pred = {}\n",
    "for pos in positions:\n",
    "    m = neighbors.KNeighborsRegressor()\n",
    "    m.fit(X_train[pos],y_train[pos])\n",
    "    y_pred[pos] = m.predict(X_dev[pos])\n",
    "    \n",
    "printStats(y_dev, y_pred)"
   ]
  },
  {
   "cell_type": "markdown",
   "metadata": {},
   "source": [
    "#### GridSearchCV"
   ]
  },
  {
   "cell_type": "code",
   "execution_count": 19,
   "metadata": {
    "scrolled": false
   },
   "outputs": [
    {
     "name": "stdout",
     "output_type": "stream",
     "text": [
      "Fitting 5 folds for each of 400 candidates, totalling 2000 fits\n"
     ]
    },
    {
     "name": "stderr",
     "output_type": "stream",
     "text": [
      "[Parallel(n_jobs=-1)]: Using backend LokyBackend with 8 concurrent workers.\n",
      "[Parallel(n_jobs=-1)]: Done  16 tasks      | elapsed:   13.9s\n",
      "[Parallel(n_jobs=-1)]: Done  56 tasks      | elapsed:   17.9s\n",
      "[Parallel(n_jobs=-1)]: Done 112 tasks      | elapsed:   24.3s\n",
      "[Parallel(n_jobs=-1)]: Done 184 tasks      | elapsed:   31.0s\n",
      "[Parallel(n_jobs=-1)]: Done 272 tasks      | elapsed:   40.0s\n",
      "[Parallel(n_jobs=-1)]: Done 376 tasks      | elapsed:   50.1s\n",
      "[Parallel(n_jobs=-1)]: Done 496 tasks      | elapsed:  1.0min\n",
      "[Parallel(n_jobs=-1)]: Done 632 tasks      | elapsed:  1.2min\n",
      "[Parallel(n_jobs=-1)]: Done 784 tasks      | elapsed:  1.5min\n",
      "[Parallel(n_jobs=-1)]: Done 952 tasks      | elapsed:  1.7min\n",
      "[Parallel(n_jobs=-1)]: Done 1136 tasks      | elapsed:  1.8min\n",
      "[Parallel(n_jobs=-1)]: Done 1336 tasks      | elapsed:  2.1min\n",
      "[Parallel(n_jobs=-1)]: Done 1552 tasks      | elapsed:  2.2min\n",
      "[Parallel(n_jobs=-1)]: Done 1784 tasks      | elapsed:  2.4min\n",
      "[Parallel(n_jobs=-1)]: Done 2000 out of 2000 | elapsed:  2.6min finished\n"
     ]
    },
    {
     "name": "stdout",
     "output_type": "stream",
     "text": [
      "Fitting 5 folds for each of 400 candidates, totalling 2000 fits\n"
     ]
    },
    {
     "name": "stderr",
     "output_type": "stream",
     "text": [
      "[Parallel(n_jobs=-1)]: Using backend LokyBackend with 8 concurrent workers.\n",
      "[Parallel(n_jobs=-1)]: Done  16 tasks      | elapsed:    1.1s\n",
      "[Parallel(n_jobs=-1)]: Done  56 tasks      | elapsed:    3.9s\n",
      "[Parallel(n_jobs=-1)]: Done 112 tasks      | elapsed:    8.1s\n",
      "[Parallel(n_jobs=-1)]: Done 184 tasks      | elapsed:   13.8s\n",
      "[Parallel(n_jobs=-1)]: Done 272 tasks      | elapsed:   22.0s\n",
      "[Parallel(n_jobs=-1)]: Done 376 tasks      | elapsed:   30.6s\n",
      "[Parallel(n_jobs=-1)]: Done 496 tasks      | elapsed:   39.8s\n",
      "[Parallel(n_jobs=-1)]: Done 632 tasks      | elapsed:   50.1s\n",
      "[Parallel(n_jobs=-1)]: Done 784 tasks      | elapsed:  1.0min\n",
      "[Parallel(n_jobs=-1)]: Done 952 tasks      | elapsed:  1.2min\n",
      "[Parallel(n_jobs=-1)]: Done 1136 tasks      | elapsed:  1.3min\n",
      "[Parallel(n_jobs=-1)]: Done 1336 tasks      | elapsed:  1.5min\n",
      "[Parallel(n_jobs=-1)]: Done 1552 tasks      | elapsed:  1.6min\n",
      "[Parallel(n_jobs=-1)]: Done 1784 tasks      | elapsed:  1.8min\n",
      "[Parallel(n_jobs=-1)]: Done 2000 out of 2000 | elapsed:  2.0min finished\n"
     ]
    },
    {
     "name": "stdout",
     "output_type": "stream",
     "text": [
      "Fitting 5 folds for each of 400 candidates, totalling 2000 fits\n"
     ]
    },
    {
     "name": "stderr",
     "output_type": "stream",
     "text": [
      "[Parallel(n_jobs=-1)]: Using backend LokyBackend with 8 concurrent workers.\n",
      "[Parallel(n_jobs=-1)]: Done  16 tasks      | elapsed:    1.8s\n",
      "[Parallel(n_jobs=-1)]: Done  56 tasks      | elapsed:    5.4s\n",
      "[Parallel(n_jobs=-1)]: Done 112 tasks      | elapsed:   10.5s\n",
      "[Parallel(n_jobs=-1)]: Done 184 tasks      | elapsed:   17.8s\n",
      "[Parallel(n_jobs=-1)]: Done 272 tasks      | elapsed:   26.9s\n",
      "[Parallel(n_jobs=-1)]: Done 376 tasks      | elapsed:   36.8s\n",
      "[Parallel(n_jobs=-1)]: Done 496 tasks      | elapsed:   48.5s\n",
      "[Parallel(n_jobs=-1)]: Done 632 tasks      | elapsed:  1.0min\n",
      "[Parallel(n_jobs=-1)]: Done 784 tasks      | elapsed:  1.3min\n",
      "[Parallel(n_jobs=-1)]: Done 952 tasks      | elapsed:  1.6min\n",
      "[Parallel(n_jobs=-1)]: Done 1136 tasks      | elapsed:  1.9min\n",
      "[Parallel(n_jobs=-1)]: Done 1336 tasks      | elapsed:  2.2min\n",
      "[Parallel(n_jobs=-1)]: Done 1552 tasks      | elapsed:  2.6min\n",
      "[Parallel(n_jobs=-1)]: Done 1784 tasks      | elapsed:  3.0min\n",
      "[Parallel(n_jobs=-1)]: Done 2000 out of 2000 | elapsed:  3.4min finished\n"
     ]
    },
    {
     "name": "stdout",
     "output_type": "stream",
     "text": [
      "Fitting 5 folds for each of 400 candidates, totalling 2000 fits\n"
     ]
    },
    {
     "name": "stderr",
     "output_type": "stream",
     "text": [
      "[Parallel(n_jobs=-1)]: Using backend LokyBackend with 8 concurrent workers.\n",
      "[Parallel(n_jobs=-1)]: Done  16 tasks      | elapsed:    0.5s\n",
      "[Parallel(n_jobs=-1)]: Done  56 tasks      | elapsed:    1.7s\n",
      "[Parallel(n_jobs=-1)]: Done 112 tasks      | elapsed:    3.5s\n",
      "[Parallel(n_jobs=-1)]: Done 184 tasks      | elapsed:    5.7s\n",
      "[Parallel(n_jobs=-1)]: Done 272 tasks      | elapsed:    8.4s\n",
      "[Parallel(n_jobs=-1)]: Done 376 tasks      | elapsed:   11.6s\n",
      "[Parallel(n_jobs=-1)]: Done 496 tasks      | elapsed:   15.5s\n",
      "[Parallel(n_jobs=-1)]: Done 632 tasks      | elapsed:   20.1s\n",
      "[Parallel(n_jobs=-1)]: Done 784 tasks      | elapsed:   25.0s\n",
      "[Parallel(n_jobs=-1)]: Done 952 tasks      | elapsed:   30.7s\n",
      "[Parallel(n_jobs=-1)]: Done 1136 tasks      | elapsed:   36.5s\n",
      "[Parallel(n_jobs=-1)]: Done 1336 tasks      | elapsed:   44.3s\n",
      "[Parallel(n_jobs=-1)]: Done 1552 tasks      | elapsed:   53.4s\n",
      "[Parallel(n_jobs=-1)]: Done 1784 tasks      | elapsed:  1.0min\n",
      "[Parallel(n_jobs=-1)]: Done 2000 out of 2000 | elapsed:  1.1min finished\n"
     ]
    },
    {
     "name": "stdout",
     "output_type": "stream",
     "text": [
      "QB: {'metric': 'manhattan', 'n_neighbors': 20, 'weights': 'distance'}\n",
      "RB: {'metric': 'manhattan', 'n_neighbors': 13, 'weights': 'distance'}\n",
      "WR: {'metric': 'manhattan', 'n_neighbors': 40, 'weights': 'distance'}\n",
      "TE: {'metric': 'manhattan', 'n_neighbors': 29, 'weights': 'distance'}\n"
     ]
    },
    {
     "data": {
      "text/html": [
       "<div>\n",
       "<style scoped>\n",
       "    .dataframe tbody tr th:only-of-type {\n",
       "        vertical-align: middle;\n",
       "    }\n",
       "\n",
       "    .dataframe tbody tr th {\n",
       "        vertical-align: top;\n",
       "    }\n",
       "\n",
       "    .dataframe thead tr th {\n",
       "        text-align: left;\n",
       "    }\n",
       "</style>\n",
       "<table border=\"1\" class=\"dataframe\">\n",
       "  <thead>\n",
       "    <tr>\n",
       "      <th></th>\n",
       "      <th>QB</th>\n",
       "      <th>RB</th>\n",
       "      <th>WR</th>\n",
       "      <th>TE</th>\n",
       "    </tr>\n",
       "  </thead>\n",
       "  <tbody>\n",
       "    <tr>\n",
       "      <th>MAE</th>\n",
       "      <td>55.800</td>\n",
       "      <td>43.500</td>\n",
       "      <td>37.000</td>\n",
       "      <td>24.200</td>\n",
       "    </tr>\n",
       "    <tr>\n",
       "      <th>RMSE</th>\n",
       "      <td>70.600</td>\n",
       "      <td>59.100</td>\n",
       "      <td>52.900</td>\n",
       "      <td>30.700</td>\n",
       "    </tr>\n",
       "    <tr>\n",
       "      <th>R^2</th>\n",
       "      <td>0.510</td>\n",
       "      <td>0.340</td>\n",
       "      <td>0.350</td>\n",
       "      <td>0.340</td>\n",
       "    </tr>\n",
       "  </tbody>\n",
       "</table>\n",
       "</div>"
      ],
      "text/plain": [
       "         QB     RB     WR     TE\n",
       "MAE  55.800 43.500 37.000 24.200\n",
       "RMSE 70.600 59.100 52.900 30.700\n",
       "R^2   0.510  0.340  0.350  0.340"
      ]
     },
     "metadata": {},
     "output_type": "display_data"
    },
    {
     "data": {
      "image/png": "[encoded data removed]",
      "text/plain": [
       "<Figure size 432x288 with 1 Axes>"
      ]
     },
     "metadata": {
      "needs_background": "light"
     },
     "output_type": "display_data"
    }
   ],
   "source": [
    "y_pred = {}\n",
    "bestParams = {}\n",
    "for pos in positions:\n",
    "    params = {\n",
    "        'weights':['distance','uniform'],\n",
    "        'metric':['manhattan','euclidean'],\n",
    "        'n_neighbors':[x for x in range(1,101)],\n",
    "    }\n",
    "\n",
    "    grid = GridSearchCV(\n",
    "        neighbors.KNeighborsRegressor(),\n",
    "        params,\n",
    "        n_jobs = -1,\n",
    "        verbose = 7,\n",
    "        cv = 5\n",
    "    ).fit(X_train[pos],y_train[pos])\n",
    "\n",
    "    bestParams[pos] = grid.best_params_\n",
    "\n",
    "    m = neighbors.KNeighborsRegressor(**grid.best_params_)\n",
    "    m.fit(X_train[pos],y_train[pos])\n",
    "    y_pred[pos] = m.predict(X_dev[pos])\n",
    "\n",
    "    #cvGrid(params)\n",
    "    \n",
    "for pos in positions:\n",
    "    print(f'{pos}: {bestParams[pos]}')\n",
    "printStats(y_dev,y_pred)"
   ]
  }
 ],
 "metadata": {
  "kernelspec": {
   "display_name": "Python 3",
   "language": "python",
   "name": "python3"
  },
  "language_info": {
   "codemirror_mode": {
    "name": "ipython",
    "version": 3
   },
   "file_extension": ".py",
   "mimetype": "text/x-python",
   "name": "python",
   "nbconvert_exporter": "python",
   "pygments_lexer": "ipython3",
   "version": "3.7.6"
  }
 },
 "nbformat": 4,
 "nbformat_minor": 4
}
