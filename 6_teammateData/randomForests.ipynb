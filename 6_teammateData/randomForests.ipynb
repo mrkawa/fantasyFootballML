{
 "cells": [
  {
   "cell_type": "code",
   "execution_count": 1,
   "metadata": {},
   "outputs": [],
   "source": [
    "import pandas as pd\n",
    "import numpy as np\n",
    "import matplotlib.pyplot as plt\n",
    "import os, sys\n",
    "import math\n",
    "from datetime import date\n",
    "from IPython.display import display, HTML\n",
    "from sklearn import preprocessing\n",
    "from sklearn.ensemble import RandomForestRegressor\n",
    "from sklearn.model_selection import train_test_split\n",
    "from sklearn.model_selection import GridSearchCV\n",
    "from sklearn import linear_model\n",
    "from sklearn.decomposition import PCA\n",
    "from sklearn.metrics import mean_absolute_error, mean_squared_error, r2_score\n",
    "\n",
    "pd.set_option(\"display.max_rows\", 100, \"display.max_columns\", 100)\n",
    "# pd.set_option('display.max_colwidth', None)\n",
    "pd.set_option('display.float_format', lambda x: '%.3f' % x)\n",
    "\n",
    "def p(s):\n",
    "    print(s)\n",
    "    \n",
    "pd.DataFrame.len = pd.Index.len = lambda x: print(len(x))"
   ]
  },
  {
   "cell_type": "code",
   "execution_count": 2,
   "metadata": {},
   "outputs": [],
   "source": [
    "def graphRes(act, pred):\n",
    "    ax = plt.gca()\n",
    "    for pos in positions:\n",
    "        ax.scatter(act[pos],pred[pos], label=f'{pos} ({r2_score(act[pos], pred[pos]).round(2)})')\n",
    "\n",
    "    handles, labels = ax.get_legend_handles_labels()\n",
    "    ax.legend(labels)\n",
    "    ax.plot(act['QB'],act['QB'],color='black') # y==x reference line\n",
    "    ax.set_xlabel('Actual')\n",
    "    ax.set_ylabel('Predicted')\n",
    "\n",
    "def printStats(y_dev, y_pred):\n",
    "    # Adapt multioutput back to fan. pts.\n",
    "    act = {}\n",
    "    pred = {}\n",
    "    dfPred = {}\n",
    "    for pos in positions:\n",
    "        act[pos] = y_dev[pos].fanPts\n",
    "        dfPred[pos] = pd.DataFrame(y_pred[pos], columns = y_dev[pos].columns)\n",
    "        ppr = 0\n",
    "        if pos != 'QB':\n",
    "            pred[pos] = dfPred[pos].yards_gained_seasonTotal/10 \\\n",
    "                            + 6 * (dfPred[pos].pass_touchdown_seasonTotal + dfPred[pos].rush_touchdown_seasonTotal) \\\n",
    "                            - 2 * dfPred[pos].fumble_seasonTotal \\\n",
    "                            + ppr * dfPred[pos].complete_pass_seasonTotal\n",
    "        else:\n",
    "            pred[pos] = dfPred[pos].yards_gained_seasonTotal/25 \\\n",
    "                            + 4 * dfPred[pos].pass_touchdown_seasonTotal \\\n",
    "                            + 6 * dfPred[pos].rush_touchdown_seasonTotal \\\n",
    "                            - 2 * dfPred[pos].fumble_seasonTotal \\\n",
    "                            - 2 * dfPred[pos].interception_seasonTotal\n",
    "\n",
    "    graphRes(act, pred)\n",
    "\n",
    "    stats = pd.DataFrame(index = [positions], columns = ['MAE','RMSE','R^2'])\n",
    "    for pos in positions:\n",
    "        stats.loc[pos,'MAE'] = mean_absolute_error(act[pos], pred[pos]).round(1)\n",
    "        stats.loc[pos,'RMSE'] = round(math.sqrt(mean_squared_error(act[pos], pred[pos])),1)\n",
    "        stats.loc[pos,'R^2'] = r2_score(act[pos], pred[pos]).round(2)\n",
    "    \n",
    "    display(stats)\n",
    "    "
   ]
  },
  {
   "cell_type": "code",
   "execution_count": 3,
   "metadata": {},
   "outputs": [],
   "source": [
    "# Partition training, dev, and test data\n",
    "positions = ['QB','RB','WR','TE']\n",
    "tgtCols = ['yards_gained_seasonTotal','complete_pass_seasonTotal', 'fumble_seasonTotal','rush_touchdown_seasonTotal','pass_touchdown_seasonTotal','interception_seasonTotal','fanPts']\n",
    "\n",
    "X_train, X_dev, X_test = {}, {}, {}\n",
    "y_train, y_dev, y_test = {}, {}, {}\n",
    "data = {}\n",
    "X = {}\n",
    "y = {}\n",
    "for pos in positions:\n",
    "    data[pos] = pd.read_csv(f'../expanded/{pos}.csv').dropna(subset=['fanPts'])\n",
    "        \n",
    "    # Split into features and targets\n",
    "    X[pos] = data[pos].loc[:,data[pos].columns.str.contains('-\\d+') | data[pos].columns.str.match('fanPts')] \\\n",
    "        .drop('fanPts',axis=1) \\\n",
    "        .fillna(0)\n",
    "    y[pos] = data[pos].loc[:,[x for x in tgtCols if x in data[pos].columns]]\n",
    "    \n",
    "    # Downselect useful X features\n",
    "    featureInfo = pd.read_csv('../features.csv').iloc[:,0:-9]\n",
    "    featureInfo = featureInfo.loc[featureInfo['Use']==1,:]\n",
    "    featMap = {'QB':'Pass','RB':'Rush','WR':'Rec','TE':'Rec'}\n",
    "    X[pos] = X[pos].loc[:,[x for x in X[pos].columns if any([x.startswith(y) for y in featureInfo[featureInfo[featMap[pos]] == 1].Field.tolist()])]]\n",
    "    \n",
    "        \n",
    "    # Split train/dev/test\n",
    "    X_train_raw, X_test_raw, y_train_raw, y_test_raw = train_test_split(X[pos], y[pos], test_size=0.3, random_state=0)\n",
    "    X_dev_raw, X_test_raw, y_dev_raw, y_test_raw = train_test_split(X_test_raw, y_test_raw, test_size=0.5, random_state=0)\n",
    "    \n",
    "    # Scale X data\n",
    "    ss = preprocessing.StandardScaler()\n",
    "    X_train[pos] = pd.DataFrame(ss.fit_transform(X_train_raw), columns=X_train_raw.columns)\n",
    "    X_dev[pos] = pd.DataFrame(ss.fit_transform(X_dev_raw), columns=X_dev_raw.columns)\n",
    "    X_test[pos] = pd.DataFrame(ss.fit_transform(X_test_raw), columns=X_test_raw.columns)\n",
    "    \n",
    "    # Leave y data in original units\n",
    "    y_train[pos] = y_train_raw\n",
    "    y_dev[pos] = y_dev_raw\n",
    "    y_test[pos] = y_test_raw"
   ]
  },
  {
   "cell_type": "code",
   "execution_count": 4,
   "metadata": {
    "scrolled": false
   },
   "outputs": [
    {
     "name": "stdout",
     "output_type": "stream",
     "text": [
      "QB: 0.3539826086431304 oob score\n",
      "RB: 0.3283944751522811 oob score\n",
      "WR: 0.23233532877436236 oob score\n",
      "TE: 0.23618761539151242 oob score\n"
     ]
    },
    {
     "data": {
      "text/html": [
       "<div>\n",
       "<style scoped>\n",
       "    .dataframe tbody tr th:only-of-type {\n",
       "        vertical-align: middle;\n",
       "    }\n",
       "\n",
       "    .dataframe tbody tr th {\n",
       "        vertical-align: top;\n",
       "    }\n",
       "\n",
       "    .dataframe thead th {\n",
       "        text-align: right;\n",
       "    }\n",
       "</style>\n",
       "<table border=\"1\" class=\"dataframe\">\n",
       "  <thead>\n",
       "    <tr style=\"text-align: right;\">\n",
       "      <th></th>\n",
       "      <th>MAE</th>\n",
       "      <th>RMSE</th>\n",
       "      <th>R^2</th>\n",
       "    </tr>\n",
       "  </thead>\n",
       "  <tbody>\n",
       "    <tr>\n",
       "      <th>QB</th>\n",
       "      <td>50.700</td>\n",
       "      <td>73.200</td>\n",
       "      <td>0.480</td>\n",
       "    </tr>\n",
       "    <tr>\n",
       "      <th>RB</th>\n",
       "      <td>37.400</td>\n",
       "      <td>59.600</td>\n",
       "      <td>0.330</td>\n",
       "    </tr>\n",
       "    <tr>\n",
       "      <th>WR</th>\n",
       "      <td>35.900</td>\n",
       "      <td>50.100</td>\n",
       "      <td>0.420</td>\n",
       "    </tr>\n",
       "    <tr>\n",
       "      <th>TE</th>\n",
       "      <td>22.300</td>\n",
       "      <td>30.300</td>\n",
       "      <td>0.350</td>\n",
       "    </tr>\n",
       "  </tbody>\n",
       "</table>\n",
       "</div>"
      ],
      "text/plain": [
       "      MAE   RMSE   R^2\n",
       "QB 50.700 73.200 0.480\n",
       "RB 37.400 59.600 0.330\n",
       "WR 35.900 50.100 0.420\n",
       "TE 22.300 30.300 0.350"
      ]
     },
     "metadata": {},
     "output_type": "display_data"
    },
    {
     "data": {
      "image/png": "[encoded data removed]",
      "text/plain": [
       "<Figure size 432x288 with 1 Axes>"
      ]
     },
     "metadata": {
      "needs_background": "light"
     },
     "output_type": "display_data"
    }
   ],
   "source": [
    "y_pred = {}\n",
    "for pos in positions:\n",
    "    m = m = RandomForestRegressor(oob_score = True)\n",
    "    m.fit(X_train[pos],y_train[pos])\n",
    "    y_pred[pos] = m.predict(X_dev[pos])\n",
    "    \n",
    "    print(f'{pos}: {m.oob_score_} oob score')\n",
    "    \n",
    "printStats(y_dev, y_pred)"
   ]
  },
  {
   "cell_type": "code",
   "execution_count": 5,
   "metadata": {},
   "outputs": [
    {
     "name": "stdout",
     "output_type": "stream",
     "text": [
      "QB: 0.34523989955580536 oob score\n",
      "{'max_depth': 3, 'n_estimators': 30}\n",
      "\n",
      "RB: 0.32739263357129367 oob score\n",
      "{'max_depth': 6, 'n_estimators': 20}\n",
      "\n",
      "WR: 0.2351034685974057 oob score\n",
      "{'max_depth': 5, 'n_estimators': 70}\n",
      "\n",
      "TE: 0.2335761514349672 oob score\n",
      "{'max_depth': 3, 'n_estimators': 20}\n",
      "\n"
     ]
    },
    {
     "data": {
      "text/html": [
       "<div>\n",
       "<style scoped>\n",
       "    .dataframe tbody tr th:only-of-type {\n",
       "        vertical-align: middle;\n",
       "    }\n",
       "\n",
       "    .dataframe tbody tr th {\n",
       "        vertical-align: top;\n",
       "    }\n",
       "\n",
       "    .dataframe thead th {\n",
       "        text-align: right;\n",
       "    }\n",
       "</style>\n",
       "<table border=\"1\" class=\"dataframe\">\n",
       "  <thead>\n",
       "    <tr style=\"text-align: right;\">\n",
       "      <th></th>\n",
       "      <th>MAE</th>\n",
       "      <th>RMSE</th>\n",
       "      <th>R^2</th>\n",
       "    </tr>\n",
       "  </thead>\n",
       "  <tbody>\n",
       "    <tr>\n",
       "      <th>QB</th>\n",
       "      <td>50.500</td>\n",
       "      <td>72.100</td>\n",
       "      <td>0.490</td>\n",
       "    </tr>\n",
       "    <tr>\n",
       "      <th>RB</th>\n",
       "      <td>37.900</td>\n",
       "      <td>59.900</td>\n",
       "      <td>0.320</td>\n",
       "    </tr>\n",
       "    <tr>\n",
       "      <th>WR</th>\n",
       "      <td>35.900</td>\n",
       "      <td>50.600</td>\n",
       "      <td>0.400</td>\n",
       "    </tr>\n",
       "    <tr>\n",
       "      <th>TE</th>\n",
       "      <td>21.900</td>\n",
       "      <td>30.200</td>\n",
       "      <td>0.360</td>\n",
       "    </tr>\n",
       "  </tbody>\n",
       "</table>\n",
       "</div>"
      ],
      "text/plain": [
       "      MAE   RMSE   R^2\n",
       "QB 50.500 72.100 0.490\n",
       "RB 37.900 59.900 0.320\n",
       "WR 35.900 50.600 0.400\n",
       "TE 21.900 30.200 0.360"
      ]
     },
     "metadata": {},
     "output_type": "display_data"
    },
    {
     "data": {
      "image/png": "[encoded data removed]",
      "text/plain": [
       "<Figure size 432x288 with 1 Axes>"
      ]
     },
     "metadata": {
      "needs_background": "light"
     },
     "output_type": "display_data"
    }
   ],
   "source": [
    "y_pred = {}\n",
    "bestParams = {}\n",
    "for pos in positions:\n",
    "    \n",
    "    grid = GridSearchCV(\n",
    "        estimator=RandomForestRegressor(),\n",
    "        param_grid = {\n",
    "            'max_depth': range(1,10),\n",
    "            'n_estimators': tuple(list(range(10,100,10)) + [500, 1000]),\n",
    "        },\n",
    "        cv=5, scoring='neg_mean_squared_error', verbose=0, n_jobs=-1).fit(X_train[pos],y_train[pos])\n",
    "    \n",
    "    bestParams[pos] = grid.best_params_\n",
    "    \n",
    "    rfr = RandomForestRegressor(max_depth=bestParams[pos][\"max_depth\"], n_estimators=bestParams[pos][\"n_estimators\"], oob_score = True, random_state=False, verbose=False)\n",
    "    m.fit(X_train[pos],y_train[pos])\n",
    "    y_pred[pos] = m.predict(X_dev[pos])\n",
    "    \n",
    "    print(f'{pos}: {m.oob_score_} oob score')\n",
    "    print(f'{bestParams[pos]}\\n')\n",
    "    \n",
    "printStats(y_dev,y_pred)"
   ]
  },
  {
   "cell_type": "code",
   "execution_count": null,
   "metadata": {},
   "outputs": [],
   "source": []
  }
 ],
 "metadata": {
  "kernelspec": {
   "display_name": "Python 3",
   "language": "python",
   "name": "python3"
  },
  "language_info": {
   "codemirror_mode": {
    "name": "ipython",
    "version": 3
   },
   "file_extension": ".py",
   "mimetype": "text/x-python",
   "name": "python",
   "nbconvert_exporter": "python",
   "pygments_lexer": "ipython3",
   "version": "3.7.6"
  }
 },
 "nbformat": 4,
 "nbformat_minor": 4
}
