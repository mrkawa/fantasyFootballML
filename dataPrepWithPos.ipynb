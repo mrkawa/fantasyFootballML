{
 "cells": [
  {
   "cell_type": "code",
   "execution_count": 1,
   "metadata": {},
   "outputs": [],
   "source": [
    "import pandas as pd\n",
    "import numpy as np\n",
    "import matplotlib.pyplot as plt\n",
    "import os, sys\n",
    "import re\n",
    "from datetime import date\n",
    "from sklearn.model_selection import train_test_split\n",
    "\n",
    "pd.set_option(\"display.max_rows\", 100, \"display.max_columns\", 100)\n",
    "pd.set_option('display.max_colwidth', None)\n",
    "pd.set_option('display.float_format', lambda x: '%.3f' % x)\n",
    "\n",
    "def p(s):\n",
    "    print(s)\n",
    "    \n",
    "pd.DataFrame.len = pd.Index.len = lambda x: print(len(x))"
   ]
  },
  {
   "cell_type": "code",
   "execution_count": 2,
   "metadata": {},
   "outputs": [],
   "source": [
    "# Read raw data - from local file if available, else from internet and write to local file\n",
    "if os.path.exists('data/data.csv.gz'):\n",
    "    dfFull = pd.read_csv('data/data.csv.gz', compression='gzip', index_col=0, low_memory=False)\n",
    "elif os.path.exists('../data/data.csv.gz'):\n",
    "    dfFull = pd.read_csv('../data/data.csv.gz', compression='gzip', index_col=0, low_memory=False)\n",
    "else:\n",
    "    YEARS = np.arange(1999,date.today().year)\n",
    "    dfFull = pd.DataFrame()\n",
    "    for i in YEARS:\n",
    "        sys.stdout.write(f'{i} \\r'); sys.stdout.flush()\n",
    "        iData = pd.read_csv('https://github.com/guga31bb/nflfastR-data/blob/master/data/' \\\n",
    "                             'play_by_play_' + str(i) + '.csv.gz?raw=True',\n",
    "                             compression='gzip', low_memory=False)\n",
    "        dfFull = dfFull.append(iData, sort=True)\n",
    "\n",
    "    dfFull.reset_index(drop=True, inplace=True)\n",
    "    dfFull.to_csv('../data/data.csv.gz', compression='gzip', low_memory=False)"
   ]
  },
  {
   "cell_type": "code",
   "execution_count": 3,
   "metadata": {},
   "outputs": [],
   "source": [
    "# Lookup table with all features of the raw data\n",
    "featureInfo = pd.read_csv('features.csv').iloc[:,0:-9]\n",
    "featureInfo = featureInfo[featureInfo.Use==1]\n",
    "\n",
    "idCols = featureInfo[(featureInfo.Use==1) & (featureInfo.Type == 'ID')].Field.tolist() + ['receiver_player_name']\n",
    "valCols = featureInfo[(featureInfo.Use==1) & (featureInfo.Type != 'ID')].Field.tolist() + ['season', 'game_id'] \n",
    "notUsed = [col for col in dfFull.columns if col not in idCols + valCols]\n",
    "df = dfFull[['season'] + [x for x in featureInfo[(featureInfo.Use==1)].Field]]\n",
    "                                                                                 \n",
    "def lookup(s):\n",
    "    return featureInfo[featureInfo.Field.str.contains(s)]"
   ]
  },
  {
   "cell_type": "code",
   "execution_count": 4,
   "metadata": {},
   "outputs": [
    {
     "name": "stderr",
     "output_type": "stream",
     "text": [
      "C:\\Users\\mrkawa\\Anaconda3\\lib\\site-packages\\pandas\\core\\indexing.py:965: SettingWithCopyWarning: \n",
      "A value is trying to be set on a copy of a slice from a DataFrame.\n",
      "Try using .loc[row_indexer,col_indexer] = value instead\n",
      "\n",
      "See the caveats in the documentation: https://pandas.pydata.org/pandas-docs/stable/user_guide/indexing.html#returning-a-view-versus-a-copy\n",
      "  self.obj[item] = s\n",
      "C:\\Users\\mrkawa\\Anaconda3\\lib\\site-packages\\pandas\\core\\indexing.py:844: SettingWithCopyWarning: \n",
      "A value is trying to be set on a copy of a slice from a DataFrame.\n",
      "Try using .loc[row_indexer,col_indexer] = value instead\n",
      "\n",
      "See the caveats in the documentation: https://pandas.pydata.org/pandas-docs/stable/user_guide/indexing.html#returning-a-view-versus-a-copy\n",
      "  self.obj[key] = _infer_fill_value(value)\n"
     ]
    }
   ],
   "source": [
    "# Update legacy player IDs when applicable\n",
    "legacyIds = pd.read_csv('data/legacy_id_map.csv')\n",
    "\n",
    "keys = [x[0] for x in legacyIds.drop(['full_name'],axis=1).values]\n",
    "vals = [x[1] for x in legacyIds.drop(['full_name'],axis=1).values]\n",
    "legacyIdDict = {keys[i]: vals[i] for i in range(len(keys))}\n",
    "\n",
    "df.loc[:,'passer_player_id'] = [legacyIdDict[x] if x in legacyIdDict.keys() else x for x in df['passer_player_id']]\n",
    "df.loc[:,'rusher_player_id'] = [legacyIdDict[x] if x in legacyIdDict.keys() else x for x in df['rusher_player_id']]\n",
    "df.loc[:,'receiver_player_id'] = [legacyIdDict[x] if x in legacyIdDict.keys() else x for x in df['receiver_player_id']]\n",
    "\n",
    "# Calculate useful stats\n",
    "df.loc[:,'pass_yards'] = df.pass_attempt * df.yards_gained\n",
    "df.loc[:,'rush_yards'] = df.rush_attempt * df.yards_gained\n",
    "df.loc[:,'rec_yards'] = df.pass_attempt * df.yards_gained"
   ]
  },
  {
   "cell_type": "code",
   "execution_count": 5,
   "metadata": {},
   "outputs": [],
   "source": [
    "passStats = ['season'] + list(featureInfo[featureInfo['Pass']==1].Field)\n",
    "rushStats = ['season'] + list(featureInfo[featureInfo['Rush']==1].Field)\n",
    "recStats = ['season'] + list(featureInfo[featureInfo['Rec']==1].Field)\n",
    "\n",
    "dfPass = df.dropna(subset=['passer_player_name'])[passStats].rename(columns={'passer_player_name':'player_name','passer_player_name':'player_name'})\n",
    "dfRush = df.dropna(subset=['rusher_player_name'])[rushStats].rename(columns={'rusher_player_name':'player_name','rusher_player_name':'player_name'})\n",
    "dfRec = df.dropna(subset=['receiver_player_name'])[recStats].rename(columns={'receiver_player_name':'player_name','receiver_player_name':'player_name'})\n",
    "\n",
    "plays = pd.concat([dfRush,dfRec,dfPass]).fillna(0)"
   ]
  },
  {
   "cell_type": "markdown",
   "metadata": {},
   "source": [
    "# Position tags"
   ]
  },
  {
   "cell_type": "code",
   "execution_count": 8,
   "metadata": {},
   "outputs": [],
   "source": [
    "# Read in position data\n",
    "if os.path.exists('rosterNamed.csv'):\n",
    "    roster = pd.read_csv('data/rosterNamed.csv')\n",
    "else:\n",
    "    if os.path.exists('data/roster.csv.gz'):\n",
    "        roster = pd.read_csv('data/roster.csv.gz', compression='gzip', index_col=0)\n",
    "    else:\n",
    "        roster = pd.read_csv('https://raw.githubusercontent.com/guga31bb/nflfastR-data/master/roster-data/roster.csv', low_memory=False)\n",
    "        roster.to_csv('data/roster.csv.gz', compression='gzip')\n",
    "\n",
    "    roster = roster[roster['teamPlayers.positionGroup'].apply(lambda x: any([y in x for y in ['QB','RB','WR','TE']]))].reset_index(drop=True)\n",
    "    \n",
    "    if not 'player_name' in roster.columns:\n",
    "        roster.insert(0,'player_name','')\n",
    "\n",
    "    i = 0\n",
    "    print(len(allStats['player_name'].unique()))\n",
    "    for name in allStats['player_name'].unique():\n",
    "        i+=1\n",
    "        sys.stdout.write(f'{i} \\r'); sys.stdout.flush()\n",
    "        if '.' in name:\n",
    "            first = name.split('.')[0]\n",
    "            last = name.split('.')[1]\n",
    "            roster.loc[roster['teamPlayers.firstName'].str.startswith(first) & roster['teamPlayers.lastName'].str.match(last),'player_name'] = first+'.'+last\n",
    "        elif ' ' in name:\n",
    "            first = name.split(' ')[0]\n",
    "            last = name.split(' ')[1]\n",
    "            roster.loc[roster['teamPlayers.firstName'].str.startswith(first) & roster['teamPlayers.lastName'].str.match(last),'player_name'] = first+' '+last\n",
    "        else:\n",
    "            first = re.findall('[A-Z][^A-Z]*', name)[0]\n",
    "            last = re.findall('[A-Z][^A-Z]*', name)[-1]\n",
    "            roster.loc[roster['teamPlayers.firstName'].str.startswith(first) & roster['teamPlayers.lastName'].str.match(last),'player_name'] = first+last\n",
    "\n",
    "        roster.to_csv('data/rosterNamed.csv',index=False)"
   ]
  },
  {
   "cell_type": "code",
   "execution_count": 9,
   "metadata": {
    "scrolled": false
   },
   "outputs": [],
   "source": [
    "# Lookups\n",
    "posMap = {roster['player_name'][i]: roster['teamPlayers.positionGroup'][i] for i in range(len(roster))}\n",
    "\n",
    "if 'pos' not in plays.columns:\n",
    "    plays.insert(2,'pos','')\n",
    "    \n",
    "plays.loc[:,'pos'] = [posMap[x] if x in posMap.keys() else np.nan for x in plays.player_name]\n",
    "    \n",
    "labeled = plays.dropna(subset=['pos'])\n",
    "\n",
    "labeled.to_csv('data/labeled.csv',index=False)"
   ]
  },
  {
   "cell_type": "markdown",
   "metadata": {},
   "source": [
    "## Season total stats"
   ]
  },
  {
   "cell_type": "code",
   "execution_count": 57,
   "metadata": {},
   "outputs": [
    {
     "data": {
      "text/plain": [
       "Index(['season', 'player_name', 'pos', 'rush_attempt', 'rush_touchdown',\n",
       "       'tackled_for_loss', 'yards_gained', 'fumble', 'touchdown',\n",
       "       'complete_pass', 'pass_attempt', 'pass_touchdown', 'air_yards',\n",
       "       'yards_after_catch', 'qb_dropback', 'qb_hit', 'qb_scramble', 'sack'],\n",
       "      dtype='object')"
      ]
     },
     "execution_count": 57,
     "metadata": {},
     "output_type": "execute_result"
    }
   ],
   "source": [
    "# Sum all metrics per player per season\n",
    "seasonTotals = plays.groupby(['season','player_name','pos']).sum().drop(['play_id'],axis=1).reset_index()\n",
    "\n",
    "seasonTotals.columns\n",
    "# seasonTotals.describe().transpose()[['min','max','mean','std']] #df info"
   ]
  },
  {
   "cell_type": "code",
   "execution_count": 58,
   "metadata": {},
   "outputs": [],
   "source": [
    "# Calculate fantasy points\n",
    "if not 'fanPts' in seasonTotals.columns:\n",
    "    seasonTotals.insert(3,'fanPts',0)\n",
    "\n",
    "ppr = 0\n",
    "seasonTotals.fanPts = seasonTotals.yards_gained/10 + seasonTotals.touchdown*6 - 2*seasonTotals.fumble + seasonTotals.complete_pass*ppr\n",
    "seasonTotals.loc[seasonTotals['pos']=='QB','fanPts'] = seasonTotals.loc[seasonTotals['pos']=='QB','yards_gained']/25 + seasonTotals.loc[seasonTotals['pos']=='QB','touchdown']*4 - 2*seasonTotals.loc[seasonTotals['pos']=='QB','fumble']"
   ]
  },
  {
   "cell_type": "code",
   "execution_count": 59,
   "metadata": {},
   "outputs": [],
   "source": [
    "# Append data from N previous seasons as new columns \n",
    "seasonHist = seasonTotals.copy().set_index(['season','player_name','pos'])\n",
    "currentYear = 2019\n",
    "lookback = 3\n",
    "for i in range(1,lookback+1):\n",
    "    temp = seasonTotals.copy()\n",
    "    temp = temp[temp.season.isin(range(1999,currentYear-i+1))]\n",
    "    temp['season'] = temp.season+i\n",
    "    seasonHist = seasonHist.join(temp.set_index(['season','player_name','pos']),how='outer',rsuffix=f'-{i}')\n",
    "\n",
    "# Remove no longer active players\n",
    "# seasonHist = seasonHist.dropna(subset=['fanPts'])\n",
    "seasonHist.to_csv('seasonHist.csv', index=False)"
   ]
  },
  {
   "cell_type": "markdown",
   "metadata": {},
   "source": [
    "## Game average stats"
   ]
  },
  {
   "cell_type": "code",
   "execution_count": 60,
   "metadata": {},
   "outputs": [
    {
     "data": {
      "text/plain": [
       "Index(['rush_attempt', 'rush_touchdown', 'tackled_for_loss', 'yards_gained',\n",
       "       'fumble', 'touchdown', 'complete_pass', 'pass_attempt',\n",
       "       'pass_touchdown', 'air_yards', 'yards_after_catch', 'qb_dropback',\n",
       "       'qb_hit', 'qb_scramble', 'sack'],\n",
       "      dtype='object')"
      ]
     },
     "execution_count": 60,
     "metadata": {},
     "output_type": "execute_result"
    }
   ],
   "source": [
    "# Sum all metrics per player per season\n",
    "gameTotals = plays.groupby(['season','player_name','game_id']).sum().drop(['play_id'],axis=1)\n",
    "gameAvgs = gameTotals.groupby(['season','player_name']).mean()\n",
    "\n",
    "gameAvgs.columns\n",
    "# gameAvgs.describe().transpose()[['min','max','mean','std']] #df info\n",
    "# gameAvgs"
   ]
  },
  {
   "cell_type": "code",
   "execution_count": 61,
   "metadata": {},
   "outputs": [],
   "source": [
    "# Append data from N previous seasons as new columns \n",
    "gameAvgHist = gameAvgs.copy()\n",
    "currentYear = 2019\n",
    "lookback = 3\n",
    "for i in range(1,lookback+1):\n",
    "    temp = gameAvgs.copy().reset_index()\n",
    "    temp = temp[temp.season.isin(range(1999,currentYear-i+1))]\n",
    "    temp['season'] = temp.season+i\n",
    "    gameAvgHist = gameAvgHist.join(temp.set_index(['season','player_name']),how='outer',rsuffix=f'-{i}')\n",
    "\n",
    "gameAvgHist.to_csv('gameAvgHist.csv', index=False)"
   ]
  },
  {
   "cell_type": "code",
   "execution_count": 62,
   "metadata": {},
   "outputs": [],
   "source": [
    "# Join game avgs to season total df\n",
    "allStats = seasonHist.join(gameAvgHist, lsuffix='_seasonTotal', rsuffix='_avgPerGame').reset_index()\n",
    "allStats.dropna(subset=['fanPts']).to_csv('allStats.csv', index=False)"
   ]
  },
  {
   "cell_type": "markdown",
   "metadata": {},
   "source": [
    "### Split into separate files for position"
   ]
  },
  {
   "cell_type": "code",
   "execution_count": 77,
   "metadata": {
    "collapsed": true
   },
   "outputs": [
    {
     "data": {
      "text/html": [
       "<div>\n",
       "<style scoped>\n",
       "    .dataframe tbody tr th:only-of-type {\n",
       "        vertical-align: middle;\n",
       "    }\n",
       "\n",
       "    .dataframe tbody tr th {\n",
       "        vertical-align: top;\n",
       "    }\n",
       "\n",
       "    .dataframe thead th {\n",
       "        text-align: right;\n",
       "    }\n",
       "</style>\n",
       "<table border=\"1\" class=\"dataframe\">\n",
       "  <thead>\n",
       "    <tr style=\"text-align: right;\">\n",
       "      <th></th>\n",
       "      <th>fanPts</th>\n",
       "      <th>fanPts-1</th>\n",
       "      <th>fanPts-2</th>\n",
       "      <th>fanPts-3</th>\n",
       "    </tr>\n",
       "  </thead>\n",
       "  <tbody>\n",
       "    <tr>\n",
       "      <th>25</th>\n",
       "      <td>0.320</td>\n",
       "      <td>nan</td>\n",
       "      <td>nan</td>\n",
       "      <td>nan</td>\n",
       "    </tr>\n",
       "    <tr>\n",
       "      <th>31</th>\n",
       "      <td>4.160</td>\n",
       "      <td>nan</td>\n",
       "      <td>nan</td>\n",
       "      <td>nan</td>\n",
       "    </tr>\n",
       "    <tr>\n",
       "      <th>39</th>\n",
       "      <td>222.480</td>\n",
       "      <td>nan</td>\n",
       "      <td>nan</td>\n",
       "      <td>nan</td>\n",
       "    </tr>\n",
       "    <tr>\n",
       "      <th>41</th>\n",
       "      <td>157.760</td>\n",
       "      <td>nan</td>\n",
       "      <td>nan</td>\n",
       "      <td>nan</td>\n",
       "    </tr>\n",
       "    <tr>\n",
       "      <th>43</th>\n",
       "      <td>65.520</td>\n",
       "      <td>nan</td>\n",
       "      <td>nan</td>\n",
       "      <td>nan</td>\n",
       "    </tr>\n",
       "    <tr>\n",
       "      <th>...</th>\n",
       "      <td>...</td>\n",
       "      <td>...</td>\n",
       "      <td>...</td>\n",
       "      <td>...</td>\n",
       "    </tr>\n",
       "    <tr>\n",
       "      <th>17374</th>\n",
       "      <td>nan</td>\n",
       "      <td>nan</td>\n",
       "      <td>nan</td>\n",
       "      <td>5.160</td>\n",
       "    </tr>\n",
       "    <tr>\n",
       "      <th>17376</th>\n",
       "      <td>nan</td>\n",
       "      <td>nan</td>\n",
       "      <td>56.200</td>\n",
       "      <td>17.480</td>\n",
       "    </tr>\n",
       "    <tr>\n",
       "      <th>17379</th>\n",
       "      <td>-0.560</td>\n",
       "      <td>nan</td>\n",
       "      <td>131.680</td>\n",
       "      <td>184.920</td>\n",
       "    </tr>\n",
       "    <tr>\n",
       "      <th>17392</th>\n",
       "      <td>nan</td>\n",
       "      <td>nan</td>\n",
       "      <td>23.960</td>\n",
       "      <td>nan</td>\n",
       "    </tr>\n",
       "    <tr>\n",
       "      <th>17408</th>\n",
       "      <td>10.240</td>\n",
       "      <td>nan</td>\n",
       "      <td>nan</td>\n",
       "      <td>nan</td>\n",
       "    </tr>\n",
       "  </tbody>\n",
       "</table>\n",
       "<p>2361 rows × 4 columns</p>\n",
       "</div>"
      ],
      "text/plain": [
       "       fanPts  fanPts-1  fanPts-2  fanPts-3\n",
       "25      0.320       nan       nan       nan\n",
       "31      4.160       nan       nan       nan\n",
       "39    222.480       nan       nan       nan\n",
       "41    157.760       nan       nan       nan\n",
       "43     65.520       nan       nan       nan\n",
       "...       ...       ...       ...       ...\n",
       "17374     nan       nan       nan     5.160\n",
       "17376     nan       nan    56.200    17.480\n",
       "17379  -0.560       nan   131.680   184.920\n",
       "17392     nan       nan    23.960       nan\n",
       "17408  10.240       nan       nan       nan\n",
       "\n",
       "[2361 rows x 4 columns]"
      ]
     },
     "execution_count": 77,
     "metadata": {},
     "output_type": "execute_result"
    }
   ],
   "source": [
    "allStats.loc[allStats['pos']==pos,cols[pos]+list(allStats.columns[allStats.columns.str.contains('fanPts')])]"
   ]
  },
  {
   "cell_type": "code",
   "execution_count": 78,
   "metadata": {},
   "outputs": [],
   "source": [
    "featureInfo = featureInfo.loc[featureInfo['Use']==1,:]\n",
    "\n",
    "positions = ['QB','RB','WR','TE']\n",
    "\n",
    "cols = {}\n",
    "cols['QB'] = [x for x in allStats.columns if any([x.startswith(y) for y in featureInfo[featureInfo.Pass == 1].Field.tolist()])]\n",
    "cols['RB'] = [x for x in allStats.columns if any([x.startswith(y) for y in featureInfo[featureInfo.Rush == 1].Field.tolist()])]\n",
    "cols['WR'] = [x for x in allStats.columns if any([x.startswith(y) for y in featureInfo[featureInfo.Rec == 1].Field.tolist()])]\n",
    "cols['TE'] = [x for x in allStats.columns if any([x.startswith(y) for y in featureInfo[featureInfo.Rec == 1].Field.tolist()])]\n",
    "\n",
    "allData = {}\n",
    "for pos in positions:\n",
    "    allData[pos] = allStats.loc[allStats['pos']==pos,cols[pos]+list(allStats.columns[allStats.columns.str.contains('fanPts')])]\n",
    "    allData[pos].to_csv(f'{pos}.csv', index=False)"
   ]
  }
 ],
 "metadata": {
  "kernelspec": {
   "display_name": "Python 3",
   "language": "python",
   "name": "python3"
  },
  "language_info": {
   "codemirror_mode": {
    "name": "ipython",
    "version": 3
   },
   "file_extension": ".py",
   "mimetype": "text/x-python",
   "name": "python",
   "nbconvert_exporter": "python",
   "pygments_lexer": "ipython3",
   "version": "3.7.6"
  }
 },
 "nbformat": 4,
 "nbformat_minor": 4
}
