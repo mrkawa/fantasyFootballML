{
 "cells": [
  {
   "cell_type": "code",
   "execution_count": 369,
   "metadata": {},
   "outputs": [],
   "source": [
    "import pandas as pd\n",
    "import numpy as np\n",
    "import matplotlib.pyplot as plt\n",
    "import os, sys\n",
    "import re\n",
    "from datetime import date\n",
    "from sklearn.model_selection import train_test_split\n",
    "\n",
    "pd.set_option(\"display.max_rows\", 100, \"display.max_columns\", 100)\n",
    "pd.set_option('display.max_colwidth', None)\n",
    "pd.set_option('display.float_format', lambda x: '%.3f' % x)\n",
    "\n",
    "def p(s):\n",
    "    print(s)\n",
    "    \n",
    "pd.DataFrame.len = pd.Index.len = lambda x: print(len(x))"
   ]
  },
  {
   "cell_type": "code",
   "execution_count": 269,
   "metadata": {},
   "outputs": [],
   "source": [
    "# Read raw data - from local file if available, else from internet and write to local file\n",
    "if os.path.exists('data/data.csv.gz'):\n",
    "    dfFull = pd.read_csv('data/data.csv.gz', compression='gzip', index_col=0, low_memory=False)\n",
    "elif os.path.exists('../data/data.csv.gz'):\n",
    "    dfFull = pd.read_csv('../data/data.csv.gz', compression='gzip', index_col=0, low_memory=False)\n",
    "else:\n",
    "    YEARS = np.arange(1999,date.today().year)\n",
    "    dfFull = pd.DataFrame()\n",
    "    for i in YEARS:\n",
    "        sys.stdout.write(f'{i} \\r'); sys.stdout.flush()\n",
    "        iData = pd.read_csv('https://github.com/guga31bb/nflfastR-data/blob/master/data/' \\\n",
    "                             'play_by_play_' + str(i) + '.csv.gz?raw=True',\n",
    "                             compression='gzip', low_memory=False)\n",
    "        dfFull = dfFull.append(iData, sort=True)\n",
    "\n",
    "    dfFull.reset_index(drop=True, inplace=True)\n",
    "    dfFull.to_csv('../data/data.csv.gz', compression='gzip', low_memory=False)"
   ]
  },
  {
   "cell_type": "code",
   "execution_count": 370,
   "metadata": {},
   "outputs": [],
   "source": [
    "# Lookup table with all features of the raw data\n",
    "featureInfo = pd.read_csv('features.csv').iloc[:,0:-9]\n",
    "featureInfo = featureInfo[featureInfo.Use==1]\n",
    "\n",
    "df = dfFull[['season'] + [x for x in featureInfo.Field]]\n",
    "    \n",
    "def lookup(s):\n",
    "    return featureInfo[featureInfo.Field.str.contains(s)]"
   ]
  },
  {
   "cell_type": "code",
   "execution_count": 271,
   "metadata": {},
   "outputs": [],
   "source": [
    "# # Update legacy player IDs when applicable\n",
    "# legacyIds = pd.read_csv('data/legacy_id_map.csv')\n",
    "\n",
    "# keys = [x[0] for x in legacyIds.drop(['full_name'],axis=1).values]\n",
    "# vals = [x[1] for x in legacyIds.drop(['full_name'],axis=1).values]\n",
    "# legacyIdDict = {keys[i]: vals[i] for i in range(len(keys))}\n",
    "\n",
    "# df.loc[:,'passer_player_id'] = [legacyIdDict[x] if x in legacyIdDict.keys() else x for x in df['passer_player_id']]\n",
    "# df.loc[:,'rusher_player_id'] = [legacyIdDict[x] if x in legacyIdDict.keys() else x for x in df['rusher_player_id']]\n",
    "# df.loc[:,'receiver_player_id'] = [legacyIdDict[x] if x in legacyIdDict.keys() else x for x in df['receiver_player_id']]"
   ]
  },
  {
   "cell_type": "code",
   "execution_count": 371,
   "metadata": {},
   "outputs": [],
   "source": [
    "passStats = ['season'] + list(featureInfo[featureInfo['Pass']==1].Field)\n",
    "rushStats = ['season'] + list(featureInfo[featureInfo['Rush']==1].Field)\n",
    "recStats = ['season'] + list(featureInfo[featureInfo['Rec']==1].Field)\n",
    "\n",
    "dfPass = df.dropna(subset=['passer_player_name'])[passStats].rename(columns={'passer_player_name':'player_name','passer_player_id':'player_id'})\n",
    "dfRush = df.dropna(subset=['rusher_player_name'])[rushStats].rename(columns={'rusher_player_name':'player_name','rusher_player_id':'player_id'})\n",
    "dfRec = df.dropna(subset=['receiver_player_name'])[recStats].rename(columns={'receiver_player_name':'player_name','receiver_player_id':'player_id'})\n",
    "\n",
    "plays = pd.concat([dfPass,dfRec,dfRush]).fillna(0)"
   ]
  },
  {
   "cell_type": "code",
   "execution_count": 372,
   "metadata": {},
   "outputs": [],
   "source": [
    "# Calculate useful stats\n",
    "plays.loc[:,'pass_yards'] = plays.pass_attempt * plays.yards_gained\n",
    "plays.loc[:,'rush_yards'] = plays.rush_attempt * plays.yards_gained\n",
    "plays.loc[:,'rec_yards'] = plays.pass_attempt * plays.yards_gained"
   ]
  },
  {
   "cell_type": "markdown",
   "metadata": {},
   "source": [
    "# Position tags"
   ]
  },
  {
   "cell_type": "code",
   "execution_count": 274,
   "metadata": {},
   "outputs": [],
   "source": [
    "# Read in position data\n",
    "if os.path.exists('rosterNamed.csv'):\n",
    "    roster = pd.read_csv('data/rosterNamed.csv')\n",
    "else:\n",
    "    if os.path.exists('data/roster.csv.gz'):\n",
    "        roster = pd.read_csv('data/roster.csv.gz', compression='gzip', index_col=0)\n",
    "    else:\n",
    "        roster = pd.read_csv('https://raw.githubusercontent.com/guga31bb/nflfastR-data/master/roster-data/roster.csv', low_memory=False)\n",
    "        roster.to_csv('data/roster.csv.gz', compression='gzip')\n",
    "\n",
    "    roster = roster[roster['teamPlayers.positionGroup'].apply(lambda x: any([y in x for y in ['QB','RB','WR','TE']]))].reset_index(drop=True)\n",
    "    \n",
    "    if not 'player_name' in roster.columns:\n",
    "        roster.insert(0,'player_name','')\n",
    "\n",
    "    i = 0\n",
    "    print(len(allStats['player_name'].unique()))\n",
    "    for name in allStats['player_name'].unique():\n",
    "        i+=1\n",
    "        sys.stdout.write(f'{i} \\r'); sys.stdout.flush()\n",
    "        if '.' in name:\n",
    "            first = name.split('.')[0]\n",
    "            last = name.split('.')[1]\n",
    "            roster.loc[roster['teamPlayers.firstName'].str.startswith(first) & roster['teamPlayers.lastName'].str.match(last),'player_name'] = first+'.'+last\n",
    "        elif ' ' in name:\n",
    "            first = name.split(' ')[0]\n",
    "            last = name.split(' ')[1]\n",
    "            roster.loc[roster['teamPlayers.firstName'].str.startswith(first) & roster['teamPlayers.lastName'].str.match(last),'player_name'] = first+' '+last\n",
    "        else:\n",
    "            first = re.findall('[A-Z][^A-Z]*', name)[0]\n",
    "            last = re.findall('[A-Z][^A-Z]*', name)[-1]\n",
    "            roster.loc[roster['teamPlayers.firstName'].str.startswith(first) & roster['teamPlayers.lastName'].str.match(last),'player_name'] = first+last\n",
    "\n",
    "        roster.to_csv('data/rosterNamed.csv',index=False)"
   ]
  },
  {
   "cell_type": "code",
   "execution_count": 275,
   "metadata": {},
   "outputs": [],
   "source": [
    "# Lookups\n",
    "posMap = {roster['player_name'][i]: roster['teamPlayers.positionGroup'][i] for i in range(len(roster))}\n",
    "\n",
    "labeled = plays.copy()\n",
    "\n",
    "if 'pos' not in labeled.columns:\n",
    "    labeled.insert(1,'pos','')\n",
    "    \n",
    "    \n",
    "labeled.loc[:,'pos'] = [posMap[x] if x in posMap.keys() else np.nan for x in plays.player_name]\n",
    "    \n",
    "labeled = labeled.dropna(subset=['pos'])"
   ]
  },
  {
   "cell_type": "markdown",
   "metadata": {},
   "source": [
    "## Opponent data"
   ]
  },
  {
   "cell_type": "code",
   "execution_count": 386,
   "metadata": {
    "scrolled": false
   },
   "outputs": [],
   "source": [
    "allowed = labeled.groupby(['season','defteam','pos']).sum().drop('play_id', axis=1).reset_index()\n",
    "\n",
    "# Calculate fantasy points\n",
    "if not 'fanPts' in allowed.columns:\n",
    "    allowed.insert(3,'fanPts',0)\n",
    "\n",
    "ppr = 0\n",
    "allowed.fanPts = allowed.yards_gained/10 \\\n",
    "                        + 6 * (allowed.pass_touchdown + allowed.rush_touchdown) \\\n",
    "                        - 2 * allowed.fumble \\\n",
    "                        + ppr * allowed.complete_pass\n",
    "\n",
    "allowed.loc[allowed['pos']=='QB','fanPts'] = allowed.yards_gained/25 \\\n",
    "                        + 4 * allowed.pass_touchdown \\\n",
    "                        + 6 * allowed.rush_touchdown \\\n",
    "                        - 2 * allowed.fumble \\\n",
    "                        - 2 * allowed.interception\n",
    "\n",
    "matchups = labeled.groupby(['season','posteam','defteam']).sum()\n",
    "\n",
    "allowed = matchups.reset_index().iloc[:,:3].merge(allowed).groupby(['season','posteam','pos']).sum()\n",
    "allowed = allowed.loc[:,['fanPts']]#,'complete_pass','pass_touchdown','air_yards','yards_gained','fumble','interception','touchdown','yards_after_catch','rush_touchdown','pass_yards','rush_yards','rec_yards']]"
   ]
  },
  {
   "cell_type": "markdown",
   "metadata": {},
   "source": [
    "## Teammate Data"
   ]
  },
  {
   "cell_type": "code",
   "execution_count": 434,
   "metadata": {},
   "outputs": [
    {
     "data": {
      "text/html": [
       "<div>\n",
       "<style scoped>\n",
       "    .dataframe tbody tr th:only-of-type {\n",
       "        vertical-align: middle;\n",
       "    }\n",
       "\n",
       "    .dataframe tbody tr th {\n",
       "        vertical-align: top;\n",
       "    }\n",
       "\n",
       "    .dataframe thead th {\n",
       "        text-align: right;\n",
       "    }\n",
       "</style>\n",
       "<table border=\"1\" class=\"dataframe\">\n",
       "  <thead>\n",
       "    <tr style=\"text-align: right;\">\n",
       "      <th></th>\n",
       "      <th>pos</th>\n",
       "      <th>QB</th>\n",
       "      <th>RB</th>\n",
       "      <th>TE</th>\n",
       "      <th>WR</th>\n",
       "    </tr>\n",
       "    <tr>\n",
       "      <th>season</th>\n",
       "      <th>posteam</th>\n",
       "      <th></th>\n",
       "      <th></th>\n",
       "      <th></th>\n",
       "      <th></th>\n",
       "    </tr>\n",
       "  </thead>\n",
       "  <tbody>\n",
       "    <tr>\n",
       "      <th rowspan=\"5\" valign=\"top\">1999</th>\n",
       "      <th>ARI</th>\n",
       "      <td>57.360</td>\n",
       "      <td>152.000</td>\n",
       "      <td>115.600</td>\n",
       "      <td>338.900</td>\n",
       "    </tr>\n",
       "    <tr>\n",
       "      <th>ATL</th>\n",
       "      <td>162.560</td>\n",
       "      <td>229.200</td>\n",
       "      <td>55.000</td>\n",
       "      <td>356.300</td>\n",
       "    </tr>\n",
       "    <tr>\n",
       "      <th>BAL</th>\n",
       "      <td>150.080</td>\n",
       "      <td>292.600</td>\n",
       "      <td>28.300</td>\n",
       "      <td>296.800</td>\n",
       "    </tr>\n",
       "    <tr>\n",
       "      <th>BUF</th>\n",
       "      <td>173.160</td>\n",
       "      <td>336.900</td>\n",
       "      <td>73.600</td>\n",
       "      <td>352.800</td>\n",
       "    </tr>\n",
       "    <tr>\n",
       "      <th>CAR</th>\n",
       "      <td>267.040</td>\n",
       "      <td>231.500</td>\n",
       "      <td>169.300</td>\n",
       "      <td>444.500</td>\n",
       "    </tr>\n",
       "    <tr>\n",
       "      <th>...</th>\n",
       "      <th>...</th>\n",
       "      <td>...</td>\n",
       "      <td>...</td>\n",
       "      <td>...</td>\n",
       "      <td>...</td>\n",
       "    </tr>\n",
       "    <tr>\n",
       "      <th rowspan=\"5\" valign=\"top\">2019</th>\n",
       "      <th>SEA</th>\n",
       "      <td>299.080</td>\n",
       "      <td>337.900</td>\n",
       "      <td>121.200</td>\n",
       "      <td>458.600</td>\n",
       "    </tr>\n",
       "    <tr>\n",
       "      <th>SF</th>\n",
       "      <td>228.240</td>\n",
       "      <td>528.300</td>\n",
       "      <td>164.700</td>\n",
       "      <td>377.300</td>\n",
       "    </tr>\n",
       "    <tr>\n",
       "      <th>TB</th>\n",
       "      <td>252.080</td>\n",
       "      <td>274.600</td>\n",
       "      <td>111.700</td>\n",
       "      <td>518.100</td>\n",
       "    </tr>\n",
       "    <tr>\n",
       "      <th>TEN</th>\n",
       "      <td>288.400</td>\n",
       "      <td>389.100</td>\n",
       "      <td>173.800</td>\n",
       "      <td>398.400</td>\n",
       "    </tr>\n",
       "    <tr>\n",
       "      <th>WAS</th>\n",
       "      <td>133.200</td>\n",
       "      <td>243.400</td>\n",
       "      <td>62.700</td>\n",
       "      <td>305.300</td>\n",
       "    </tr>\n",
       "  </tbody>\n",
       "</table>\n",
       "<p>670 rows × 4 columns</p>\n",
       "</div>"
      ],
      "text/plain": [
       "pos                 QB      RB      TE      WR\n",
       "season posteam                                \n",
       "1999   ARI      57.360 152.000 115.600 338.900\n",
       "       ATL     162.560 229.200  55.000 356.300\n",
       "       BAL     150.080 292.600  28.300 296.800\n",
       "       BUF     173.160 336.900  73.600 352.800\n",
       "       CAR     267.040 231.500 169.300 444.500\n",
       "...                ...     ...     ...     ...\n",
       "2019   SEA     299.080 337.900 121.200 458.600\n",
       "       SF      228.240 528.300 164.700 377.300\n",
       "       TB      252.080 274.600 111.700 518.100\n",
       "       TEN     288.400 389.100 173.800 398.400\n",
       "       WAS     133.200 243.400  62.700 305.300\n",
       "\n",
       "[670 rows x 4 columns]"
      ]
     },
     "execution_count": 434,
     "metadata": {},
     "output_type": "execute_result"
    }
   ],
   "source": [
    "teamTotal = labeled.groupby(['season','posteam','pos']).sum().drop('play_id', axis=1).reset_index()\n",
    "\n",
    "# Calculate fantasy points\n",
    "if not 'fanPts' in teamTotal.columns:\n",
    "    teamTotal.insert(3,'fanPts',0)\n",
    "\n",
    "ppr = 0\n",
    "teamTotal.fanPts = teamTotal.yards_gained/10 \\\n",
    "                        + 6 * (teamTotal.pass_touchdown + teamTotal.rush_touchdown) \\\n",
    "                        - 2 * teamTotal.fumble \\\n",
    "                        + ppr * teamTotal.complete_pass\n",
    "\n",
    "teamTotal.loc[teamTotal['pos']=='QB','fanPts'] = teamTotal.yards_gained/25 \\\n",
    "                        + 4 * teamTotal.pass_touchdown \\\n",
    "                        + 6 * teamTotal.rush_touchdown \\\n",
    "                        - 2 * teamTotal.fumble \\\n",
    "                        - 2 * teamTotal.interception\n",
    "\n",
    "teamTotal = matchups.reset_index().iloc[:,:2].drop_duplicates().merge(teamTotal).set_index(['season','posteam','pos'])\n",
    "teamTotal = teamTotal.loc[:,['fanPts']]#,'complete_pass','pass_touchdown','air_yards','yards_gained','fumble','interception','touchdown','yards_after_catch','rush_touchdown','pass_yards','rush_yards','rec_yards']]\n",
    "teamTotal = teamTotal.unstack()\n",
    "teamTotal.columns = teamTotal.columns.droplevel()\n",
    "teamTotal"
   ]
  },
  {
   "cell_type": "markdown",
   "metadata": {},
   "source": [
    "## Season total stats"
   ]
  },
  {
   "cell_type": "code",
   "execution_count": 435,
   "metadata": {},
   "outputs": [
    {
     "data": {
      "text/plain": [
       "Index(['season', 'player_name', 'posteam', 'fanPts', 'pos', 'complete_pass',\n",
       "       'pass_attempt', 'pass_touchdown', 'qb_dropback', 'qb_hit',\n",
       "       'qb_scramble', 'sack', 'tackled_for_loss', 'air_yards', 'yards_gained',\n",
       "       'fumble', 'interception', 'touchdown', 'yards_after_catch',\n",
       "       'rush_attempt', 'rush_touchdown', 'pass_yards', 'rush_yards',\n",
       "       'rec_yards', 'fanPts_oppAllowTotal', 'QB', 'RB', 'TE', 'WR'],\n",
       "      dtype='object')"
      ]
     },
     "execution_count": 435,
     "metadata": {},
     "output_type": "execute_result"
    }
   ],
   "source": [
    "# Sum all metrics per player per season\n",
    "seasonTotals = labeled.groupby(['season','player_name','posteam','pos']).sum().drop(['play_id'],axis=1).reset_index()\n",
    "\n",
    "# Calculate fantasy points\n",
    "if not 'fanPts' in seasonTotals.columns:\n",
    "    seasonTotals.insert(3,'fanPts',0)\n",
    "\n",
    "ppr = 0\n",
    "seasonTotals.fanPts = seasonTotals.yards_gained/10 \\\n",
    "                        + 6 * (seasonTotals.pass_touchdown + seasonTotals.rush_touchdown) \\\n",
    "                        - 2 * seasonTotals.fumble \\\n",
    "                        + ppr * seasonTotals.complete_pass\n",
    "\n",
    "seasonTotals.loc[seasonTotals['pos']=='QB','fanPts'] = seasonTotals.yards_gained/25 \\\n",
    "                        + 4 * seasonTotals.pass_touchdown \\\n",
    "                        + 6 * seasonTotals.rush_touchdown \\\n",
    "                        - 2 * seasonTotals.fumble \\\n",
    "                        - 2 * seasonTotals.interception\n",
    "\n",
    "seasonTotals = seasonTotals.merge(allowed.reset_index(), on=['season','posteam','pos'], suffixes=['','_oppAllowTotal'])\n",
    "seasonTotals = seasonTotals.merge(teamTotal.reset_index(), on=['season','posteam'], suffixes=['','_teamTotal'])\n",
    "\n",
    "seasonTotals.columns\n",
    "# seasonTotals.describe().transpose()[['min','max','mean','std']] #df info"
   ]
  },
  {
   "cell_type": "code",
   "execution_count": 449,
   "metadata": {},
   "outputs": [],
   "source": [
    "# Append data from N previous seasons as new columns \n",
    "seasonHist = seasonTotals.copy().set_index(['season','player_name','posteam','pos'])\n",
    "currentYear = 2019\n",
    "lookback = 3\n",
    "for i in range(1,lookback+1):\n",
    "    temp = seasonTotals.copy()\n",
    "    temp = temp[temp.season.isin(range(1999,currentYear-i+1))]\n",
    "    temp['season'] = temp.season+i\n",
    "    seasonHist = seasonHist.join(temp.set_index(['season','player_name','posteam','pos']),how='outer',rsuffix=f'-{i}')\n",
    "\n",
    "seasonHist.to_csv('expanded/seasonHist.csv', index=False)"
   ]
  },
  {
   "cell_type": "markdown",
   "metadata": {},
   "source": [
    "## Game average stats"
   ]
  },
  {
   "cell_type": "code",
   "execution_count": 452,
   "metadata": {},
   "outputs": [
    {
     "data": {
      "text/plain": [
       "Index(['complete_pass', 'pass_attempt', 'pass_touchdown', 'qb_dropback',\n",
       "       'qb_hit', 'qb_scramble', 'sack', 'tackled_for_loss', 'air_yards',\n",
       "       'yards_gained', 'fumble', 'interception', 'touchdown',\n",
       "       'yards_after_catch', 'rush_attempt', 'rush_touchdown', 'pass_yards',\n",
       "       'rush_yards', 'rec_yards'],\n",
       "      dtype='object')"
      ]
     },
     "execution_count": 452,
     "metadata": {},
     "output_type": "execute_result"
    }
   ],
   "source": [
    "# Sum all metrics per player per season\n",
    "gameTotals = labeled.groupby(['season','player_name','posteam','game_id','pos']).sum().drop(['play_id'],axis=1)\n",
    "gameAvgs = gameTotals.groupby(['season','player_name','posteam','pos']).mean()\n",
    "\n",
    "gameAvgs.columns\n",
    "# gameAvgs.describe().transpose()[['min','max','mean','std']] #df info\n",
    "# gameAvgs"
   ]
  },
  {
   "cell_type": "code",
   "execution_count": 453,
   "metadata": {},
   "outputs": [],
   "source": [
    "# Append data from N previous seasons as new columns \n",
    "gameAvgHist = gameAvgs.copy()\n",
    "currentYear = 2019\n",
    "lookback = 3\n",
    "for i in range(1,lookback+1):\n",
    "    temp = gameAvgs.copy().reset_index()\n",
    "    temp = temp[temp.season.isin(range(1999,currentYear-i+1))]\n",
    "    temp['season'] = temp.season+i\n",
    "    gameAvgHist = gameAvgHist.join(temp.set_index(['season','player_name','posteam','pos']),how='outer',rsuffix=f'-{i}')\n",
    "\n",
    "gameAvgHist.to_csv('expanded/gameAvgHist.csv', index=False)"
   ]
  },
  {
   "cell_type": "code",
   "execution_count": 454,
   "metadata": {},
   "outputs": [],
   "source": [
    "# Join game avgs to season total df\n",
    "allStats = seasonHist.join(gameAvgHist, lsuffix='_seasonTotal', rsuffix='_avgPerGame').reset_index()\n",
    "allStats = allStats.dropna(subset=['fanPts'])\n",
    "allStats.to_csv('expanded/allStats.csv', index=False)\n",
    "# allStats"
   ]
  },
  {
   "cell_type": "markdown",
   "metadata": {},
   "source": [
    "## Split into separate files for position"
   ]
  },
  {
   "cell_type": "code",
   "execution_count": 455,
   "metadata": {},
   "outputs": [],
   "source": [
    "featureInfo = pd.read_csv('features.csv').iloc[:,0:-9]\n",
    "featureInfo = featureInfo.loc[featureInfo['Use']==1,:]\n",
    "\n",
    "positions = ['QB','RB','WR','TE']\n",
    "\n",
    "cols = {}\n",
    "cols['QB'] = [x for x in allStats.columns if any([x.startswith(y) for y in featureInfo[featureInfo.Pass == 1].Field.tolist()])]\n",
    "cols['RB'] = [x for x in allStats.columns if any([x.startswith(y) for y in featureInfo[featureInfo.Rush == 1].Field.tolist()])]\n",
    "cols['WR'] = [x for x in allStats.columns if any([x.startswith(y) for y in featureInfo[featureInfo.Rec == 1].Field.tolist()])]\n",
    "cols['TE'] = [x for x in allStats.columns if any([x.startswith(y) for y in featureInfo[featureInfo.Rec == 1].Field.tolist()])]\n",
    "\n",
    "posData = {}\n",
    "for pos in positions:\n",
    "    posData[pos] = allStats.loc[allStats['pos']==pos,cols[pos]+list(allStats.columns[allStats.columns.str.contains('fanPts')])]\n",
    "    posData[pos] = allStats.loc[allStats['pos']==pos,:]\n",
    "    posData[pos].to_csv(f'expanded/{pos}.csv', index=False)"
   ]
  }
 ],
 "metadata": {
  "kernelspec": {
   "display_name": "Python 3",
   "language": "python",
   "name": "python3"
  },
  "language_info": {
   "codemirror_mode": {
    "name": "ipython",
    "version": 3
   },
   "file_extension": ".py",
   "mimetype": "text/x-python",
   "name": "python",
   "nbconvert_exporter": "python",
   "pygments_lexer": "ipython3",
   "version": "3.7.6"
  }
 },
 "nbformat": 4,
 "nbformat_minor": 4
}
