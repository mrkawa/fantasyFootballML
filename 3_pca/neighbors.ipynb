{
 "cells": [
  {
   "cell_type": "code",
   "execution_count": 4,
   "metadata": {},
   "outputs": [],
   "source": [
    "import pandas as pd\n",
    "import numpy as np\n",
    "import matplotlib.pyplot as plt\n",
    "import os, sys\n",
    "import math\n",
    "from datetime import date\n",
    "from sklearn import preprocessing\n",
    "from sklearn.model_selection import train_test_split\n",
    "from sklearn.model_selection import GridSearchCV\n",
    "from sklearn import neighbors\n",
    "from sklearn.decomposition import PCA\n",
    "from sklearn.metrics import mean_absolute_error, mean_squared_error, r2_score\n",
    "\n",
    "pd.set_option(\"display.max_rows\", 100, \"display.max_columns\", 100)\n",
    "# pd.set_option('display.max_colwidth', None)\n",
    "pd.set_option('display.float_format', lambda x: '%.3f' % x)\n",
    "\n",
    "def p(s):\n",
    "    print(s)\n",
    "    \n",
    "pd.DataFrame.len = pd.Index.len = lambda x: print(len(x))"
   ]
  },
  {
   "cell_type": "code",
   "execution_count": 1,
   "metadata": {},
   "outputs": [],
   "source": [
    "def graphRes(act, pred):\n",
    "    ax = plt.gca()\n",
    "    for pos in positions:\n",
    "        ax.scatter(act[pos],pred[pos], label=f'{pos} ({r2_score(act[pos], pred[pos]).round(2)})')\n",
    "\n",
    "    handles, labels = ax.get_legend_handles_labels()\n",
    "    ax.legend(labels)\n",
    "    ax.plot(act['QB'],act['QB'],color='black') # y==x reference line\n",
    "    ax.set_xlabel('Actual')\n",
    "    ax.set_ylabel('Predicted')\n",
    "\n",
    "def printStats(y_dev, y_pred):\n",
    "    graphRes(y_dev, y_pred)\n",
    "\n",
    "    stats = pd.DataFrame(index = ['MAE','RMSE','R^2'], columns = [positions])\n",
    "    for pos in positions:\n",
    "        stats.loc['MAE',pos] = mean_absolute_error(y_dev[pos], y_pred[pos]).round(1)\n",
    "        stats.loc['RMSE',pos] = round(math.sqrt(mean_squared_error(y_dev[pos], y_pred[pos])),1)\n",
    "        stats.loc['R^2',pos] = r2_score(y_dev[pos], y_pred[pos]).round(2)\n",
    "    \n",
    "    display(stats)\n",
    "    \n",
    "def cvGrid(params):\n",
    "    names = ['param_' + x for x in list(params.keys())]\n",
    "    return pd.DataFrame(grid.cv_results_)[names+['mean_test_score','std_test_score','rank_test_score','mean_fit_time','mean_score_time','std_fit_time','std_score_time']].sort_values(names)\n"
   ]
  },
  {
   "cell_type": "code",
   "execution_count": 90,
   "metadata": {},
   "outputs": [],
   "source": [
    "# Partition training, dev, and test data\n",
    "positions = ['QB','RB','WR','TE']\n",
    "X_train, X_dev, X_test = {}, {}, {}\n",
    "y_train, y_dev, y_test = {}, {}, {}\n",
    "data = {}\n",
    "for pos in positions:\n",
    "    Xy = pd.read_csv(f'../{pos}.csv').dropna(subset=['fanPts'])\n",
    "    data[pos] = Xy\n",
    "    X = Xy.loc[:,Xy.columns.str.contains('-\\d+') | Xy.columns.str.match('fanPts')] \\\n",
    "        .drop('fanPts',axis=1) \\\n",
    "        .fillna(0)\n",
    "    y = Xy.fanPts\n",
    "    \n",
    "    # Split\n",
    "    X_train_raw, X_test_raw, y_train_raw, y_test_raw = train_test_split(X, y, test_size=0.3, random_state=0)\n",
    "    X_dev_raw, X_test_raw, y_dev_raw, y_test_raw = train_test_split(X_test_raw, y_test_raw, test_size=0.5, random_state=0)\n",
    "    \n",
    "    # Scale X data\n",
    "    ss = preprocessing.StandardScaler()\n",
    "    X_train[pos] = pd.DataFrame(ss.fit_transform(X_train_raw), columns=X_train_raw.columns)\n",
    "    X_dev[pos] = pd.DataFrame(ss.fit_transform(X_dev_raw), columns=X_dev_raw.columns)\n",
    "    X_test[pos] = pd.DataFrame(ss.fit_transform(X_test_raw), columns=X_test_raw.columns)\n",
    "    \n",
    "    # Leave y data in original units\n",
    "    y_train[pos] = y_train_raw\n",
    "    y_dev[pos] = y_dev_raw\n",
    "    y_test[pos] = y_test_raw\n",
    "\n",
    "# PCA\n",
    "pca = {}\n",
    "pc = {}\n",
    "X_train_pc = {}\n",
    "X_dev_pc = {}\n",
    "X_test_pc = {}\n",
    "for pos in positions:\n",
    "    pca[pos] = PCA(n_components='mle')\n",
    "    pc[pos] = pca[pos].fit(X_train[pos])\n",
    "    plt.plot(np.cumsum(pca[pos].explained_variance_ratio_))\n",
    "    plt.plot(pca[pos].explained_variance_ratio_)\n",
    "plt.show()\n",
    "\n",
    "for pos in positions:\n",
    "    X_train[pos] = pca[pos].transform(X_train[pos])\n",
    "    X_dev[pos] = pca[pos].transform(X_dev[pos])\n",
    "    X_test[pos] = pca[pos].transform(X_test[pos])\n",
    "    plt.scatter(X_train[pos][:,0],X_train[pos][:,1],c=y_train[pos])\n",
    "plt.colorbar()\n",
    "plt.show()"
   ]
  },
  {
   "cell_type": "markdown",
   "metadata": {},
   "source": [
    "### K Neighbors Regression"
   ]
  },
  {
   "cell_type": "markdown",
   "metadata": {},
   "source": [
    "#### Base model"
   ]
  },
  {
   "cell_type": "code",
   "execution_count": 95,
   "metadata": {
    "scrolled": false
   },
   "outputs": [
    {
     "data": {
      "text/html": [
       "<div>\n",
       "<style scoped>\n",
       "    .dataframe tbody tr th:only-of-type {\n",
       "        vertical-align: middle;\n",
       "    }\n",
       "\n",
       "    .dataframe tbody tr th {\n",
       "        vertical-align: top;\n",
       "    }\n",
       "\n",
       "    .dataframe thead tr th {\n",
       "        text-align: left;\n",
       "    }\n",
       "</style>\n",
       "<table border=\"1\" class=\"dataframe\">\n",
       "  <thead>\n",
       "    <tr>\n",
       "      <th></th>\n",
       "      <th>QB</th>\n",
       "      <th>RB</th>\n",
       "      <th>WR</th>\n",
       "      <th>TE</th>\n",
       "    </tr>\n",
       "  </thead>\n",
       "  <tbody>\n",
       "    <tr>\n",
       "      <th>MAE</th>\n",
       "      <td>65.000</td>\n",
       "      <td>44.800</td>\n",
       "      <td>38.800</td>\n",
       "      <td>23.300</td>\n",
       "    </tr>\n",
       "    <tr>\n",
       "      <th>RMSE</th>\n",
       "      <td>84.800</td>\n",
       "      <td>68.400</td>\n",
       "      <td>60.500</td>\n",
       "      <td>32.300</td>\n",
       "    </tr>\n",
       "    <tr>\n",
       "      <th>R^2</th>\n",
       "      <td>0.390</td>\n",
       "      <td>0.300</td>\n",
       "      <td>0.310</td>\n",
       "      <td>0.400</td>\n",
       "    </tr>\n",
       "  </tbody>\n",
       "</table>\n",
       "</div>"
      ],
      "text/plain": [
       "         QB     RB     WR     TE\n",
       "MAE  65.000 44.800 38.800 23.300\n",
       "RMSE 84.800 68.400 60.500 32.300\n",
       "R^2   0.390  0.300  0.310  0.400"
      ]
     },
     "metadata": {},
     "output_type": "display_data"
    },
    {
     "data": {
      "image/png": "[encoded data removed]",
      "text/plain": [
       "<Figure size 432x288 with 1 Axes>"
      ]
     },
     "metadata": {
      "needs_background": "light"
     },
     "output_type": "display_data"
    }
   ],
   "source": [
    "y_pred = {}\n",
    "for pos in positions:\n",
    "    m = neighbors.KNeighborsRegressor()\n",
    "    m.fit(X_train[pos],y_train[pos])\n",
    "    y_pred[pos] = m.predict(X_dev[pos])\n",
    "    \n",
    "printStats(y_dev, y_pred)"
   ]
  },
  {
   "cell_type": "markdown",
   "metadata": {},
   "source": [
    "#### GridSearchCV"
   ]
  },
  {
   "cell_type": "code",
   "execution_count": 96,
   "metadata": {
    "scrolled": false
   },
   "outputs": [
    {
     "name": "stdout",
     "output_type": "stream",
     "text": [
      "Fitting 5 folds for each of 400 candidates, totalling 2000 fits\n"
     ]
    },
    {
     "name": "stderr",
     "output_type": "stream",
     "text": [
      "[Parallel(n_jobs=-1)]: Using backend LokyBackend with 8 concurrent workers.\n",
      "[Parallel(n_jobs=-1)]: Done  16 tasks      | elapsed:    0.1s\n",
      "[Parallel(n_jobs=-1)]: Done 128 tasks      | elapsed:    0.9s\n",
      "[Parallel(n_jobs=-1)]: Done 352 tasks      | elapsed:    2.7s\n",
      "[Parallel(n_jobs=-1)]: Done 640 tasks      | elapsed:    5.0s\n",
      "[Parallel(n_jobs=-1)]: Done 992 tasks      | elapsed:    7.9s\n",
      "[Parallel(n_jobs=-1)]: Done 1408 tasks      | elapsed:   10.8s\n",
      "[Parallel(n_jobs=-1)]: Done 1888 tasks      | elapsed:   14.5s\n",
      "[Parallel(n_jobs=-1)]: Done 1985 out of 2000 | elapsed:   15.3s remaining:    0.0s\n",
      "[Parallel(n_jobs=-1)]: Done 2000 out of 2000 | elapsed:   15.4s finished\n",
      "[Parallel(n_jobs=-1)]: Using backend LokyBackend with 8 concurrent workers.\n"
     ]
    },
    {
     "name": "stdout",
     "output_type": "stream",
     "text": [
      "Fitting 5 folds for each of 400 candidates, totalling 2000 fits\n"
     ]
    },
    {
     "name": "stderr",
     "output_type": "stream",
     "text": [
      "[Parallel(n_jobs=-1)]: Done  16 tasks      | elapsed:    0.2s\n",
      "[Parallel(n_jobs=-1)]: Done  96 tasks      | elapsed:    1.2s\n",
      "[Parallel(n_jobs=-1)]: Done 208 tasks      | elapsed:    2.8s\n",
      "[Parallel(n_jobs=-1)]: Done 352 tasks      | elapsed:    5.0s\n",
      "[Parallel(n_jobs=-1)]: Done 528 tasks      | elapsed:   11.1s\n",
      "[Parallel(n_jobs=-1)]: Done 736 tasks      | elapsed:   14.6s\n",
      "[Parallel(n_jobs=-1)]: Done 976 tasks      | elapsed:   18.3s\n",
      "[Parallel(n_jobs=-1)]: Done 1248 tasks      | elapsed:   21.4s\n",
      "[Parallel(n_jobs=-1)]: Done 1552 tasks      | elapsed:   25.1s\n",
      "[Parallel(n_jobs=-1)]: Done 1888 tasks      | elapsed:   29.8s\n",
      "[Parallel(n_jobs=-1)]: Done 2000 out of 2000 | elapsed:   31.3s finished\n",
      "[Parallel(n_jobs=-1)]: Using backend LokyBackend with 8 concurrent workers.\n"
     ]
    },
    {
     "name": "stdout",
     "output_type": "stream",
     "text": [
      "Fitting 5 folds for each of 400 candidates, totalling 2000 fits\n"
     ]
    },
    {
     "name": "stderr",
     "output_type": "stream",
     "text": [
      "[Parallel(n_jobs=-1)]: Done  16 tasks      | elapsed:    0.8s\n",
      "[Parallel(n_jobs=-1)]: Done  56 tasks      | elapsed:    2.7s\n",
      "[Parallel(n_jobs=-1)]: Done 112 tasks      | elapsed:    5.4s\n",
      "[Parallel(n_jobs=-1)]: Done 184 tasks      | elapsed:    9.5s\n",
      "[Parallel(n_jobs=-1)]: Done 272 tasks      | elapsed:   14.2s\n",
      "[Parallel(n_jobs=-1)]: Done 376 tasks      | elapsed:   19.9s\n",
      "[Parallel(n_jobs=-1)]: Done 496 tasks      | elapsed:   27.0s\n",
      "[Parallel(n_jobs=-1)]: Done 632 tasks      | elapsed:   36.2s\n",
      "[Parallel(n_jobs=-1)]: Done 784 tasks      | elapsed:   47.7s\n",
      "[Parallel(n_jobs=-1)]: Done 952 tasks      | elapsed:   57.2s\n",
      "[Parallel(n_jobs=-1)]: Done 1136 tasks      | elapsed:  1.1min\n",
      "[Parallel(n_jobs=-1)]: Done 1336 tasks      | elapsed:  1.2min\n",
      "[Parallel(n_jobs=-1)]: Done 1552 tasks      | elapsed:  1.3min\n",
      "[Parallel(n_jobs=-1)]: Done 1784 tasks      | elapsed:  1.5min\n",
      "[Parallel(n_jobs=-1)]: Done 2000 out of 2000 | elapsed:  1.7min finished\n"
     ]
    },
    {
     "name": "stdout",
     "output_type": "stream",
     "text": [
      "Fitting 5 folds for each of 400 candidates, totalling 2000 fits\n"
     ]
    },
    {
     "name": "stderr",
     "output_type": "stream",
     "text": [
      "[Parallel(n_jobs=-1)]: Using backend LokyBackend with 8 concurrent workers.\n",
      "[Parallel(n_jobs=-1)]: Done  16 tasks      | elapsed:    0.2s\n",
      "[Parallel(n_jobs=-1)]: Done  96 tasks      | elapsed:    1.1s\n",
      "[Parallel(n_jobs=-1)]: Done 208 tasks      | elapsed:    2.2s\n",
      "[Parallel(n_jobs=-1)]: Done 352 tasks      | elapsed:    3.8s\n",
      "[Parallel(n_jobs=-1)]: Done 528 tasks      | elapsed:    5.7s\n",
      "[Parallel(n_jobs=-1)]: Done 736 tasks      | elapsed:    8.1s\n",
      "[Parallel(n_jobs=-1)]: Done 976 tasks      | elapsed:   11.0s\n",
      "[Parallel(n_jobs=-1)]: Done 1248 tasks      | elapsed:   13.8s\n",
      "[Parallel(n_jobs=-1)]: Done 1552 tasks      | elapsed:   17.1s\n",
      "[Parallel(n_jobs=-1)]: Done 1888 tasks      | elapsed:   21.0s\n"
     ]
    },
    {
     "name": "stdout",
     "output_type": "stream",
     "text": [
      "QB: {'metric': 'euclidean', 'n_neighbors': 41, 'weights': 'distance'}\n",
      "RB: {'metric': 'euclidean', 'n_neighbors': 23, 'weights': 'distance'}\n",
      "WR: {'metric': 'euclidean', 'n_neighbors': 29, 'weights': 'distance'}\n",
      "TE: {'metric': 'euclidean', 'n_neighbors': 18, 'weights': 'uniform'}\n"
     ]
    },
    {
     "name": "stderr",
     "output_type": "stream",
     "text": [
      "[Parallel(n_jobs=-1)]: Done 2000 out of 2000 | elapsed:   22.3s finished\n"
     ]
    },
    {
     "data": {
      "text/html": [
       "<div>\n",
       "<style scoped>\n",
       "    .dataframe tbody tr th:only-of-type {\n",
       "        vertical-align: middle;\n",
       "    }\n",
       "\n",
       "    .dataframe tbody tr th {\n",
       "        vertical-align: top;\n",
       "    }\n",
       "\n",
       "    .dataframe thead tr th {\n",
       "        text-align: left;\n",
       "    }\n",
       "</style>\n",
       "<table border=\"1\" class=\"dataframe\">\n",
       "  <thead>\n",
       "    <tr>\n",
       "      <th></th>\n",
       "      <th>QB</th>\n",
       "      <th>RB</th>\n",
       "      <th>WR</th>\n",
       "      <th>TE</th>\n",
       "    </tr>\n",
       "  </thead>\n",
       "  <tbody>\n",
       "    <tr>\n",
       "      <th>MAE</th>\n",
       "      <td>63.400</td>\n",
       "      <td>44.100</td>\n",
       "      <td>38.200</td>\n",
       "      <td>22.700</td>\n",
       "    </tr>\n",
       "    <tr>\n",
       "      <th>RMSE</th>\n",
       "      <td>82.100</td>\n",
       "      <td>64.900</td>\n",
       "      <td>57.200</td>\n",
       "      <td>32.100</td>\n",
       "    </tr>\n",
       "    <tr>\n",
       "      <th>R^2</th>\n",
       "      <td>0.430</td>\n",
       "      <td>0.370</td>\n",
       "      <td>0.380</td>\n",
       "      <td>0.410</td>\n",
       "    </tr>\n",
       "  </tbody>\n",
       "</table>\n",
       "</div>"
      ],
      "text/plain": [
       "         QB     RB     WR     TE\n",
       "MAE  63.400 44.100 38.200 22.700\n",
       "RMSE 82.100 64.900 57.200 32.100\n",
       "R^2   0.430  0.370  0.380  0.410"
      ]
     },
     "metadata": {},
     "output_type": "display_data"
    },
    {
     "data": {
      "image/png": "[encoded data removed]",
      "text/plain": [
       "<Figure size 432x288 with 1 Axes>"
      ]
     },
     "metadata": {
      "needs_background": "light"
     },
     "output_type": "display_data"
    }
   ],
   "source": [
    "y_pred = {}\n",
    "bestParams = {}\n",
    "for pos in positions:\n",
    "    params = {\n",
    "        'weights':['distance','uniform'],\n",
    "        'metric':['manhattan','euclidean'],\n",
    "        'n_neighbors':[x for x in range(1,101)],\n",
    "    }\n",
    "\n",
    "    grid = GridSearchCV(\n",
    "        neighbors.KNeighborsRegressor(),\n",
    "        params,\n",
    "        n_jobs = -1,\n",
    "        verbose = 7,\n",
    "        cv = 5\n",
    "    ).fit(X_train[pos],y_train[pos])\n",
    "\n",
    "    bestParams[pos] = grid.best_params_\n",
    "\n",
    "    m = neighbors.KNeighborsRegressor(**grid.best_params_)\n",
    "    m.fit(X_train[pos],y_train[pos])\n",
    "    y_pred[pos] = m.predict(X_dev[pos])\n",
    "\n",
    "    #cvGrid(params)\n",
    "    \n",
    "for pos in positions:\n",
    "    print(f'{pos}: {bestParams[pos]}')\n",
    "printStats(y_dev,y_pred)"
   ]
  }
 ],
 "metadata": {
  "kernelspec": {
   "display_name": "Python 3",
   "language": "python",
   "name": "python3"
  },
  "language_info": {
   "codemirror_mode": {
    "name": "ipython",
    "version": 3
   },
   "file_extension": ".py",
   "mimetype": "text/x-python",
   "name": "python",
   "nbconvert_exporter": "python",
   "pygments_lexer": "ipython3",
   "version": "3.7.6"
  }
 },
 "nbformat": 4,
 "nbformat_minor": 4
}
