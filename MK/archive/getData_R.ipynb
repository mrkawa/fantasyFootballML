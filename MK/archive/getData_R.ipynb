{
 "cells": [
  {
   "cell_type": "code",
   "execution_count": null,
   "metadata": {
    "scrolled": true
   },
   "outputs": [],
   "source": [
    "library(devtools)\n",
    "\n",
    "devtools::install_github(repo = \"maksimhorowitz/nflscrapR\")\n",
    "library(nflscrapR)"
   ]
  },
  {
   "cell_type": "code",
   "execution_count": 8,
   "metadata": {},
   "outputs": [
    {
     "ename": "ERROR",
     "evalue": "Error in strsplit(headers, \"\\r\\n\"): non-character argument\n",
     "output_type": "error",
     "traceback": [
      "Error in strsplit(headers, \"\\r\\n\"): non-character argument\nTraceback:\n",
      "1. agg_player_season(2015)",
      "2. season_player_game(Season, Weeks = Weeks)",
      "3. extracting_gameids(Season)",
      "4. sapply(url.schedule.weeks, FUN = function(x) {\n .     sourceHTML <- scrapeR::scrape(url = x, headers = TRUE, parse = FALSE)\n .     extract.game.id <- stringr::str_extract_all(unlist(sourceHTML), \n .         pattern = \"data-gameid=\\\"[0-9]{10}\\\"\")\n .     game.ids <- stringr::str_extract_all(unlist(extract.game.id), \n .         pattern = \"[0-9]{10}\")\n . })",
      "5. lapply(X = X, FUN = FUN, ...)",
      "6. FUN(X[[i]], ...)",
      "7. scrapeR::scrape(url = x, headers = TRUE, parse = FALSE)",
      "8. headerParse(sourceCode)",
      "9. strsplit(headers, \"\\r\\n\")"
     ]
    }
   ],
   "source": [
    "df <- agg_player_season(2015)"
   ]
  }
 ],
 "metadata": {
  "kernelspec": {
   "display_name": "R",
   "language": "R",
   "name": "ir"
  },
  "language_info": {
   "codemirror_mode": "r",
   "file_extension": ".r",
   "mimetype": "text/x-r-source",
   "name": "R",
   "pygments_lexer": "r",
   "version": "4.0.2"
  }
 },
 "nbformat": 4,
 "nbformat_minor": 4
}
