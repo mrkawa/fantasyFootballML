{
 "cells": [
  {
   "cell_type": "code",
   "execution_count": 3,
   "metadata": {},
   "outputs": [],
   "source": [
    "import pandas as pd\n",
    "import numpy as np\n",
    "import matplotlib.pyplot as plt\n",
    "import os, sys\n",
    "from datetime import date\n",
    "from sklearn import preprocessing\n",
    "from sklearn.model_selection import train_test_split\n",
    "from sklearn.model_selection import GridSearchCV\n",
    "from sklearn import linear_model\n",
    "from sklearn.metrics import mean_absolute_error, mean_squared_error, r2_score\n",
    "\n",
    "pd.set_option(\"display.max_rows\", 100, \"display.max_columns\", 100)\n",
    "pd.set_option('display.max_colwidth', None)\n",
    "pd.set_option('display.float_format', lambda x: '%.3f' % x)\n",
    "\n",
    "def p(s):\n",
    "    print(s)\n",
    "    \n",
    "pd.DataFrame.len = pd.Index.len = lambda x: print(len(x))"
   ]
  },
  {
   "cell_type": "code",
   "execution_count": 2,
   "metadata": {},
   "outputs": [
    {
     "ename": "NameError",
     "evalue": "name 'X_test' is not defined",
     "output_type": "error",
     "traceback": [
      "\u001b[1;31m---------------------------------------------------------------------------\u001b[0m",
      "\u001b[1;31mNameError\u001b[0m                                 Traceback (most recent call last)",
      "\u001b[1;32m<ipython-input-2-1f79a47622c1>\u001b[0m in \u001b[0;36m<module>\u001b[1;34m\u001b[0m\n\u001b[0;32m      8\u001b[0m \u001b[1;33m\u001b[0m\u001b[0m\n\u001b[0;32m      9\u001b[0m \u001b[0mX_train_raw\u001b[0m\u001b[1;33m,\u001b[0m \u001b[0mX_test_raw\u001b[0m\u001b[1;33m,\u001b[0m \u001b[0my_train_raw\u001b[0m\u001b[1;33m,\u001b[0m \u001b[0my_test_raw\u001b[0m \u001b[1;33m=\u001b[0m \u001b[0mtrain_test_split\u001b[0m\u001b[1;33m(\u001b[0m\u001b[0mX\u001b[0m\u001b[1;33m,\u001b[0m \u001b[0my\u001b[0m\u001b[1;33m,\u001b[0m \u001b[0mtest_size\u001b[0m\u001b[1;33m=\u001b[0m\u001b[1;36m0.3\u001b[0m\u001b[1;33m,\u001b[0m \u001b[0mrandom_state\u001b[0m\u001b[1;33m=\u001b[0m\u001b[1;36m0\u001b[0m\u001b[1;33m)\u001b[0m\u001b[1;33m\u001b[0m\u001b[1;33m\u001b[0m\u001b[0m\n\u001b[1;32m---> 10\u001b[1;33m \u001b[0mX_dev_raw\u001b[0m\u001b[1;33m,\u001b[0m \u001b[0mX_test_raw\u001b[0m\u001b[1;33m,\u001b[0m \u001b[0my_dev_raw\u001b[0m\u001b[1;33m,\u001b[0m \u001b[0my_test_raw\u001b[0m \u001b[1;33m=\u001b[0m \u001b[0mtrain_test_split\u001b[0m\u001b[1;33m(\u001b[0m\u001b[0mX_test\u001b[0m\u001b[1;33m,\u001b[0m \u001b[0my_test\u001b[0m\u001b[1;33m,\u001b[0m \u001b[0mtest_size\u001b[0m\u001b[1;33m=\u001b[0m\u001b[1;36m0.5\u001b[0m\u001b[1;33m,\u001b[0m \u001b[0mrandom_state\u001b[0m\u001b[1;33m=\u001b[0m\u001b[1;36m0\u001b[0m\u001b[1;33m)\u001b[0m\u001b[1;33m\u001b[0m\u001b[1;33m\u001b[0m\u001b[0m\n\u001b[0m\u001b[0;32m     11\u001b[0m \u001b[1;33m\u001b[0m\u001b[0m\n\u001b[0;32m     12\u001b[0m \u001b[1;31m# Manually downselect useful columns\u001b[0m\u001b[1;33m\u001b[0m\u001b[1;33m\u001b[0m\u001b[1;33m\u001b[0m\u001b[0m\n",
      "\u001b[1;31mNameError\u001b[0m: name 'X_test' is not defined"
     ]
    }
   ],
   "source": [
    "# Partition training, dev, and test data\n",
    "seasonHist = pd.read_csv('seasonHist.csv')\n",
    "X = seasonHist \\\n",
    "    .loc[:,seasonHist.columns.str.contains('-\\d+') | seasonHist.columns.str.match('fanPts')] \\\n",
    "    .drop('fanPts',axis=1) \\\n",
    "    .fillna(0)\n",
    "y = seasonHist.fanPts\n",
    "\n",
    "X_train_raw, X_test_raw, y_train_raw, y_test_raw = train_test_split(X, y, test_size=0.3, random_state=0)\n",
    "X_dev_raw, X_test_raw, y_dev_raw, y_test_raw = train_test_split(X_test_raw, y_test_raw, test_size=0.5, random_state=0)\n",
    "\n",
    "# Manually downselect useful columns\n",
    "keepCols = \\\n",
    "    X.columns.str.contains('fanPts') | \\\n",
    "    X.columns.str.contains('^complete_pass') | \\\n",
    "    X.columns.str.contains('rush_attempt') | \\\n",
    "    X.columns.str.contains('yards_gained') | \\\n",
    "    X.columns.str.contains('^touchdown')\n",
    "\n",
    "X_train_select, X_test_select, y_train_select, y_test_select = train_test_split(X.loc[:,keepCols], y, test_size=0.3, random_state=0)\n",
    "X_dev_select, X_test_select, y_dev_select, y_test_select = train_test_split(X_test_select, y_test_select, test_size=0.5, random_state=0)"
   ]
  },
  {
   "cell_type": "markdown",
   "metadata": {},
   "source": [
    "### Linear Regression"
   ]
  },
  {
   "cell_type": "markdown",
   "metadata": {},
   "source": [
    "#### Base model"
   ]
  },
  {
   "cell_type": "code",
   "execution_count": null,
   "metadata": {
    "scrolled": false
   },
   "outputs": [],
   "source": [
    "X_train, X_dev, y_train, y_dev = X_train_raw, X_dev_raw, y_train_raw, y_dev_raw\n",
    "\n",
    "m = linear_model.LinearRegression()\n",
    "m.fit(X_train,y_train)\n",
    "y_pred = m.predict(X_dev)\n",
    "\n",
    "plt.scatter(y_dev, y_pred)\n",
    "plt.plot(y_dev,y_dev,color='black')\n",
    "plt.show()\n",
    "\n",
    "mae = mean_absolute_error(y_dev, y_pred).round(1)\n",
    "rmse = mean_squared_error(y_dev, y_pred, squared=False).round(1)\n",
    "r2 = r2_score(y_dev, y_pred).round(2)\n",
    "print(f'MAE: {mae}')\n",
    "print(f'RMSE: {rmse}')\n",
    "print(f'R^2: {r2}')\n",
    "\n",
    "coefs = pd.DataFrame([X_train.columns,m.coef_]).transpose()\n",
    "coefs.reindex(coefs[1].abs().sort_values(ascending=False).index).set_index(0).transpose()"
   ]
  },
  {
   "cell_type": "markdown",
   "metadata": {},
   "source": [
    "### Ridge Regression"
   ]
  },
  {
   "cell_type": "markdown",
   "metadata": {},
   "source": [
    "#### Base model"
   ]
  },
  {
   "cell_type": "code",
   "execution_count": null,
   "metadata": {},
   "outputs": [],
   "source": [
    "X_train, X_dev, y_train, y_dev = X_train_raw, X_dev_raw, y_train_raw, y_dev_raw\n",
    "\n",
    "m = linear_model.Ridge()\n",
    "m.fit(X_train,y_train)\n",
    "y_pred = m.predict(X_dev)\n",
    "\n",
    "plt.scatter(y_dev, y_pred)\n",
    "plt.plot(y_dev,y_dev,color='black')\n",
    "plt.show()\n",
    "\n",
    "mae = mean_absolute_error(y_dev, y_pred).round(1)\n",
    "rmse = mean_squared_error(y_dev, y_pred, squared=False).round(1)\n",
    "r2 = r2_score(y_dev, y_pred).round(2)\n",
    "print(f'MAE: {mae}')\n",
    "print(f'RMSE: {rmse}')\n",
    "print(f'R^2: {r2}')\n",
    "\n",
    "coefs = pd.DataFrame([X_train.columns,m.coef_]).transpose()\n",
    "coefs = coefs.reindex(coefs[1].abs().sort_values(ascending=False).index).set_index(0).transpose()\n",
    "coefs"
   ]
  },
  {
   "cell_type": "markdown",
   "metadata": {},
   "source": [
    "#### GridSearchCV"
   ]
  },
  {
   "cell_type": "code",
   "execution_count": null,
   "metadata": {},
   "outputs": [],
   "source": [
    "X_train, X_dev, y_train, y_dev = X_train_raw, X_dev_raw, y_train_raw, y_dev_raw\n",
    "\n",
    "grid = GridSearchCV(\n",
    "    linear_model.Ridge(),\n",
    "    {'alpha':[10**x for x in range(-4,6)],'normalize':[True,False]},\n",
    "    n_jobs = -1,\n",
    "    cv = 5\n",
    ")\n",
    "\n",
    "grid.fit(X_train,y_train)\n",
    "\n",
    "print(\"Best parameters set found on development set:\")\n",
    "print(grid.best_params_)\n",
    "     \n",
    "# pd.DataFrame(grid.cv_results_)[['param_alpha','param_normalize','mean_test_score','std_test_score','rank_test_score']]\n",
    "\n",
    "m = linear_model.Ridge(**grid.best_params_)\n",
    "m.fit(X_train,y_train)\n",
    "y_pred = m.predict(X_dev)\n",
    "\n",
    "plt.scatter(y_dev, y_pred)\n",
    "plt.plot(y_dev,y_dev,color='black')\n",
    "plt.show()\n",
    "\n",
    "mae = mean_absolute_error(y_dev, y_pred).round(1)\n",
    "rmse = mean_squared_error(y_dev, y_pred, squared=False).round(1)\n",
    "r2 = r2_score(y_dev, y_pred).round(2)\n",
    "print(f'MAE: {mae}')\n",
    "print(f'RMSE: {rmse}')\n",
    "print(f'R^2: {r2}')\n",
    "\n",
    "coefs = pd.DataFrame([X_train.columns,m.coef_]).transpose()\n",
    "coefs = coefs.reindex(coefs[1].abs().sort_values(ascending=False).index).set_index(0).transpose()\n",
    "coefs"
   ]
  },
  {
   "cell_type": "markdown",
   "metadata": {},
   "source": [
    "### Lasso Regression"
   ]
  },
  {
   "cell_type": "markdown",
   "metadata": {},
   "source": [
    "#### Base model"
   ]
  },
  {
   "cell_type": "code",
   "execution_count": null,
   "metadata": {},
   "outputs": [],
   "source": [
    "X_train, X_dev, y_train, y_dev = X_train_raw, X_dev_raw, y_train_raw, y_dev_raw\n",
    "\n",
    "m = linear_model.Lasso()\n",
    "m.fit(X_train,y_train)\n",
    "y_pred = regr.predict(X_dev)\n",
    "\n",
    "plt.scatter(y_dev, y_pred)\n",
    "plt.plot(y_dev,y_dev,color='black')\n",
    "plt.show()\n",
    "\n",
    "mae = mean_absolute_error(y_dev, y_pred).round(1)\n",
    "rmse = mean_squared_error(y_dev, y_pred, squared=False).round(1)\n",
    "r2 = r2_score(y_dev, y_pred).round(2)\n",
    "print(f'MAE: {mae}')\n",
    "print(f'RMSE: {rmse}')\n",
    "print(f'R^2: {r2}')\n",
    "\n",
    "coefs = pd.DataFrame([X_train.columns,regr.coef_]).transpose()\n",
    "coefs = coefs.reindex(coefs[1].abs().sort_values(ascending=False).index).set_index(0).transpose()\n",
    "coefs"
   ]
  },
  {
   "cell_type": "markdown",
   "metadata": {},
   "source": [
    "#### GridSearchCV"
   ]
  },
  {
   "cell_type": "code",
   "execution_count": null,
   "metadata": {
    "scrolled": false
   },
   "outputs": [],
   "source": [
    "X_train, X_dev, y_train, y_dev = X_train_raw, X_dev_raw, y_train_raw, y_dev_raw\n",
    "\n",
    "grid = GridSearchCV(\n",
    "    linear_model.Lasso(),\n",
    "    {'alpha':[10**x for x in range(-4,6)],'normalize':[True,False]},\n",
    "    n_jobs = -1,\n",
    "    cv = 5\n",
    ")\n",
    "\n",
    "grid.fit(X_train,y_train)\n",
    "\n",
    "print(\"Best parameters set found on development set:\")\n",
    "print(grid.best_params_)\n",
    "     \n",
    "# pd.DataFrame(grid.cv_results_)[['param_alpha','param_normalize','mean_test_score','std_test_score','rank_test_score']]\n",
    "\n",
    "m = linear_model.Lasso(**grid.best_params_)\n",
    "m.fit(X_train,y_train)\n",
    "y_pred = m.predict(X_dev)\n",
    "\n",
    "plt.scatter(y_dev, y_pred)\n",
    "plt.plot(y_dev,y_dev,color='black')\n",
    "plt.show()\n",
    "\n",
    "mae = mean_absolute_error(y_dev, y_pred).round(1)\n",
    "rmse = mean_squared_error(y_dev, y_pred, squared=False).round(1)\n",
    "r2 = r2_score(y_dev, y_pred).round(2)\n",
    "print(f'MAE: {mae}')\n",
    "print(f'RMSE: {rmse}')\n",
    "print(f'R^2: {r2}')\n",
    "\n",
    "coefs = pd.DataFrame([X_train.columns,m.coef_]).transpose()\n",
    "coefs = coefs.reindex(coefs[1].abs().sort_values(ascending=False).index).set_index(0).transpose()\n",
    "coefs"
   ]
  },
  {
   "cell_type": "markdown",
   "metadata": {},
   "source": [
    "#### GridSearchCV, hand-selected features"
   ]
  },
  {
   "cell_type": "code",
   "execution_count": null,
   "metadata": {
    "scrolled": false
   },
   "outputs": [],
   "source": [
    "X_train, X_dev, y_train, y_dev = X_train_select, X_dev_select, y_train_select, y_dev_select\n",
    "\n",
    "grid = GridSearchCV(\n",
    "    linear_model.Lasso(),\n",
    "    {'alpha':[10**x for x in range(-4,6)],'normalize':[True,False]},\n",
    "    n_jobs = -1,\n",
    "    verbose=7,\n",
    "    cv = 5\n",
    ")\n",
    "\n",
    "grid.fit(X_train,y_train)\n",
    "\n",
    "print(\"Best parameters set found on development set:\")\n",
    "print(grid.best_params_)\n",
    "     \n",
    "# pd.DataFrame(grid.cv_results_)[['param_alpha','param_normalize','mean_test_score','std_test_score','rank_test_score']]\n",
    "\n",
    "m = linear_model.Lasso(**grid.best_params_)\n",
    "m.fit(X_train,y_train)\n",
    "y_pred = m.predict(X_dev)\n",
    "\n",
    "plt.scatter(y_dev, y_pred)\n",
    "plt.plot(y_dev,y_dev,color='black')\n",
    "plt.show()\n",
    "\n",
    "mae = mean_absolute_error(y_dev, y_pred).round(1)\n",
    "rmse = mean_squared_error(y_dev, y_pred, squared=False).round(1)\n",
    "r2 = r2_score(y_dev, y_pred).round(2)\n",
    "print(f'MAE: {mae}')\n",
    "print(f'RMSE: {rmse}')\n",
    "print(f'R^2: {r2}')\n",
    "\n",
    "coefs = pd.DataFrame([X_train.columns,m.coef_]).transpose()\n",
    "coefs = coefs.reindex(coefs[1].abs().sort_values(ascending=False).index).set_index(0).transpose()\n",
    "coefs"
   ]
  },
  {
   "cell_type": "markdown",
   "metadata": {},
   "source": [
    "#### GridSearchCV, hand-selected features"
   ]
  },
  {
   "cell_type": "code",
   "execution_count": null,
   "metadata": {
    "scrolled": false
   },
   "outputs": [],
   "source": [
    "X_train, X_dev, y_train, y_dev = X_train_select, X_dev_select, y_train_select, y_dev_select\n",
    "\n",
    "grid = GridSearchCV(\n",
    "    linear_model.Lasso(),\n",
    "    {'alpha':[10**x for x in range(-4,6)],'normalize':[True,False]},\n",
    "    n_jobs = -1,\n",
    "    verbose=7,\n",
    "    cv = 5\n",
    ")\n",
    "\n",
    "grid.fit(X_train,y_train)\n",
    "\n",
    "print(\"Best parameters set found on development set:\")\n",
    "print(grid.best_params_)\n",
    "     \n",
    "# pd.DataFrame(grid.cv_results_)[['param_alpha','param_normalize','mean_test_score','std_test_score','rank_test_score']]\n",
    "\n",
    "m = linear_model.Lasso(**grid.best_params_)\n",
    "m.fit(X_train,y_train)\n",
    "y_pred = m.predict(X_dev)\n",
    "\n",
    "plt.scatter(y_dev, y_pred)\n",
    "plt.plot(y_dev,y_dev,color='black')\n",
    "plt.show()\n",
    "\n",
    "mae = mean_absolute_error(y_dev, y_pred).round(1)\n",
    "rmse = mean_squared_error(y_dev, y_pred, squared=False).round(1)\n",
    "r2 = r2_score(y_dev, y_pred).round(2)\n",
    "print(f'MAE: {mae}')\n",
    "print(f'RMSE: {rmse}')\n",
    "print(f'R^2: {r2}')\n",
    "\n",
    "coefs = pd.DataFrame([X_train.columns,m.coef_]).transpose()\n",
    "coefs = coefs.reindex(coefs[1].abs().sort_values(ascending=False).index).set_index(0).transpose()\n",
    "coefs"
   ]
  },
  {
   "cell_type": "markdown",
   "metadata": {},
   "source": [
    "### Elastic Net Regression"
   ]
  },
  {
   "cell_type": "markdown",
   "metadata": {},
   "source": [
    "#### Base model"
   ]
  },
  {
   "cell_type": "code",
   "execution_count": null,
   "metadata": {},
   "outputs": [],
   "source": [
    "X_train, X_dev, y_train, y_dev = X_train_raw, X_dev_raw, y_train_raw, y_dev_raw\n",
    "\n",
    "m = linear_model.ElasticNet()\n",
    "m.fit(X_train,y_train)\n",
    "y_pred = regr.predict(X_dev)\n",
    "\n",
    "plt.scatter(y_dev, y_pred)\n",
    "plt.plot(y_dev,y_dev,color='black')\n",
    "plt.show()\n",
    "\n",
    "mae = mean_absolute_error(y_dev, y_pred).round(1)\n",
    "rmse = mean_squared_error(y_dev, y_pred, squared=False).round(1)\n",
    "r2 = r2_score(y_dev, y_pred).round(2)\n",
    "print(f'MAE: {mae}')\n",
    "print(f'RMSE: {rmse}')\n",
    "print(f'R^2: {r2}')\n",
    "\n",
    "coefs = pd.DataFrame([X_train.columns,regr.coef_]).transpose()\n",
    "coefs = coefs.reindex(coefs[1].abs().sort_values(ascending=False).index).set_index(0).transpose()\n",
    "coefs"
   ]
  },
  {
   "cell_type": "markdown",
   "metadata": {},
   "source": [
    "#### GridSearchCV"
   ]
  },
  {
   "cell_type": "code",
   "execution_count": null,
   "metadata": {},
   "outputs": [],
   "source": [
    "X_train, X_dev, y_train, y_dev = X_train_raw, X_dev_raw, y_train_raw, y_dev_raw\n",
    "\n",
    "grid = GridSearchCV(\n",
    "    linear_model.ElasticNet(),\n",
    "    {'alpha':[10**x for x in range(-4,6)],'normalize':[True,False]},\n",
    "    n_jobs = -1,\n",
    "    verbose=7,\n",
    "    cv = 5\n",
    ")\n",
    "\n",
    "grid.fit(X_train,y_train)\n",
    "\n",
    "print(\"Best parameters set found on development set:\")\n",
    "print(grid.best_params_)\n",
    "     \n",
    "# pd.DataFrame(grid.cv_results_)[['param_alpha','param_normalize','mean_test_score','std_test_score','rank_test_score']]\n",
    "\n",
    "m = linear_model.ElasticNet(**grid.best_params_)\n",
    "m.fit(X_train,y_train)\n",
    "y_pred = m.predict(X_dev)\n",
    "\n",
    "plt.scatter(y_dev, y_pred)\n",
    "plt.plot(y_dev,y_dev,color='black')\n",
    "plt.show()\n",
    "\n",
    "mae = mean_absolute_error(y_dev, y_pred).round(1)\n",
    "rmse = mean_squared_error(y_dev, y_pred, squared=False).round(1)\n",
    "r2 = r2_score(y_dev, y_pred).round(2)\n",
    "print(f'MAE: {mae}')\n",
    "print(f'RMSE: {rmse}')\n",
    "print(f'R^2: {r2}')\n",
    "\n",
    "coefs = pd.DataFrame([X_train.columns,m.coef_]).transpose()\n",
    "coefs = coefs.reindex(coefs[1].abs().sort_values(ascending=False).index).set_index(0).transpose()\n",
    "coefs"
   ]
  },
  {
   "cell_type": "markdown",
   "metadata": {},
   "source": [
    "#### Automatic CV"
   ]
  },
  {
   "cell_type": "code",
   "execution_count": null,
   "metadata": {
    "scrolled": false
   },
   "outputs": [],
   "source": [
    "X_train, X_dev, y_train, y_dev = X_train_raw, X_dev_raw, y_train_raw, y_dev_raw\n",
    "\n",
    "m = linear_model.ElasticNetCV(l1_ratio=[.25,.5,.75], random_state=0)\n",
    "m.fit(X_train,y_train)\n",
    "print(f'Alpha: {m.alpha_}')\n",
    "print(f'l1 ratio: {m.l1_ratio_}')\n",
    "\n",
    "y_pred = m.predict(X_dev)\n",
    "\n",
    "plt.scatter(y_dev, y_pred)\n",
    "plt.plot(y_dev,y_dev,color='black')\n",
    "plt.show()\n",
    "\n",
    "mae = mean_absolute_error(y_dev, y_pred).round(1)\n",
    "rmse = mean_squared_error(y_dev, y_pred, squared=False).round(1)\n",
    "r2 = r2_score(y_dev, y_pred).round(2)\n",
    "print(f'MAE: {mae}')\n",
    "print(f'RMSE: {rmse}')\n",
    "print(f'R^2: {r2}')\n",
    "\n",
    "coefs = pd.DataFrame([X_train.columns,m.coef_]).transpose()\n",
    "coefs = coefs.reindex(coefs[1].abs().sort_values(ascending=False).index).set_index(0).transpose()\n",
    "coefs"
   ]
  },
  {
   "cell_type": "markdown",
   "metadata": {},
   "source": [
    "#### GridSearchCV, hand-selected features"
   ]
  },
  {
   "cell_type": "code",
   "execution_count": null,
   "metadata": {
    "scrolled": false
   },
   "outputs": [],
   "source": [
    "X_train, X_dev, y_train, y_dev = X_train_select, X_dev_select, y_train_select, y_dev_select\n",
    "\n",
    "grid = GridSearchCV(\n",
    "    linear_model.ElasticNet(),\n",
    "    {\n",
    "        'alpha':[10**x for x in range(-4,6)],\n",
    "        'normalize':[True,False],\n",
    "        'l1_ratio':[.25,.5,.75]\n",
    "    },\n",
    "    n_jobs = -1,\n",
    "    verbose=7,\n",
    "    cv = 5\n",
    ")\n",
    "\n",
    "grid.fit(X_train,y_train)\n",
    "\n",
    "print(\"Best parameters set found on development set:\")\n",
    "print(grid.best_params_)\n",
    "     \n",
    "# pd.DataFrame(grid.cv_results_)[['param_alpha','param_normalize','mean_test_score','std_test_score','rank_test_score']]\n",
    "\n",
    "m = linear_model.ElasticNet(**grid.best_params_)\n",
    "m.fit(X_train,y_train)\n",
    "y_pred = m.predict(X_dev)\n",
    "\n",
    "plt.scatter(y_dev, y_pred)\n",
    "plt.plot(y_dev,y_dev,color='black')\n",
    "plt.show()\n",
    "\n",
    "mae = mean_absolute_error(y_dev, y_pred).round(1)\n",
    "rmse = mean_squared_error(y_dev, y_pred, squared=False).round(1)\n",
    "r2 = r2_score(y_dev, y_pred).round(2)\n",
    "print(f'MAE: {mae}')\n",
    "print(f'RMSE: {rmse}')\n",
    "print(f'R^2: {r2}')\n",
    "\n",
    "coefs = pd.DataFrame([X_train.columns,m.coef_]).transpose()\n",
    "coefs = coefs.reindex(coefs[1].abs().sort_values(ascending=False).index).set_index(0).transpose()\n",
    "coefs"
   ]
  },
  {
   "cell_type": "markdown",
   "metadata": {},
   "source": [
    "#### Automatic CV, hand-selected features"
   ]
  },
  {
   "cell_type": "code",
   "execution_count": null,
   "metadata": {
    "scrolled": false
   },
   "outputs": [],
   "source": [
    "X_train, X_dev, y_train, y_dev = X_train_select, X_dev_select, y_train_select, y_dev_select\n",
    "\n",
    "m = linear_model.ElasticNetCV(l1_ratio=[.25,.5,.75], random_state=0)\n",
    "m.fit(X_train,y_train)\n",
    "print(f'Alpha: {m.alpha_}')\n",
    "print(f'l1 ratio: {m.l1_ratio_}')\n",
    "\n",
    "y_pred = m.predict(X_dev)\n",
    "\n",
    "plt.scatter(y_dev, y_pred)\n",
    "plt.plot(y_dev,y_dev,color='black')\n",
    "plt.show()\n",
    "\n",
    "mae = mean_absolute_error(y_dev, y_pred).round(1)\n",
    "rmse = mean_squared_error(y_dev, y_pred, squared=False).round(1)\n",
    "r2 = r2_score(y_dev, y_pred).round(2)\n",
    "print(f'MAE: {mae}')\n",
    "print(f'RMSE: {rmse}')\n",
    "print(f'R^2: {r2}')\n",
    "\n",
    "coefs = pd.DataFrame([X_train.columns,m.coef_]).transpose()\n",
    "coefs = coefs.reindex(coefs[1].abs().sort_values(ascending=False).index).set_index(0).transpose()\n",
    "coefs"
   ]
  },
  {
   "cell_type": "markdown",
   "metadata": {},
   "source": [
    "#### GridSearchCV, hand-selected features, force positive coefficients"
   ]
  },
  {
   "cell_type": "code",
   "execution_count": null,
   "metadata": {
    "scrolled": false
   },
   "outputs": [],
   "source": [
    "X_train, X_dev, y_train, y_dev = X_train_select, X_dev_select, y_train_select, y_dev_select\n",
    "\n",
    "grid = GridSearchCV(\n",
    "    linear_model.ElasticNet(),\n",
    "    {\n",
    "        'alpha':[10**x for x in range(-4,6)],\n",
    "        'normalize':[True,False],\n",
    "        'l1_ratio':[.25,.5,.75],\n",
    "        'positive':[True]\n",
    "    },\n",
    "    n_jobs = -1,\n",
    "    verbose=7,\n",
    "    cv = 5\n",
    ")\n",
    "\n",
    "grid.fit(X_train,y_train)\n",
    "\n",
    "print(\"Best parameters set found on development set:\")\n",
    "print(grid.best_params_)\n",
    "     \n",
    "# pd.DataFrame(grid.cv_results_)[['param_alpha','param_normalize','mean_test_score','std_test_score','rank_test_score']]\n",
    "\n",
    "m = linear_model.ElasticNet(**grid.best_params_)\n",
    "m.fit(X_train,y_train)\n",
    "y_pred = m.predict(X_dev)\n",
    "\n",
    "plt.scatter(y_dev, y_pred)\n",
    "plt.plot(y_dev,y_dev,color='black')\n",
    "plt.show()\n",
    "\n",
    "mae = mean_absolute_error(y_dev, y_pred).round(1)\n",
    "rmse = mean_squared_error(y_dev, y_pred, squared=False).round(1)\n",
    "r2 = r2_score(y_dev, y_pred).round(2)\n",
    "print(f'MAE: {mae}')\n",
    "print(f'RMSE: {rmse}')\n",
    "print(f'R^2: {r2}')\n",
    "\n",
    "coefs = pd.DataFrame([X_train.columns,m.coef_]).transpose()\n",
    "coefs = coefs.reindex(coefs[1].abs().sort_values(ascending=False).index).set_index(0).transpose()\n",
    "coefs"
   ]
  },
  {
   "cell_type": "markdown",
   "metadata": {},
   "source": [
    "#### Automatic CV, hand-selected features, force positive coefficients"
   ]
  },
  {
   "cell_type": "code",
   "execution_count": null,
   "metadata": {
    "scrolled": false
   },
   "outputs": [],
   "source": [
    "X_train, X_dev, y_train, y_dev = X_train_select, X_dev_select, y_train_select, y_dev_select\n",
    "\n",
    "m = linear_model.ElasticNetCV(l1_ratio=[.25,.5,.75], positive=[True], random_state=0)\n",
    "m.fit(X_train,y_train)\n",
    "print(f'Alpha: {m.alpha_}')\n",
    "print(f'l1 ratio: {m.l1_ratio_}')\n",
    "\n",
    "y_pred = m.predict(X_dev)\n",
    "\n",
    "plt.scatter(y_dev, y_pred)\n",
    "plt.plot(y_dev,y_dev,color='black')\n",
    "plt.show()\n",
    "\n",
    "mae = mean_absolute_error(y_dev, y_pred).round(1)\n",
    "rmse = mean_squared_error(y_dev, y_pred, squared=False).round(1)\n",
    "r2 = r2_score(y_dev, y_pred).round(2)\n",
    "print(f'MAE: {mae}')\n",
    "print(f'RMSE: {rmse}')\n",
    "print(f'R^2: {r2}')\n",
    "\n",
    "coefs = pd.DataFrame([X_train.columns,m.coef_]).transpose()\n",
    "coefs = coefs.reindex(coefs[1].abs().sort_values(ascending=False).index).set_index(0).transpose()\n",
    "coefs"
   ]
  },
  {
   "cell_type": "markdown",
   "metadata": {},
   "source": [
    "### Bayesian Ridge Regression"
   ]
  },
  {
   "cell_type": "markdown",
   "metadata": {},
   "source": [
    "#### Base model"
   ]
  },
  {
   "cell_type": "code",
   "execution_count": null,
   "metadata": {},
   "outputs": [],
   "source": [
    "X_train, X_dev, y_train, y_dev = X_train_raw, X_dev_raw, y_train_raw, y_dev_raw\n",
    "\n",
    "m = linear_model.BayesianRidge()\n",
    "m.fit(X_train,y_train)\n",
    "y_pred = regr.predict(X_dev)\n",
    "\n",
    "plt.scatter(y_dev, y_pred)\n",
    "plt.plot(y_dev,y_dev,color='black')\n",
    "plt.show()\n",
    "\n",
    "mae = mean_absolute_error(y_dev, y_pred).round(1)\n",
    "rmse = mean_squared_error(y_dev, y_pred, squared=False).round(1)\n",
    "r2 = r2_score(y_dev, y_pred).round(2)\n",
    "print(f'MAE: {mae}')\n",
    "print(f'RMSE: {rmse}')\n",
    "print(f'R^2: {r2}')\n",
    "\n",
    "coefs = pd.DataFrame([X_train.columns,regr.coef_]).transpose()\n",
    "coefs = coefs.reindex(coefs[1].abs().sort_values(ascending=False).index).set_index(0).transpose()\n",
    "coefs"
   ]
  },
  {
   "cell_type": "markdown",
   "metadata": {},
   "source": [
    "#### GridSearchCV"
   ]
  },
  {
   "cell_type": "code",
   "execution_count": null,
   "metadata": {},
   "outputs": [],
   "source": [
    "X_train, X_dev, y_train, y_dev = X_train_raw, X_dev_raw, y_train_raw, y_dev_raw\n",
    "\n",
    "grid = GridSearchCV(\n",
    "    linear_model.BayesianRidge(),\n",
    "    {\n",
    "        'alpha_1':[10**x for x in range(-2,3)],\n",
    "        'alpha_2':[10**x for x in range(-2,3)],\n",
    "        'lambda_1':[10**x for x in range(-2,3)],\n",
    "        'lambda_2':[10**x for x in range(-2,3)],\n",
    "        'normalize':[True,False]\n",
    "    },\n",
    "    n_jobs = -1,\n",
    "    verbose=7,\n",
    "    cv = 3\n",
    ")\n",
    "\n",
    "grid.fit(X_train,y_train)\n",
    "\n",
    "print(\"Best parameters set found on development set:\")\n",
    "print(grid.best_params_)\n",
    "     \n",
    "# pd.DataFrame(grid.cv_results_)[['param_alpha','param_normalize','mean_test_score','std_test_score','rank_test_score']]\n",
    "\n",
    "m = linear_model.BayesianRidge(**grid.best_params_)\n",
    "m.fit(X_train,y_train)\n",
    "y_pred = m.predict(X_dev)\n",
    "\n",
    "plt.scatter(y_dev, y_pred)\n",
    "plt.plot(y_dev,y_dev,color='black')\n",
    "plt.show()\n",
    "\n",
    "mae = mean_absolute_error(y_dev, y_pred).round(1)\n",
    "rmse = mean_squared_error(y_dev, y_pred, squared=False).round(1)\n",
    "r2 = r2_score(y_dev, y_pred).round(2)\n",
    "print(f'MAE: {mae}')\n",
    "print(f'RMSE: {rmse}')\n",
    "print(f'R^2: {r2}')\n",
    "\n",
    "coefs = pd.DataFrame([X_train.columns,m.coef_]).transpose()\n",
    "coefs = coefs.reindex(coefs[1].abs().sort_values(ascending=False).index).set_index(0).transpose()\n",
    "coefs"
   ]
  },
  {
   "cell_type": "markdown",
   "metadata": {},
   "source": [
    "#### GridSearchCV, hand-selected features"
   ]
  },
  {
   "cell_type": "code",
   "execution_count": null,
   "metadata": {
    "scrolled": false
   },
   "outputs": [],
   "source": [
    "X_train, X_dev, y_train, y_dev = X_train_select, X_dev_select, y_train_select, y_dev_select\n",
    "\n",
    "grid = GridSearchCV(\n",
    "    linear_model.BayesianRidge(),\n",
    "    {\n",
    "        'alpha_1':[10**x for x in range(-2,3)],\n",
    "        'alpha_2':[10**x for x in range(-2,3)],\n",
    "        'lambda_1':[10**x for x in range(-2,3)],\n",
    "        'lambda_2':[10**x for x in range(-2,3)],\n",
    "        'normalize':[True,False]\n",
    "    },\n",
    "    n_jobs = -1,\n",
    "    verbose=7,\n",
    "    cv = 3\n",
    ")\n",
    "\n",
    "grid.fit(X_train,y_train)\n",
    "\n",
    "print(\"Best parameters set found on development set:\")\n",
    "print(grid.best_params_)\n",
    "     \n",
    "# pd.DataFrame(grid.cv_results_)[['param_alpha','param_normalize','mean_test_score','std_test_score','rank_test_score']]\n",
    "\n",
    "m = linear_model.BayesianRidge(**grid.best_params_)\n",
    "m.fit(X_train,y_train)\n",
    "y_pred = m.predict(X_dev)\n",
    "\n",
    "plt.scatter(y_dev, y_pred)\n",
    "plt.plot(y_dev,y_dev,color='black')\n",
    "plt.show()\n",
    "\n",
    "mae = mean_absolute_error(y_dev, y_pred).round(1)\n",
    "rmse = mean_squared_error(y_dev, y_pred, squared=False).round(1)\n",
    "r2 = r2_score(y_dev, y_pred).round(2)\n",
    "print(f'MAE: {mae}')\n",
    "print(f'RMSE: {rmse}')\n",
    "print(f'R^2: {r2}')\n",
    "\n",
    "coefs = pd.DataFrame([X_train.columns,m.coef_]).transpose()\n",
    "coefs = coefs.reindex(coefs[1].abs().sort_values(ascending=False).index).set_index(0).transpose()\n",
    "coefs"
   ]
  },
  {
   "cell_type": "markdown",
   "metadata": {},
   "source": [
    "#### GridSearchCV, hand-selected features, force positive coefficients"
   ]
  },
  {
   "cell_type": "code",
   "execution_count": null,
   "metadata": {
    "scrolled": false
   },
   "outputs": [],
   "source": [
    "X_train, X_dev, y_train, y_dev = X_train_select, X_dev_select, y_train_select, y_dev_select\n",
    "\n",
    "grid = GridSearchCV(\n",
    "    linear_model.BayesianRidge(),\n",
    "    {\n",
    "        'alpha_1':[10**x for x in range(-4,10)],\n",
    "        'alpha_2':[10**x for x in range(-4,10)],\n",
    "        'lambda_1':[10**x for x in range(-4,10)],\n",
    "        'lambda_2':[10**x for x in range(-4,10)],\n",
    "        'normalize':[True,False],\n",
    "        'positive':[True]\n",
    "    },\n",
    "    n_jobs = -1,\n",
    "    verbose=7,\n",
    "    cv = 5\n",
    ")\n",
    "\n",
    "grid.fit(X_train,y_train)\n",
    "\n",
    "print(\"Best parameters set found on development set:\")\n",
    "print(grid.best_params_)\n",
    "     \n",
    "# pd.DataFrame(grid.cv_results_)[['param_alpha','param_normalize','mean_test_score','std_test_score','rank_test_score']]\n",
    "\n",
    "clf = linear_model.BayesianRidge(**grid.best_params_)\n",
    "clf.fit(X_train,y_train)\n",
    "y_pred = clf.predict(X_dev)\n",
    "\n",
    "plt.scatter(y_dev, y_pred)\n",
    "plt.plot(y_dev,y_dev,color='black')\n",
    "plt.show()\n",
    "\n",
    "mae = mean_absolute_error(y_dev, y_pred).round(1)\n",
    "rmse = mean_squared_error(y_dev, y_pred, squared=False).round(1)\n",
    "r2 = r2_score(y_dev, y_pred).round(2)\n",
    "print(f'MAE: {mae}')\n",
    "print(f'RMSE: {rmse}')\n",
    "print(f'R^2: {r2}')\n",
    "\n",
    "coefs = pd.DataFrame([X_train.columns,clf.coef_]).transpose()\n",
    "coefs = coefs.reindex(coefs[1].abs().sort_values(ascending=False).index).set_index(0).transpose()\n",
    "coefs"
   ]
  }
 ],
 "metadata": {
  "kernelspec": {
   "display_name": "Python 3",
   "language": "python",
   "name": "python3"
  },
  "language_info": {
   "codemirror_mode": {
    "name": "ipython",
    "version": 3
   },
   "file_extension": ".py",
   "mimetype": "text/x-python",
   "name": "python",
   "nbconvert_exporter": "python",
   "pygments_lexer": "ipython3",
   "version": "3.7.6"
  }
 },
 "nbformat": 4,
 "nbformat_minor": 4
}
