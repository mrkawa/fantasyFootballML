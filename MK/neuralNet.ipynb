{
 "cells": [
  {
   "cell_type": "code",
   "execution_count": 4,
   "metadata": {},
   "outputs": [],
   "source": [
    "import pandas as pd\n",
    "import numpy as np\n",
    "import matplotlib.pyplot as plt\n",
    "import os, sys\n",
    "from datetime import date\n",
    "from statistics import mean\n",
    "from math import sqrt\n",
    "from sklearn import preprocessing\n",
    "from sklearn.model_selection import train_test_split\n",
    "from sklearn.model_selection import GridSearchCV\n",
    "from sklearn import neural_network\n",
    "from sklearn.metrics import mean_absolute_error, mean_squared_error, r2_score\n",
    "\n",
    "pd.set_option(\"display.max_rows\", 144, \"display.max_columns\", 100)\n",
    "pd.set_option('display.max_colwidth', None)\n",
    "pd.set_option('display.float_format', lambda x: '%.3f' % x)\n",
    "\n",
    "def p(s):\n",
    "    print(s)\n",
    "    \n",
    "pd.DataFrame.len = pd.Index.len = lambda x: print(len(x))"
   ]
  },
  {
   "cell_type": "code",
   "execution_count": 2,
   "metadata": {},
   "outputs": [],
   "source": [
    "# Partition training, dev, and test data\n",
    "seasonHist = pd.read_csv('seasonHist.csv')\n",
    "X = seasonHist \\\n",
    "    .loc[:,seasonHist.columns.str.contains('-\\d+') | seasonHist.columns.str.match('fanPts')] \\\n",
    "    .drop('fanPts',axis=1) \\\n",
    "    .fillna(0)\n",
    "y = seasonHist.fanPts\n",
    "\n",
    "X_train_raw, X_test_raw, y_train_raw, y_test_raw = train_test_split(X, y, test_size=0.3, random_state=0)\n",
    "X_dev_raw, X_test_raw, y_dev_raw, y_test_raw = train_test_split(X_test_raw, y_test_raw, test_size=0.5, random_state=0)\n",
    "\n",
    "# Manually downselect useful columns\n",
    "keepCols = \\\n",
    "    X.columns.str.contains('fanPts') | \\\n",
    "    X.columns.str.contains('^complete_pass') | \\\n",
    "    X.columns.str.contains('rush_attempt') | \\\n",
    "    X.columns.str.contains('yards_gained') | \\\n",
    "    X.columns.str.contains('^touchdown')\n",
    "\n",
    "X_train_select, X_test_select, y_train_select, y_test_select = train_test_split(X.loc[:,keepCols], y, test_size=0.3, random_state=0)\n",
    "X_dev_select, X_test_select, y_dev_select, y_test_select = train_test_split(X_test_select, y_test_select, test_size=0.5, random_state=0)"
   ]
  },
  {
   "cell_type": "markdown",
   "metadata": {},
   "source": [
    "### Multi-layer Perceptron Regression"
   ]
  },
  {
   "cell_type": "markdown",
   "metadata": {},
   "source": [
    "#### Base model"
   ]
  },
  {
   "cell_type": "code",
   "execution_count": 3,
   "metadata": {},
   "outputs": [
    {
     "data": {
      "image/png": "[encoded data removed]",
      "text/plain": [
       "<Figure size 432x288 with 1 Axes>"
      ]
     },
     "metadata": {
      "needs_background": "light"
     },
     "output_type": "display_data"
    },
    {
     "name": "stdout",
     "output_type": "stream",
     "text": [
      "MAE: 33.1\n",
      "RMSE: 49.3\n",
      "R^2: 0.4\n"
     ]
    }
   ],
   "source": [
    "X_train, X_dev, y_train, y_dev = X_train_raw, X_dev_raw, y_train_raw, y_dev_raw\n",
    "\n",
    "m = neural_network.MLPRegressor()\n",
    "m.fit(X_train,y_train)\n",
    "y_pred = m.predict(X_dev)\n",
    "\n",
    "plt.scatter(y_dev, y_pred)\n",
    "plt.plot(y_pred,y_pred,color='black')\n",
    "plt.show()\n",
    "\n",
    "print(f'MAE: {mean_absolute_error(y_dev, y_pred).round(1)}')\n",
    "print(f'RMSE: {mean_squared_error(y_dev, y_pred, squared=False).round(1)}')\n",
    "print(f'R^2: {r2_score(y_dev, y_pred).round(2)}')"
   ]
  },
  {
   "cell_type": "markdown",
   "metadata": {},
   "source": [
    "#### GridSearchCV"
   ]
  },
  {
   "cell_type": "code",
   "execution_count": 160,
   "metadata": {},
   "outputs": [],
   "source": [
    "X_train, X_dev, y_train, y_dev = X_train_raw, X_dev_raw, y_train_raw, y_dev_raw\n",
    "\n",
    "inputNodes = len(X_train.columns)\n",
    "outputNodes = len(y_train.shape) if y_train.shape == 2 else 1\n",
    "nSamples = len(X_train)\n",
    "\n",
    "sizes = [\n",
    "    mean([inputNodes,outputNodes]),\n",
    "    (2/3)*inputNodes + outputNodes,\n",
    "    sqrt(inputNodes*outputNodes),\n",
    "] + [nSamples/(x*(inputNodes+outputNodes)) for x in range(2,11)] + [x for x in range(1,21)]\n",
    "\n",
    "params={\n",
    "    'activation':['relu'],#['identity','logistic','tanh','relu'],\n",
    "    'solver':['lbfgs','adam'],\n",
    "    'hidden_layer_sizes': list(set(map(int, sizes))),\n",
    "    'alpha':[10**x for x in range(-5,1)],\n",
    "}\n",
    "\n",
    "grid = GridSearchCV(\n",
    "    neural_network.MLPRegressor(warm_start=False,random_state=0),\n",
    "    params,\n",
    "    n_jobs=-1,\n",
    "    verbose=10,\n",
    "    cv=5\n",
    ").fit(X_train,y_train)\n",
    "\n",
    "print(grid.best_params_)\n",
    "\n",
    "m = neural_network.MLPRegressor(**grid.best_params_,warm_start=False,random_state=0)\n",
    "%time m.fit(X_train,y_train)\n",
    "y_pred = m.predict(X_dev)\n",
    "\n",
    "print(f'{m.n_iter_} iterations')\n",
    "print(f'{m.n_layers_} layers')\n",
    "\n",
    "plt.scatter(y_dev, y_pred)\n",
    "plt.plot(y_pred,y_pred,color='black')\n",
    "plt.show()\n",
    "\n",
    "plt.plot(m.loss_curve_)\n",
    "\n",
    "mae = mean_absolute_error(y_dev, y_pred).round(1)\n",
    "rmse = mean_squared_error(y_dev, y_pred, squared=False).round(1)\n",
    "r2 = r2_score(y_dev, y_pred).round(2)\n",
    "print(f'MAE: {mae}')\n",
    "print(f'RMSE: {rmse}')\n",
    "print(f'R^2: {r2}')\n",
    "\n",
    "pd.DataFrame(grid.cv_results_)[['param_' + x for x in params.keys()]+['mean_test_score','std_test_score','rank_test_score','mean_fit_time','mean_score_time','std_fit_time','std_score_time']].set_index(['param_' + x for x in params.keys()])"
   ]
  }
 ],
 "metadata": {
  "kernelspec": {
   "display_name": "Python 3",
   "language": "python",
   "name": "python3"
  },
  "language_info": {
   "codemirror_mode": {
    "name": "ipython",
    "version": 3
   },
   "file_extension": ".py",
   "mimetype": "text/x-python",
   "name": "python",
   "nbconvert_exporter": "python",
   "pygments_lexer": "ipython3",
   "version": "3.7.6"
  }
 },
 "nbformat": 4,
 "nbformat_minor": 4
}
