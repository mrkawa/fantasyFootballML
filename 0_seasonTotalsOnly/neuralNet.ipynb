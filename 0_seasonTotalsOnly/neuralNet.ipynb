{
 "cells": [
  {
   "cell_type": "code",
   "execution_count": 2,
   "metadata": {},
   "outputs": [],
   "source": [
    "import pandas as pd\n",
    "import numpy as np\n",
    "import matplotlib.pyplot as plt\n",
    "import os, sys\n",
    "import math\n",
    "from datetime import date\n",
    "from statistics import mean\n",
    "from math import sqrt\n",
    "from sklearn import preprocessing\n",
    "from sklearn.model_selection import train_test_split\n",
    "from sklearn.model_selection import GridSearchCV\n",
    "from sklearn import neural_network\n",
    "from sklearn.metrics import mean_absolute_error, mean_squared_error, r2_score\n",
    "\n",
    "pd.set_option(\"display.max_rows\", 144, \"display.max_columns\", 100)\n",
    "# pd.set_option('display.max_colwidth', None)\n",
    "pd.set_option('display.float_format', lambda x: '%.3f' % x)\n",
    "\n",
    "def p(s):\n",
    "    print(s)\n",
    "    \n",
    "pd.DataFrame.len = pd.Index.len = lambda x: print(len(x))"
   ]
  },
  {
   "cell_type": "code",
   "execution_count": 3,
   "metadata": {},
   "outputs": [],
   "source": [
    "# Common function definitions\n",
    "def printStats(y_dev, y_pred):\n",
    "    # Graph\n",
    "    plt.scatter(y_dev, y_pred)\n",
    "    plt.plot(y_pred,y_pred,color='black')\n",
    "    plt.show()\n",
    "    \n",
    "    # Stats\n",
    "    mae = mean_absolute_error(y_dev, y_pred).round(1)\n",
    "    rmse = round(math.sqrt(mean_squared_error(y_dev, y_pred)),1)\n",
    "    r2 = r2_score(y_dev, y_pred).round(2)\n",
    "    print(f'MAE: {mae}')\n",
    "    print(f'RMSE: {rmse}')\n",
    "    print(f'R^2: {r2}')\n",
    "    \n",
    "def cvGrid(params):\n",
    "    names = ['param_' + x for x in list(params.keys())]\n",
    "    return pd.DataFrame(grid.cv_results_)[names+['mean_test_score','std_test_score','rank_test_score','mean_fit_time','mean_score_time','std_fit_time','std_score_time']].sort_values(names)\n"
   ]
  },
  {
   "cell_type": "code",
   "execution_count": 10,
   "metadata": {},
   "outputs": [],
   "source": [
    "# Partition training, dev, and test data\n",
    "seasonHist = pd.read_csv('../seasonHist.csv').dropna(subset=['fanPts'])\n",
    "X = seasonHist \\\n",
    "    .loc[:,seasonHist.columns.str.contains('-\\d+') | seasonHist.columns.str.match('fanPts')] \\\n",
    "    .drop('fanPts',axis=1) \\\n",
    "    .fillna(0)\n",
    "y = seasonHist.fanPts\n",
    "\n",
    "X_train_raw, X_test_raw, y_train, y_test = train_test_split(X, y, test_size=0.3, random_state=0)\n",
    "X_dev_raw, X_test_raw, y_dev, y_test = train_test_split(X_test_raw, y_test, test_size=0.5, random_state=0)\n",
    "\n",
    "# Scale\n",
    "ss = preprocessing.StandardScaler()\n",
    "X_train_std = pd.DataFrame(ss.fit_transform(X_train_raw), columns=X_train_raw.columns)\n",
    "X_dev_std = pd.DataFrame(ss.fit_transform(X_dev_raw), columns=X_dev_raw.columns)\n",
    "X_test_std = pd.DataFrame(ss.fit_transform(X_test_raw), columns=X_test_raw.columns)\n",
    "\n",
    "# Manually downselect useful columns\n",
    "keepCols = \\\n",
    "    X.columns.str.contains('fanPts') | \\\n",
    "    X.columns.str.contains('^complete_pass') | \\\n",
    "    X.columns.str.contains('rush_attempt') | \\\n",
    "    X.columns.str.contains('yards_gained') | \\\n",
    "    X.columns.str.contains('^touchdown')\n",
    "\n",
    "X_train_select, X_dev_select, X_test_select = X_train_raw.loc[:,keepCols], X_dev_raw.loc[:,keepCols], X_test_raw.loc[:,keepCols]\n",
    "X_train_std_select, X_dev_std_select, X_test_std_select = X_train_std.loc[:,keepCols], X_dev_std.loc[:,keepCols], X_test_std.loc[:,keepCols]"
   ]
  },
  {
   "cell_type": "markdown",
   "metadata": {},
   "source": [
    "### Multi-layer Perceptron Regression"
   ]
  },
  {
   "cell_type": "markdown",
   "metadata": {},
   "source": [
    "#### Base model"
   ]
  },
  {
   "cell_type": "code",
   "execution_count": 11,
   "metadata": {},
   "outputs": [
    {
     "name": "stdout",
     "output_type": "stream",
     "text": [
      "118 iterations\n",
      "3 layers\n"
     ]
    },
    {
     "data": {
      "image/png": "[encoded data removed]",
      "text/plain": [
       "<Figure size 432x288 with 1 Axes>"
      ]
     },
     "metadata": {
      "needs_background": "light"
     },
     "output_type": "display_data"
    },
    {
     "name": "stdout",
     "output_type": "stream",
     "text": [
      "MAE: 33.2\n",
      "RMSE: 49.3\n",
      "R^2: 0.4\n"
     ]
    },
    {
     "data": {
      "text/plain": [
       "[<matplotlib.lines.Line2D at 0x227d73b3688>]"
      ]
     },
     "execution_count": 11,
     "metadata": {},
     "output_type": "execute_result"
    },
    {
     "data": {
      "image/png": "[encoded data removed]",
      "text/plain": [
       "<Figure size 432x288 with 1 Axes>"
      ]
     },
     "metadata": {
      "needs_background": "light"
     },
     "output_type": "display_data"
    }
   ],
   "source": [
    "X_train, X_dev, y_train, y_dev = X_train_raw, X_dev_raw, y_train, y_dev\n",
    "\n",
    "m = neural_network.MLPRegressor()\n",
    "m.fit(X_train,y_train)\n",
    "y_pred = m.predict(X_dev)\n",
    "\n",
    "print(f'{m.n_iter_} iterations')\n",
    "print(f'{m.n_layers_} layers')\n",
    "\n",
    "printStats(y_dev, y_pred)\n",
    "\n",
    "plt.plot(m.loss_curve_)"
   ]
  },
  {
   "cell_type": "markdown",
   "metadata": {},
   "source": [
    "#### GridSearchCV"
   ]
  },
  {
   "cell_type": "code",
   "execution_count": null,
   "metadata": {},
   "outputs": [],
   "source": [
    "X_train, X_dev, y_train, y_dev = X_train_raw, X_dev_raw, y_train, y_dev\n",
    "\n",
    "inputNodes = len(X_train.columns)\n",
    "outputNodes = len(y_train.shape) if y_train.shape == 2 else 1\n",
    "nSamples = len(X_train)\n",
    "\n",
    "sizes = [\n",
    "    mean([inputNodes,outputNodes]),\n",
    "    (2/3)*inputNodes + outputNodes,\n",
    "    sqrt(inputNodes*outputNodes),\n",
    "] + [nSamples/(x*(inputNodes+outputNodes)) for x in range(2,11)] + [x for x in range(2,21)]\n",
    "\n",
    "params={\n",
    "    'activation':['relu'],#['identity','logistic','tanh','relu'],\n",
    "    'solver':['adam'],#['lbfgs','adam'],\n",
    "    'hidden_layer_sizes': list(set(map(int, sizes))),\n",
    "    'alpha':[10**x for x in range(-5,1)],\n",
    "}\n",
    "\n",
    "grid = GridSearchCV(\n",
    "    neural_network.MLPRegressor(warm_start=False,random_state=0),\n",
    "    params,\n",
    "    n_jobs = -1,\n",
    "    verbose = 10,\n",
    "    cv = 5\n",
    ").fit(X_train,y_train)\n",
    "\n",
    "print(grid.best_params_)\n",
    "\n",
    "m = neural_network.MLPRegressor(**grid.best_params_)\n",
    "m.fit(X_train,y_train)\n",
    "y_pred = m.predict(X_dev)\n",
    "\n",
    "print(f'{m.n_iter_} iterations')\n",
    "print(f'{m.n_layers_} layers')\n",
    "\n",
    "printStats(y_dev, y_pred)\n",
    "\n",
    "plt.plot(m.loss_curve_)\n",
    "plt.show()\n",
    "\n",
    "cvGrid(params).to_csv('raw.csv')"
   ]
  },
  {
   "cell_type": "markdown",
   "metadata": {},
   "source": [
    "#### GridSearchCV, standardized"
   ]
  },
  {
   "cell_type": "code",
   "execution_count": 15,
   "metadata": {},
   "outputs": [
    {
     "name": "stdout",
     "output_type": "stream",
     "text": [
      "Fitting 5 folds for each of 156 candidates, totalling 780 fits\n"
     ]
    },
    {
     "name": "stderr",
     "output_type": "stream",
     "text": [
      "[Parallel(n_jobs=-1)]: Using backend LokyBackend with 8 concurrent workers.\n",
      "[Parallel(n_jobs=-1)]: Done   2 tasks      | elapsed:    9.5s\n",
      "[Parallel(n_jobs=-1)]: Done   9 tasks      | elapsed:   16.8s\n",
      "[Parallel(n_jobs=-1)]: Done  16 tasks      | elapsed:   18.3s\n",
      "[Parallel(n_jobs=-1)]: Done  25 tasks      | elapsed:   31.8s\n",
      "[Parallel(n_jobs=-1)]: Done  34 tasks      | elapsed:   42.9s\n",
      "[Parallel(n_jobs=-1)]: Done  45 tasks      | elapsed:   53.3s\n",
      "[Parallel(n_jobs=-1)]: Done  56 tasks      | elapsed:  1.1min\n",
      "[Parallel(n_jobs=-1)]: Done  69 tasks      | elapsed:  1.4min\n",
      "[Parallel(n_jobs=-1)]: Done  82 tasks      | elapsed:  1.7min\n",
      "[Parallel(n_jobs=-1)]: Done  97 tasks      | elapsed:  2.1min\n",
      "[Parallel(n_jobs=-1)]: Done 112 tasks      | elapsed:  2.5min\n",
      "[Parallel(n_jobs=-1)]: Done 129 tasks      | elapsed:  2.9min\n",
      "[Parallel(n_jobs=-1)]: Done 146 tasks      | elapsed:  3.1min\n",
      "[Parallel(n_jobs=-1)]: Done 165 tasks      | elapsed:  3.3min\n",
      "[Parallel(n_jobs=-1)]: Done 184 tasks      | elapsed:  3.6min\n",
      "[Parallel(n_jobs=-1)]: Done 205 tasks      | elapsed:  3.9min\n",
      "[Parallel(n_jobs=-1)]: Done 226 tasks      | elapsed:  4.3min\n",
      "[Parallel(n_jobs=-1)]: Done 249 tasks      | elapsed:  4.9min\n",
      "[Parallel(n_jobs=-1)]: Done 272 tasks      | elapsed:  5.4min\n",
      "[Parallel(n_jobs=-1)]: Done 297 tasks      | elapsed:  5.7min\n",
      "[Parallel(n_jobs=-1)]: Done 322 tasks      | elapsed:  6.2min\n",
      "[Parallel(n_jobs=-1)]: Done 349 tasks      | elapsed:  6.7min\n",
      "[Parallel(n_jobs=-1)]: Done 376 tasks      | elapsed:  7.4min\n",
      "[Parallel(n_jobs=-1)]: Done 405 tasks      | elapsed:  8.0min\n",
      "[Parallel(n_jobs=-1)]: Done 434 tasks      | elapsed:  8.4min\n",
      "[Parallel(n_jobs=-1)]: Done 465 tasks      | elapsed:  9.0min\n",
      "[Parallel(n_jobs=-1)]: Done 496 tasks      | elapsed:  9.7min\n",
      "[Parallel(n_jobs=-1)]: Done 529 tasks      | elapsed: 10.5min\n",
      "[Parallel(n_jobs=-1)]: Done 562 tasks      | elapsed: 10.9min\n",
      "[Parallel(n_jobs=-1)]: Done 597 tasks      | elapsed: 11.6min\n",
      "[Parallel(n_jobs=-1)]: Done 632 tasks      | elapsed: 12.5min\n",
      "[Parallel(n_jobs=-1)]: Done 669 tasks      | elapsed: 13.2min\n",
      "[Parallel(n_jobs=-1)]: Done 706 tasks      | elapsed: 13.8min\n",
      "[Parallel(n_jobs=-1)]: Done 745 tasks      | elapsed: 14.6min\n",
      "[Parallel(n_jobs=-1)]: Done 780 out of 780 | elapsed: 15.5min finished\n"
     ]
    },
    {
     "name": "stdout",
     "output_type": "stream",
     "text": [
      "{'activation': 'relu', 'alpha': 1, 'hidden_layer_sizes': 30, 'solver': 'adam'}\n"
     ]
    },
    {
     "name": "stderr",
     "output_type": "stream",
     "text": [
      "C:\\Users\\mrkawa\\Anaconda3\\lib\\site-packages\\sklearn\\neural_network\\_multilayer_perceptron.py:571: ConvergenceWarning: Stochastic Optimizer: Maximum iterations (200) reached and the optimization hasn't converged yet.\n",
      "  % self.max_iter, ConvergenceWarning)\n"
     ]
    }
   ],
   "source": [
    "X_train, X_dev, y_train, y_dev = X_train_std, X_dev_std, y_train, y_dev\n",
    "\n",
    "inputNodes = len(X_train.columns)\n",
    "outputNodes = len(y_train.shape) if y_train.shape == 2 else 1\n",
    "nSamples = len(X_train)\n",
    "\n",
    "sizes = [\n",
    "    mean([inputNodes,outputNodes]),\n",
    "    (2/3)*inputNodes + outputNodes,\n",
    "    sqrt(inputNodes*outputNodes),\n",
    "] + [nSamples/(x*(inputNodes+outputNodes)) for x in range(2,11)] + [x for x in range(2,21)]\n",
    "\n",
    "params={\n",
    "    'activation':['relu'],#['identity','logistic','tanh','relu'],\n",
    "    'solver':['adam'],#['lbfgs','adam'],\n",
    "    'hidden_layer_sizes': list(set(map(int, sizes))),\n",
    "    'alpha':[10**x for x in range(-5,1)],\n",
    "}\n",
    "\n",
    "grid = GridSearchCV(\n",
    "    neural_network.MLPRegressor(warm_start=False,random_state=0),\n",
    "    params,\n",
    "    n_jobs = -1,\n",
    "    verbose = 10,\n",
    "    cv = 5\n",
    ").fit(X_train,y_train)\n",
    "\n",
    "print(grid.best_params_)\n",
    "\n",
    "m = neural_network.MLPRegressor(**grid.best_params_)\n",
    "m.fit(X_train,y_train)\n",
    "y_pred = m.predict(X_dev)\n",
    "\n",
    "print(f'{m.n_iter_} iterations')\n",
    "print(f'{m.n_layers_} layers')\n",
    "\n",
    "printStats(y_dev, y_pred)\n",
    "\n",
    "plt.plot(m.loss_curve_)\n",
    "plt.show()\n",
    "\n",
    "cvGrid(params).to_csv('raw.csv')"
   ]
  },
  {
   "cell_type": "markdown",
   "metadata": {},
   "source": [
    "#### GridSearchCV, standardized, hand-selected features"
   ]
  },
  {
   "cell_type": "code",
   "execution_count": null,
   "metadata": {},
   "outputs": [],
   "source": [
    "X_train, X_dev, y_train, y_dev = X_train_std_select, X_dev_std_select, y_train, y_dev\n",
    "\n",
    "inputNodes = len(X_train.columns)\n",
    "outputNodes = len(y_train.shape) if y_train.shape == 2 else 1\n",
    "nSamples = len(X_train)\n",
    "\n",
    "sizes = [\n",
    "    mean([inputNodes,outputNodes]),\n",
    "    (2/3)*inputNodes + outputNodes,\n",
    "    sqrt(inputNodes*outputNodes),\n",
    "] + [nSamples/(x*(inputNodes+outputNodes)) for x in range(2,11)] + [x for x in range(2,21)]\n",
    "\n",
    "params={\n",
    "    'activation':['relu'],#['identity','logistic','tanh','relu'],\n",
    "    'solver':['adam'],#['lbfgs','adam'],\n",
    "    'hidden_layer_sizes': list(set(map(int, sizes))),\n",
    "    'alpha':[10**x for x in range(-5,1)],\n",
    "}\n",
    "\n",
    "grid = GridSearchCV(\n",
    "    neural_network.MLPRegressor(warm_start=False,random_state=0),\n",
    "    params,\n",
    "    n_jobs = -1,\n",
    "    verbose = 10,\n",
    "    cv = 5\n",
    ").fit(X_train,y_train)\n",
    "\n",
    "print(grid.best_params_)\n",
    "\n",
    "m = neural_network.MLPRegressor(**grid.best_params_)\n",
    "m.fit(X_train,y_train)\n",
    "y_pred = m.predict(X_dev)\n",
    "\n",
    "print(f'{m.n_iter_} iterations')\n",
    "print(f'{m.n_layers_} layers')\n",
    "\n",
    "printStats(y_dev, y_pred)\n",
    "\n",
    "plt.plot(m.loss_curve_)\n",
    "plt.show()\n",
    "\n",
    "cvGrid(params).to_csv('std.csv')"
   ]
  }
 ],
 "metadata": {
  "kernelspec": {
   "display_name": "Python 3",
   "language": "python",
   "name": "python3"
  },
  "language_info": {
   "codemirror_mode": {
    "name": "ipython",
    "version": 3
   },
   "file_extension": ".py",
   "mimetype": "text/x-python",
   "name": "python",
   "nbconvert_exporter": "python",
   "pygments_lexer": "ipython3",
   "version": "3.7.6"
  }
 },
 "nbformat": 4,
 "nbformat_minor": 4
}
