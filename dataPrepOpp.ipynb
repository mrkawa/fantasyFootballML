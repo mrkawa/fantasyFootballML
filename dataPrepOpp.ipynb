{
 "cells": [
  {
   "cell_type": "code",
   "execution_count": 268,
   "metadata": {},
   "outputs": [],
   "source": [
    "import pandas as pd\n",
    "import numpy as np\n",
    "import matplotlib.pyplot as plt\n",
    "import os, sys\n",
    "import re\n",
    "from datetime import date\n",
    "from sklearn.model_selection import train_test_split\n",
    "\n",
    "pd.set_option(\"display.max_rows\", 100, \"display.max_columns\", 100)\n",
    "pd.set_option('display.max_colwidth', None)\n",
    "pd.set_option('display.float_format', lambda x: '%.3f' % x)\n",
    "\n",
    "def p(s):\n",
    "    print(s)\n",
    "    \n",
    "pd.DataFrame.len = pd.Index.len = lambda x: print(len(x))"
   ]
  },
  {
   "cell_type": "code",
   "execution_count": 269,
   "metadata": {},
   "outputs": [],
   "source": [
    "# Read raw data - from local file if available, else from internet and write to local file\n",
    "if os.path.exists('data/data.csv.gz'):\n",
    "    dfFull = pd.read_csv('data/data.csv.gz', compression='gzip', index_col=0, low_memory=False)\n",
    "elif os.path.exists('../data/data.csv.gz'):\n",
    "    dfFull = pd.read_csv('../data/data.csv.gz', compression='gzip', index_col=0, low_memory=False)\n",
    "else:\n",
    "    YEARS = np.arange(1999,date.today().year)\n",
    "    dfFull = pd.DataFrame()\n",
    "    for i in YEARS:\n",
    "        sys.stdout.write(f'{i} \\r'); sys.stdout.flush()\n",
    "        iData = pd.read_csv('https://github.com/guga31bb/nflfastR-data/blob/master/data/' \\\n",
    "                             'play_by_play_' + str(i) + '.csv.gz?raw=True',\n",
    "                             compression='gzip', low_memory=False)\n",
    "        dfFull = dfFull.append(iData, sort=True)\n",
    "\n",
    "    dfFull.reset_index(drop=True, inplace=True)\n",
    "    dfFull.to_csv('../data/data.csv.gz', compression='gzip', low_memory=False)"
   ]
  },
  {
   "cell_type": "code",
   "execution_count": 270,
   "metadata": {},
   "outputs": [],
   "source": [
    "# Lookup table with all features of the raw data\n",
    "featureInfo = pd.read_csv('features.csv').iloc[:,0:-9]\n",
    "featureInfo = featureInfo[featureInfo.Use==1]\n",
    "\n",
    "df = dfFull[['season'] + [x for x in featureInfo.Field]]\n",
    "    \n",
    "def lookup(s):\n",
    "    return featureInfo[featureInfo.Field.str.contains(s)]"
   ]
  },
  {
   "cell_type": "code",
   "execution_count": 271,
   "metadata": {},
   "outputs": [],
   "source": [
    "# # Update legacy player IDs when applicable\n",
    "# legacyIds = pd.read_csv('data/legacy_id_map.csv')\n",
    "\n",
    "# keys = [x[0] for x in legacyIds.drop(['full_name'],axis=1).values]\n",
    "# vals = [x[1] for x in legacyIds.drop(['full_name'],axis=1).values]\n",
    "# legacyIdDict = {keys[i]: vals[i] for i in range(len(keys))}\n",
    "\n",
    "# df.loc[:,'passer_player_id'] = [legacyIdDict[x] if x in legacyIdDict.keys() else x for x in df['passer_player_id']]\n",
    "# df.loc[:,'rusher_player_id'] = [legacyIdDict[x] if x in legacyIdDict.keys() else x for x in df['rusher_player_id']]\n",
    "# df.loc[:,'receiver_player_id'] = [legacyIdDict[x] if x in legacyIdDict.keys() else x for x in df['receiver_player_id']]"
   ]
  },
  {
   "cell_type": "code",
   "execution_count": 272,
   "metadata": {},
   "outputs": [],
   "source": [
    "passStats = ['season'] + list(featureInfo[featureInfo['Pass']==1].Field)\n",
    "rushStats = ['season'] + list(featureInfo[featureInfo['Rush']==1].Field)\n",
    "recStats = ['season'] + list(featureInfo[featureInfo['Rec']==1].Field)\n",
    "\n",
    "dfPass = df.dropna(subset=['passer_player_name'])[passStats].rename(columns={'passer_player_name':'player_name','passer_player_id':'player_id'})\n",
    "dfRush = df.dropna(subset=['rusher_player_name'])[rushStats].rename(columns={'rusher_player_name':'player_name','rusher_player_id':'player_id'})\n",
    "dfRec = df.dropna(subset=['receiver_player_name'])[recStats].rename(columns={'receiver_player_name':'player_name','receiver_player_id':'player_id'})\n",
    "\n",
    "plays = pd.concat([dfPass,dfRec,dfRush]).fillna(0)"
   ]
  },
  {
   "cell_type": "code",
   "execution_count": 273,
   "metadata": {},
   "outputs": [],
   "source": [
    "# Calculate useful stats\n",
    "plays.loc[:,'pass_yards'] = plays.pass_attempt * plays.yards_gained\n",
    "plays.loc[:,'rush_yards'] = plays.rush_attempt * plays.yards_gained\n",
    "plays.loc[:,'rec_yards'] = plays.pass_attempt * plays.yards_gained"
   ]
  },
  {
   "cell_type": "markdown",
   "metadata": {},
   "source": [
    "# Position tags"
   ]
  },
  {
   "cell_type": "code",
   "execution_count": 274,
   "metadata": {},
   "outputs": [],
   "source": [
    "# Read in position data\n",
    "if os.path.exists('rosterNamed.csv'):\n",
    "    roster = pd.read_csv('data/rosterNamed.csv')\n",
    "else:\n",
    "    if os.path.exists('data/roster.csv.gz'):\n",
    "        roster = pd.read_csv('data/roster.csv.gz', compression='gzip', index_col=0)\n",
    "    else:\n",
    "        roster = pd.read_csv('https://raw.githubusercontent.com/guga31bb/nflfastR-data/master/roster-data/roster.csv', low_memory=False)\n",
    "        roster.to_csv('data/roster.csv.gz', compression='gzip')\n",
    "\n",
    "    roster = roster[roster['teamPlayers.positionGroup'].apply(lambda x: any([y in x for y in ['QB','RB','WR','TE']]))].reset_index(drop=True)\n",
    "    \n",
    "    if not 'player_name' in roster.columns:\n",
    "        roster.insert(0,'player_name','')\n",
    "\n",
    "    i = 0\n",
    "    print(len(allStats['player_name'].unique()))\n",
    "    for name in allStats['player_name'].unique():\n",
    "        i+=1\n",
    "        sys.stdout.write(f'{i} \\r'); sys.stdout.flush()\n",
    "        if '.' in name:\n",
    "            first = name.split('.')[0]\n",
    "            last = name.split('.')[1]\n",
    "            roster.loc[roster['teamPlayers.firstName'].str.startswith(first) & roster['teamPlayers.lastName'].str.match(last),'player_name'] = first+'.'+last\n",
    "        elif ' ' in name:\n",
    "            first = name.split(' ')[0]\n",
    "            last = name.split(' ')[1]\n",
    "            roster.loc[roster['teamPlayers.firstName'].str.startswith(first) & roster['teamPlayers.lastName'].str.match(last),'player_name'] = first+' '+last\n",
    "        else:\n",
    "            first = re.findall('[A-Z][^A-Z]*', name)[0]\n",
    "            last = re.findall('[A-Z][^A-Z]*', name)[-1]\n",
    "            roster.loc[roster['teamPlayers.firstName'].str.startswith(first) & roster['teamPlayers.lastName'].str.match(last),'player_name'] = first+last\n",
    "\n",
    "        roster.to_csv('data/rosterNamed.csv',index=False)"
   ]
  },
  {
   "cell_type": "code",
   "execution_count": 275,
   "metadata": {},
   "outputs": [],
   "source": [
    "# Lookups\n",
    "posMap = {roster['player_name'][i]: roster['teamPlayers.positionGroup'][i] for i in range(len(roster))}\n",
    "\n",
    "labeled = plays.copy()\n",
    "\n",
    "if 'pos' not in labeled.columns:\n",
    "    labeled.insert(1,'pos','')\n",
    "    \n",
    "    \n",
    "labeled.loc[:,'pos'] = [posMap[x] if x in posMap.keys() else np.nan for x in plays.player_name]\n",
    "    \n",
    "labeled = labeled.dropna(subset=['pos'])"
   ]
  },
  {
   "cell_type": "markdown",
   "metadata": {},
   "source": [
    "## Opponent data"
   ]
  },
  {
   "cell_type": "code",
   "execution_count": 353,
   "metadata": {
    "scrolled": false
   },
   "outputs": [],
   "source": [
    "allowed = labeled.groupby(['season','defteam','pos']).sum().drop('play_id', axis=1).reset_index()\n",
    "\n",
    "# Calculate fantasy points\n",
    "if not 'fanPts' in allowed.columns:\n",
    "    allowed.insert(3,'fanPts',0)\n",
    "\n",
    "ppr = 0\n",
    "allowed.fanPts = allowed.yards_gained/10 \\\n",
    "                        + 6 * (allowed.pass_touchdown + allowed.rush_touchdown) \\\n",
    "                        - 2 * allowed.fumble \\\n",
    "                        + ppr * allowed.complete_pass\n",
    "\n",
    "allowed.loc[allowed['pos']=='QB','fanPts'] = allowed.yards_gained/25 \\\n",
    "                        + 4 * allowed.pass_touchdown \\\n",
    "                        + 6 * allowed.rush_touchdown \\\n",
    "                        - 2 * allowed.fumble \\\n",
    "                        - 2 * allowed.interception\n",
    "\n",
    "matchups = labeled.groupby(['season','posteam','defteam']).sum()\n",
    "\n",
    "allowed = matchups.reset_index().iloc[:,:3].merge(allowed).groupby(['season','posteam','pos']).sum()\n",
    "allowed = allowed.loc[:,['fanPts']]#,'complete_pass','pass_touchdown','air_yards','yards_gained','fumble','interception','touchdown','yards_after_catch','rush_touchdown','pass_yards','rush_yards','rec_yards']]"
   ]
  },
  {
   "cell_type": "markdown",
   "metadata": {},
   "source": [
    "## Season total stats"
   ]
  },
  {
   "cell_type": "code",
   "execution_count": 354,
   "metadata": {},
   "outputs": [
    {
     "data": {
      "text/plain": [
       "Index(['season', 'player_name', 'posteam', 'fanPts', 'pos', 'complete_pass',\n",
       "       'pass_attempt', 'pass_touchdown', 'qb_dropback', 'qb_hit',\n",
       "       'qb_scramble', 'sack', 'tackled_for_loss', 'air_yards', 'yards_gained',\n",
       "       'fumble', 'interception', 'touchdown', 'yards_after_catch',\n",
       "       'rush_attempt', 'rush_touchdown', 'pass_yards', 'rush_yards',\n",
       "       'rec_yards', 'fanPts_oppAllowTotal'],\n",
       "      dtype='object')"
      ]
     },
     "execution_count": 354,
     "metadata": {},
     "output_type": "execute_result"
    }
   ],
   "source": [
    "# Sum all metrics per player per season\n",
    "seasonTotals = labeled.groupby(['season','player_name','posteam','pos']).sum().drop(['play_id'],axis=1).reset_index()\n",
    "\n",
    "# Calculate fantasy points\n",
    "if not 'fanPts' in seasonTotals.columns:\n",
    "    seasonTotals.insert(3,'fanPts',0)\n",
    "\n",
    "ppr = 0\n",
    "seasonTotals.fanPts = seasonTotals.yards_gained/10 \\\n",
    "                        + 6 * (seasonTotals.pass_touchdown + seasonTotals.rush_touchdown) \\\n",
    "                        - 2 * seasonTotals.fumble \\\n",
    "                        + ppr * seasonTotals.complete_pass\n",
    "\n",
    "seasonTotals.loc[seasonTotals['pos']=='QB','fanPts'] = seasonTotals.yards_gained/25 \\\n",
    "                        + 4 * seasonTotals.pass_touchdown \\\n",
    "                        + 6 * seasonTotals.rush_touchdown \\\n",
    "                        - 2 * seasonTotals.fumble \\\n",
    "                        - 2 * seasonTotals.interception\n",
    "\n",
    "seasonTotals = seasonTotals.merge(allowed.reset_index(), on=['season','posteam','pos'], suffixes=['','_oppAllowTotal'])\n",
    "\n",
    "seasonTotals.columns\n",
    "# seasonTotals.describe().transpose()[['min','max','mean','std']] #df info"
   ]
  },
  {
   "cell_type": "code",
   "execution_count": 355,
   "metadata": {},
   "outputs": [],
   "source": [
    "# Append data from N previous seasons as new columns \n",
    "seasonHist = seasonTotals.copy().set_index(['season','player_name','posteam','pos'])\n",
    "currentYear = 2019\n",
    "lookback = 3\n",
    "for i in range(1,lookback+1):\n",
    "    temp = seasonTotals.copy()\n",
    "    temp = temp[temp.season.isin(range(1999,currentYear-i+1))]\n",
    "    temp['season'] = temp.season+i\n",
    "    seasonHist = seasonHist.join(temp.set_index(['season','player_name','posteam','pos']),how='outer',rsuffix=f'-{i}')\n",
    "\n",
    "seasonHist.to_csv('expanded/seasonHist.csv', index=False)"
   ]
  },
  {
   "cell_type": "markdown",
   "metadata": {},
   "source": [
    "## Game average stats"
   ]
  },
  {
   "cell_type": "code",
   "execution_count": 365,
   "metadata": {},
   "outputs": [
    {
     "data": {
      "text/plain": [
       "Index(['complete_pass', 'pass_attempt', 'pass_touchdown', 'qb_dropback',\n",
       "       'qb_hit', 'qb_scramble', 'sack', 'tackled_for_loss', 'air_yards',\n",
       "       'yards_gained', 'fumble', 'interception', 'touchdown',\n",
       "       'yards_after_catch', 'rush_attempt', 'rush_touchdown', 'pass_yards',\n",
       "       'rush_yards', 'rec_yards'],\n",
       "      dtype='object')"
      ]
     },
     "execution_count": 365,
     "metadata": {},
     "output_type": "execute_result"
    }
   ],
   "source": [
    "# Sum all metrics per player per season\n",
    "gameTotals = labeled.groupby(['season','player_name','posteam','game_id','pos']).sum().drop(['play_id'],axis=1)\n",
    "gameAvgs = gameTotals.groupby(['season','player_name','posteam','pos']).mean()\n",
    "\n",
    "gameAvgs.columns\n",
    "# gameAvgs.describe().transpose()[['min','max','mean','std']] #df info\n",
    "# gameAvgs"
   ]
  },
  {
   "cell_type": "code",
   "execution_count": 366,
   "metadata": {},
   "outputs": [],
   "source": [
    "# Append data from N previous seasons as new columns \n",
    "gameAvgHist = gameAvgs.copy()\n",
    "currentYear = 2019\n",
    "lookback = 3\n",
    "for i in range(1,lookback+1):\n",
    "    temp = gameAvgs.copy().reset_index()\n",
    "    temp = temp[temp.season.isin(range(1999,currentYear-i+1))]\n",
    "    temp['season'] = temp.season+i\n",
    "    gameAvgHist = gameAvgHist.join(temp.set_index(['season','player_name','posteam','pos']),how='outer',rsuffix=f'-{i}')\n",
    "\n",
    "gameAvgHist.to_csv('expanded/gameAvgHist.csv', index=False)"
   ]
  },
  {
   "cell_type": "code",
   "execution_count": 367,
   "metadata": {},
   "outputs": [],
   "source": [
    "# Join game avgs to season total df\n",
    "allStats = seasonHist.join(gameAvgHist, lsuffix='_seasonTotal', rsuffix='_avgPerGame').reset_index()\n",
    "allStats = allStats.dropna(subset=['fanPts'])\n",
    "allStats.to_csv('expanded/allStats.csv', index=False)\n",
    "# allStats"
   ]
  },
  {
   "cell_type": "markdown",
   "metadata": {},
   "source": [
    "## Split into separate files for position"
   ]
  },
  {
   "cell_type": "code",
   "execution_count": 368,
   "metadata": {},
   "outputs": [],
   "source": [
    "featureInfo = pd.read_csv('features.csv').iloc[:,0:-9]\n",
    "featureInfo = featureInfo.loc[featureInfo['Use']==1,:]\n",
    "\n",
    "positions = ['QB','RB','WR','TE']\n",
    "\n",
    "cols = {}\n",
    "cols['QB'] = [x for x in allStats.columns if any([x.startswith(y) for y in featureInfo[featureInfo.Pass == 1].Field.tolist()])]\n",
    "cols['RB'] = [x for x in allStats.columns if any([x.startswith(y) for y in featureInfo[featureInfo.Rush == 1].Field.tolist()])]\n",
    "cols['WR'] = [x for x in allStats.columns if any([x.startswith(y) for y in featureInfo[featureInfo.Rec == 1].Field.tolist()])]\n",
    "cols['TE'] = [x for x in allStats.columns if any([x.startswith(y) for y in featureInfo[featureInfo.Rec == 1].Field.tolist()])]\n",
    "\n",
    "posData = {}\n",
    "for pos in positions:\n",
    "    posData[pos] = allStats.loc[allStats['pos']==pos,cols[pos]+list(allStats.columns[allStats.columns.str.contains('fanPts')])]\n",
    "    posData[pos] = allStats.loc[allStats['pos']==pos,:]\n",
    "    posData[pos].to_csv(f'expanded/{pos}.csv', index=False)"
   ]
  }
 ],
 "metadata": {
  "kernelspec": {
   "display_name": "Python 3",
   "language": "python",
   "name": "python3"
  },
  "language_info": {
   "codemirror_mode": {
    "name": "ipython",
    "version": 3
   },
   "file_extension": ".py",
   "mimetype": "text/x-python",
   "name": "python",
   "nbconvert_exporter": "python",
   "pygments_lexer": "ipython3",
   "version": "3.7.6"
  }
 },
 "nbformat": 4,
 "nbformat_minor": 4
}
